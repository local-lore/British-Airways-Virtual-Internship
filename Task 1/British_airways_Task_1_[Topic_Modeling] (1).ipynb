{
  "nbformat": 4,
  "nbformat_minor": 0,
  "metadata": {
    "colab": {
      "provenance": []
    },
    "kernelspec": {
      "name": "python3",
      "display_name": "Python 3"
    },
    "language_info": {
      "name": "python"
    }
  },
  "cells": [
    {
      "cell_type": "markdown",
      "source": [
        "We will use the data frame obtained in the previous step to work with unstructured data (reviews) and structured data"
      ],
      "metadata": {
        "id": "yWFHmsBi0py1"
      }
    },
    {
      "cell_type": "markdown",
      "source": [
        "##Install required libraries"
      ],
      "metadata": {
        "id": "rbhDjsAn0yCV"
      }
    },
    {
      "cell_type": "code",
      "source": [
        "pip install pyLDAvis"
      ],
      "metadata": {
        "id": "ksxTw0ILDXPl"
      },
      "execution_count": null,
      "outputs": []
    },
    {
      "cell_type": "code",
      "source": [
        "import pandas as pd\n",
        "import matplotlib.pyplot as plt\n",
        "import nltk\n",
        "from nltk.sentiment.vader import SentimentIntensityAnalyzer\n",
        "from nltk.corpus import stopwords\n",
        "from nltk.tokenize import word_tokenize\n",
        "from nltk.stem import WordNetLemmatizer\n",
        "\n",
        "import gensim\n",
        "import spacy\n",
        "import re\n",
        "from gensim import corpora\n",
        "from gensim.models.coherencemodel import CoherenceModel\n",
        "\n",
        "import pickle\n",
        "import pyLDAvis\n",
        "import pyLDAvis.gensim\n",
        "\n",
        "import matplotlib.pyplot as plt\n",
        "import seaborn as sns\n",
        "import plotly.express as px\n",
        "from plotly.subplots import make_subplots\n",
        "import plotly.graph_objects as go\n"
      ],
      "metadata": {
        "id": "0UEdzb3y0qQF"
      },
      "execution_count": 2,
      "outputs": []
    },
    {
      "cell_type": "code",
      "source": [
        "df = pd.read_csv('/content/british_airways_reviews.csv')\n",
        "df.columns"
      ],
      "metadata": {
        "id": "uV7TmnVX3IEc",
        "colab": {
          "base_uri": "https://localhost:8080/"
        },
        "outputId": "30e63595-08ef-4bf7-9b04-28b1981c9f6e"
      },
      "execution_count": 11,
      "outputs": [
        {
          "output_type": "stream",
          "name": "stderr",
          "text": [
            "/usr/local/lib/python3.10/dist-packages/ipykernel/ipkernel.py:283: DeprecationWarning:\n",
            "\n",
            "`should_run_async` will not call `transform_cell` automatically in the future. Please pass the result to `transformed_cell` argument and any exception that happen during thetransform in `preprocessing_exc_tuple` in IPython 7.17 and above.\n",
            "\n"
          ]
        },
        {
          "output_type": "execute_result",
          "data": {
            "text/plain": [
              "Index(['Date', 'Overall Rating', 'Country', 'Impression', 'Verification',\n",
              "       'Review', 'Type Of Traveller', 'Seat Type', 'Route', 'Date Flown',\n",
              "       'Seat Comfort', 'Cabin Staff Service', 'Ground Service',\n",
              "       'Value For Money', 'Recommended', 'Aircraft', 'Food & Beverages',\n",
              "       'Inflight Entertainment', 'Wifi & Connectivity'],\n",
              "      dtype='object')"
            ]
          },
          "metadata": {},
          "execution_count": 11
        }
      ]
    },
    {
      "cell_type": "markdown",
      "source": [
        "Natural Language Toolkit (NLTK) library is one of the most widely used libraries for natural language processing in Python."
      ],
      "metadata": {
        "id": "2zQ2nb8s218X"
      }
    },
    {
      "cell_type": "code",
      "source": [
        "nltk.download('all') #Includes pre-trained models, corpora, and other resources that NLTK uses to perform various NLP tasks."
      ],
      "metadata": {
        "id": "IyN2PNNk2obm",
        "collapsed": true
      },
      "execution_count": null,
      "outputs": []
    },
    {
      "cell_type": "markdown",
      "source": [
        "## Data Visualization"
      ],
      "metadata": {
        "id": "vvF82g9zJS7g"
      }
    },
    {
      "cell_type": "markdown",
      "source": [
        "First, the data is analyzed to count how many entries exist for each country, and this count is organized in a new format. The ten countries with the highest counts are identified and listed. Then, the average overall rating for each country is calculated by grouping the data by country and determining the mean of the \"Overall Rating\" entries. A summary is created by merging the country counts with the average ratings. Finally, a bar chart is generated to visually represent the average overall ratings for the top ten countries, with the count of entries displayed on the bars."
      ],
      "metadata": {
        "id": "9ksEqLpAJfaf"
      }
    },
    {
      "cell_type": "code",
      "source": [
        "country_counts = df['Country'].value_counts().reset_index()\n",
        "top_countries = country_counts.nlargest(11, 'count')['Country']\n",
        "country_rating = df.groupby('Country')['Overall Rating'].mean().reset_index()\n",
        "country_summary = country_counts.merge(country_rating, on='Country').query('Country in @top_countries')\n",
        "country_summary = country_summary[country_summary['Country'].isin(top_countries)]\n",
        "fig = px.bar(country_summary, x='Country', y='Overall Rating', text='count', title='Average Overall Ratings for Top 11 Countries',\n",
        "             labels={'Overall Rating': 'Average Overall Rating', 'Country': 'Country'},\n",
        "             color='Overall Rating', color_continuous_scale=px.colors.sequential.Plasma)\n",
        "fig.show()"
      ],
      "metadata": {
        "colab": {
          "base_uri": "https://localhost:8080/",
          "height": 597
        },
        "id": "oZHf3GCtJm5L",
        "outputId": "09083615-58e7-4a56-bac5-a2101ccb5b17"
      },
      "execution_count": 5,
      "outputs": [
        {
          "output_type": "stream",
          "name": "stderr",
          "text": [
            "/usr/local/lib/python3.10/dist-packages/ipykernel/ipkernel.py:283: DeprecationWarning: `should_run_async` will not call `transform_cell` automatically in the future. Please pass the result to `transformed_cell` argument and any exception that happen during thetransform in `preprocessing_exc_tuple` in IPython 7.17 and above.\n",
            "  and should_run_async(code)\n"
          ]
        },
        {
          "output_type": "display_data",
          "data": {
            "text/html": [
              "<html>\n",
              "<head><meta charset=\"utf-8\" /></head>\n",
              "<body>\n",
              "    <div>            <script src=\"https://cdnjs.cloudflare.com/ajax/libs/mathjax/2.7.5/MathJax.js?config=TeX-AMS-MML_SVG\"></script><script type=\"text/javascript\">if (window.MathJax && window.MathJax.Hub && window.MathJax.Hub.Config) {window.MathJax.Hub.Config({SVG: {font: \"STIX-Web\"}});}</script>                <script type=\"text/javascript\">window.PlotlyConfig = {MathJaxConfig: 'local'};</script>\n",
              "        <script charset=\"utf-8\" src=\"https://cdn.plot.ly/plotly-2.35.2.min.js\"></script>                <div id=\"6e92c58d-9377-4d6d-b5ae-a1b5b25fd752\" class=\"plotly-graph-div\" style=\"height:525px; width:100%;\"></div>            <script type=\"text/javascript\">                                    window.PLOTLYENV=window.PLOTLYENV || {};                                    if (document.getElementById(\"6e92c58d-9377-4d6d-b5ae-a1b5b25fd752\")) {                    Plotly.newPlot(                        \"6e92c58d-9377-4d6d-b5ae-a1b5b25fd752\",                        [{\"alignmentgroup\":\"True\",\"hovertemplate\":\"Country=%{x}\\u003cbr\\u003eAverage Overall Rating=%{marker.color}\\u003cbr\\u003ecount=%{text}\\u003cextra\\u003e\\u003c\\u002fextra\\u003e\",\"legendgroup\":\"\",\"marker\":{\"color\":[4.396797153024911,2.531791907514451,3.5135135135135136,2.6666666666666665,3.764705882352941,1.8823529411764706,2.4,2.0,4.5,4.888888888888889,3.3333333333333335],\"coloraxis\":\"coloraxis\",\"pattern\":{\"shape\":\"\"}},\"name\":\"\",\"offsetgroup\":\"\",\"orientation\":\"v\",\"showlegend\":false,\"text\":[562.0,173.0,37.0,33.0,17.0,17.0,10.0,10.0,10.0,9.0,9.0],\"textposition\":\"auto\",\"x\":[\"United Kingdom\",\"United States\",\"Canada\",\"Australia\",\"South Africa\",\"Germany\",\"Italy\",\"Switzerland\",\"Ireland\",\"Netherlands\",\"United Arab Emirates\"],\"xaxis\":\"x\",\"y\":[4.396797153024911,2.531791907514451,3.5135135135135136,2.6666666666666665,3.764705882352941,1.8823529411764706,2.4,2.0,4.5,4.888888888888889,3.3333333333333335],\"yaxis\":\"y\",\"type\":\"bar\"}],                        {\"template\":{\"data\":{\"histogram2dcontour\":[{\"type\":\"histogram2dcontour\",\"colorbar\":{\"outlinewidth\":0,\"ticks\":\"\"},\"colorscale\":[[0.0,\"#0d0887\"],[0.1111111111111111,\"#46039f\"],[0.2222222222222222,\"#7201a8\"],[0.3333333333333333,\"#9c179e\"],[0.4444444444444444,\"#bd3786\"],[0.5555555555555556,\"#d8576b\"],[0.6666666666666666,\"#ed7953\"],[0.7777777777777778,\"#fb9f3a\"],[0.8888888888888888,\"#fdca26\"],[1.0,\"#f0f921\"]]}],\"choropleth\":[{\"type\":\"choropleth\",\"colorbar\":{\"outlinewidth\":0,\"ticks\":\"\"}}],\"histogram2d\":[{\"type\":\"histogram2d\",\"colorbar\":{\"outlinewidth\":0,\"ticks\":\"\"},\"colorscale\":[[0.0,\"#0d0887\"],[0.1111111111111111,\"#46039f\"],[0.2222222222222222,\"#7201a8\"],[0.3333333333333333,\"#9c179e\"],[0.4444444444444444,\"#bd3786\"],[0.5555555555555556,\"#d8576b\"],[0.6666666666666666,\"#ed7953\"],[0.7777777777777778,\"#fb9f3a\"],[0.8888888888888888,\"#fdca26\"],[1.0,\"#f0f921\"]]}],\"heatmap\":[{\"type\":\"heatmap\",\"colorbar\":{\"outlinewidth\":0,\"ticks\":\"\"},\"colorscale\":[[0.0,\"#0d0887\"],[0.1111111111111111,\"#46039f\"],[0.2222222222222222,\"#7201a8\"],[0.3333333333333333,\"#9c179e\"],[0.4444444444444444,\"#bd3786\"],[0.5555555555555556,\"#d8576b\"],[0.6666666666666666,\"#ed7953\"],[0.7777777777777778,\"#fb9f3a\"],[0.8888888888888888,\"#fdca26\"],[1.0,\"#f0f921\"]]}],\"heatmapgl\":[{\"type\":\"heatmapgl\",\"colorbar\":{\"outlinewidth\":0,\"ticks\":\"\"},\"colorscale\":[[0.0,\"#0d0887\"],[0.1111111111111111,\"#46039f\"],[0.2222222222222222,\"#7201a8\"],[0.3333333333333333,\"#9c179e\"],[0.4444444444444444,\"#bd3786\"],[0.5555555555555556,\"#d8576b\"],[0.6666666666666666,\"#ed7953\"],[0.7777777777777778,\"#fb9f3a\"],[0.8888888888888888,\"#fdca26\"],[1.0,\"#f0f921\"]]}],\"contourcarpet\":[{\"type\":\"contourcarpet\",\"colorbar\":{\"outlinewidth\":0,\"ticks\":\"\"}}],\"contour\":[{\"type\":\"contour\",\"colorbar\":{\"outlinewidth\":0,\"ticks\":\"\"},\"colorscale\":[[0.0,\"#0d0887\"],[0.1111111111111111,\"#46039f\"],[0.2222222222222222,\"#7201a8\"],[0.3333333333333333,\"#9c179e\"],[0.4444444444444444,\"#bd3786\"],[0.5555555555555556,\"#d8576b\"],[0.6666666666666666,\"#ed7953\"],[0.7777777777777778,\"#fb9f3a\"],[0.8888888888888888,\"#fdca26\"],[1.0,\"#f0f921\"]]}],\"surface\":[{\"type\":\"surface\",\"colorbar\":{\"outlinewidth\":0,\"ticks\":\"\"},\"colorscale\":[[0.0,\"#0d0887\"],[0.1111111111111111,\"#46039f\"],[0.2222222222222222,\"#7201a8\"],[0.3333333333333333,\"#9c179e\"],[0.4444444444444444,\"#bd3786\"],[0.5555555555555556,\"#d8576b\"],[0.6666666666666666,\"#ed7953\"],[0.7777777777777778,\"#fb9f3a\"],[0.8888888888888888,\"#fdca26\"],[1.0,\"#f0f921\"]]}],\"mesh3d\":[{\"type\":\"mesh3d\",\"colorbar\":{\"outlinewidth\":0,\"ticks\":\"\"}}],\"scatter\":[{\"fillpattern\":{\"fillmode\":\"overlay\",\"size\":10,\"solidity\":0.2},\"type\":\"scatter\"}],\"parcoords\":[{\"type\":\"parcoords\",\"line\":{\"colorbar\":{\"outlinewidth\":0,\"ticks\":\"\"}}}],\"scatterpolargl\":[{\"type\":\"scatterpolargl\",\"marker\":{\"colorbar\":{\"outlinewidth\":0,\"ticks\":\"\"}}}],\"bar\":[{\"error_x\":{\"color\":\"#2a3f5f\"},\"error_y\":{\"color\":\"#2a3f5f\"},\"marker\":{\"line\":{\"color\":\"#E5ECF6\",\"width\":0.5},\"pattern\":{\"fillmode\":\"overlay\",\"size\":10,\"solidity\":0.2}},\"type\":\"bar\"}],\"scattergeo\":[{\"type\":\"scattergeo\",\"marker\":{\"colorbar\":{\"outlinewidth\":0,\"ticks\":\"\"}}}],\"scatterpolar\":[{\"type\":\"scatterpolar\",\"marker\":{\"colorbar\":{\"outlinewidth\":0,\"ticks\":\"\"}}}],\"histogram\":[{\"marker\":{\"pattern\":{\"fillmode\":\"overlay\",\"size\":10,\"solidity\":0.2}},\"type\":\"histogram\"}],\"scattergl\":[{\"type\":\"scattergl\",\"marker\":{\"colorbar\":{\"outlinewidth\":0,\"ticks\":\"\"}}}],\"scatter3d\":[{\"type\":\"scatter3d\",\"line\":{\"colorbar\":{\"outlinewidth\":0,\"ticks\":\"\"}},\"marker\":{\"colorbar\":{\"outlinewidth\":0,\"ticks\":\"\"}}}],\"scattermapbox\":[{\"type\":\"scattermapbox\",\"marker\":{\"colorbar\":{\"outlinewidth\":0,\"ticks\":\"\"}}}],\"scatterternary\":[{\"type\":\"scatterternary\",\"marker\":{\"colorbar\":{\"outlinewidth\":0,\"ticks\":\"\"}}}],\"scattercarpet\":[{\"type\":\"scattercarpet\",\"marker\":{\"colorbar\":{\"outlinewidth\":0,\"ticks\":\"\"}}}],\"carpet\":[{\"aaxis\":{\"endlinecolor\":\"#2a3f5f\",\"gridcolor\":\"white\",\"linecolor\":\"white\",\"minorgridcolor\":\"white\",\"startlinecolor\":\"#2a3f5f\"},\"baxis\":{\"endlinecolor\":\"#2a3f5f\",\"gridcolor\":\"white\",\"linecolor\":\"white\",\"minorgridcolor\":\"white\",\"startlinecolor\":\"#2a3f5f\"},\"type\":\"carpet\"}],\"table\":[{\"cells\":{\"fill\":{\"color\":\"#EBF0F8\"},\"line\":{\"color\":\"white\"}},\"header\":{\"fill\":{\"color\":\"#C8D4E3\"},\"line\":{\"color\":\"white\"}},\"type\":\"table\"}],\"barpolar\":[{\"marker\":{\"line\":{\"color\":\"#E5ECF6\",\"width\":0.5},\"pattern\":{\"fillmode\":\"overlay\",\"size\":10,\"solidity\":0.2}},\"type\":\"barpolar\"}],\"pie\":[{\"automargin\":true,\"type\":\"pie\"}]},\"layout\":{\"autotypenumbers\":\"strict\",\"colorway\":[\"#636efa\",\"#EF553B\",\"#00cc96\",\"#ab63fa\",\"#FFA15A\",\"#19d3f3\",\"#FF6692\",\"#B6E880\",\"#FF97FF\",\"#FECB52\"],\"font\":{\"color\":\"#2a3f5f\"},\"hovermode\":\"closest\",\"hoverlabel\":{\"align\":\"left\"},\"paper_bgcolor\":\"white\",\"plot_bgcolor\":\"#E5ECF6\",\"polar\":{\"bgcolor\":\"#E5ECF6\",\"angularaxis\":{\"gridcolor\":\"white\",\"linecolor\":\"white\",\"ticks\":\"\"},\"radialaxis\":{\"gridcolor\":\"white\",\"linecolor\":\"white\",\"ticks\":\"\"}},\"ternary\":{\"bgcolor\":\"#E5ECF6\",\"aaxis\":{\"gridcolor\":\"white\",\"linecolor\":\"white\",\"ticks\":\"\"},\"baxis\":{\"gridcolor\":\"white\",\"linecolor\":\"white\",\"ticks\":\"\"},\"caxis\":{\"gridcolor\":\"white\",\"linecolor\":\"white\",\"ticks\":\"\"}},\"coloraxis\":{\"colorbar\":{\"outlinewidth\":0,\"ticks\":\"\"}},\"colorscale\":{\"sequential\":[[0.0,\"#0d0887\"],[0.1111111111111111,\"#46039f\"],[0.2222222222222222,\"#7201a8\"],[0.3333333333333333,\"#9c179e\"],[0.4444444444444444,\"#bd3786\"],[0.5555555555555556,\"#d8576b\"],[0.6666666666666666,\"#ed7953\"],[0.7777777777777778,\"#fb9f3a\"],[0.8888888888888888,\"#fdca26\"],[1.0,\"#f0f921\"]],\"sequentialminus\":[[0.0,\"#0d0887\"],[0.1111111111111111,\"#46039f\"],[0.2222222222222222,\"#7201a8\"],[0.3333333333333333,\"#9c179e\"],[0.4444444444444444,\"#bd3786\"],[0.5555555555555556,\"#d8576b\"],[0.6666666666666666,\"#ed7953\"],[0.7777777777777778,\"#fb9f3a\"],[0.8888888888888888,\"#fdca26\"],[1.0,\"#f0f921\"]],\"diverging\":[[0,\"#8e0152\"],[0.1,\"#c51b7d\"],[0.2,\"#de77ae\"],[0.3,\"#f1b6da\"],[0.4,\"#fde0ef\"],[0.5,\"#f7f7f7\"],[0.6,\"#e6f5d0\"],[0.7,\"#b8e186\"],[0.8,\"#7fbc41\"],[0.9,\"#4d9221\"],[1,\"#276419\"]]},\"xaxis\":{\"gridcolor\":\"white\",\"linecolor\":\"white\",\"ticks\":\"\",\"title\":{\"standoff\":15},\"zerolinecolor\":\"white\",\"automargin\":true,\"zerolinewidth\":2},\"yaxis\":{\"gridcolor\":\"white\",\"linecolor\":\"white\",\"ticks\":\"\",\"title\":{\"standoff\":15},\"zerolinecolor\":\"white\",\"automargin\":true,\"zerolinewidth\":2},\"scene\":{\"xaxis\":{\"backgroundcolor\":\"#E5ECF6\",\"gridcolor\":\"white\",\"linecolor\":\"white\",\"showbackground\":true,\"ticks\":\"\",\"zerolinecolor\":\"white\",\"gridwidth\":2},\"yaxis\":{\"backgroundcolor\":\"#E5ECF6\",\"gridcolor\":\"white\",\"linecolor\":\"white\",\"showbackground\":true,\"ticks\":\"\",\"zerolinecolor\":\"white\",\"gridwidth\":2},\"zaxis\":{\"backgroundcolor\":\"#E5ECF6\",\"gridcolor\":\"white\",\"linecolor\":\"white\",\"showbackground\":true,\"ticks\":\"\",\"zerolinecolor\":\"white\",\"gridwidth\":2}},\"shapedefaults\":{\"line\":{\"color\":\"#2a3f5f\"}},\"annotationdefaults\":{\"arrowcolor\":\"#2a3f5f\",\"arrowhead\":0,\"arrowwidth\":1},\"geo\":{\"bgcolor\":\"white\",\"landcolor\":\"#E5ECF6\",\"subunitcolor\":\"white\",\"showland\":true,\"showlakes\":true,\"lakecolor\":\"white\"},\"title\":{\"x\":0.05},\"mapbox\":{\"style\":\"light\"}}},\"xaxis\":{\"anchor\":\"y\",\"domain\":[0.0,1.0],\"title\":{\"text\":\"Country\"}},\"yaxis\":{\"anchor\":\"x\",\"domain\":[0.0,1.0],\"title\":{\"text\":\"Average Overall Rating\"}},\"coloraxis\":{\"colorbar\":{\"title\":{\"text\":\"Average Overall Rating\"}},\"colorscale\":[[0.0,\"#0d0887\"],[0.1111111111111111,\"#46039f\"],[0.2222222222222222,\"#7201a8\"],[0.3333333333333333,\"#9c179e\"],[0.4444444444444444,\"#bd3786\"],[0.5555555555555556,\"#d8576b\"],[0.6666666666666666,\"#ed7953\"],[0.7777777777777778,\"#fb9f3a\"],[0.8888888888888888,\"#fdca26\"],[1.0,\"#f0f921\"]]},\"legend\":{\"tracegroupgap\":0},\"title\":{\"text\":\"Average Overall Ratings for Top 11 Countries\"},\"barmode\":\"relative\"},                        {\"responsive\": true}                    ).then(function(){\n",
              "                            \n",
              "var gd = document.getElementById('6e92c58d-9377-4d6d-b5ae-a1b5b25fd752');\n",
              "var x = new MutationObserver(function (mutations, observer) {{\n",
              "        var display = window.getComputedStyle(gd).display;\n",
              "        if (!display || display === 'none') {{\n",
              "            console.log([gd, 'removed!']);\n",
              "            Plotly.purge(gd);\n",
              "            observer.disconnect();\n",
              "        }}\n",
              "}});\n",
              "\n",
              "// Listen for the removal of the full notebook cells\n",
              "var notebookContainer = gd.closest('#notebook-container');\n",
              "if (notebookContainer) {{\n",
              "    x.observe(notebookContainer, {childList: true});\n",
              "}}\n",
              "\n",
              "// Listen for the clearing of the current output cell\n",
              "var outputEl = gd.closest('.output');\n",
              "if (outputEl) {{\n",
              "    x.observe(outputEl, {childList: true});\n",
              "}}\n",
              "\n",
              "                        })                };                            </script>        </div>\n",
              "</body>\n",
              "</html>"
            ]
          },
          "metadata": {}
        }
      ]
    },
    {
      "cell_type": "markdown",
      "source": [
        "Analyze how ratings and sentiments change over time (using the \"Date\"\n",
        "column). This can show whether recent changes have had a positive or negative impact on customer satisfaction."
      ],
      "metadata": {
        "id": "ZKuK5GAxj_ss"
      }
    },
    {
      "cell_type": "code",
      "source": [
        "# Створення об'єкта subplot з 1 рядком і 2 колонками\n",
        "fig = make_subplots(rows=1, cols=2, subplot_titles=(\"Average Overall Rating Through Years (Starting from 2019)\", \"Distribution of recommendations over the years\"))\n",
        "\n",
        "# Перший графік\n",
        "df['Date'] = pd.to_datetime(df['Date'])\n",
        "df['Year'] = df['Date'].dt.year\n",
        "avg_rating_per_year = (df[df['Year'] >= 2019].groupby('Year')['Overall Rating'].mean().reset_index())\n",
        "\n",
        "fig1 = px.line(avg_rating_per_year, x='Year', y='Overall Rating', markers=True, labels={'Overall Rating': 'Average Rating'})\n",
        "for trace in fig1.data:\n",
        "    fig.add_trace(trace, row=1, col=1)\n",
        "\n",
        "# Create a histogram with a hue over the 'Recommended' column\n",
        "fig2 = px.histogram(df, x='Year', color='Recommended', nbins=11)\n",
        "fig2.update_layout(barmode='group')  # Place bars side by side\n",
        "for trace in fig2.data:\n",
        "    fig.add_trace(trace, row=1, col=2)\n",
        "\n",
        "# Додаткові налаштування\n",
        "fig.update_layout(title_text=\"Trend Analysis Over Time\")\n",
        "fig.show()"
      ],
      "metadata": {
        "colab": {
          "base_uri": "https://localhost:8080/",
          "height": 631
        },
        "id": "J34OC06lhmgu",
        "outputId": "57a7d432-e1e6-4c88-e095-bb946f36ebf9"
      },
      "execution_count": 6,
      "outputs": [
        {
          "output_type": "stream",
          "name": "stderr",
          "text": [
            "/usr/local/lib/python3.10/dist-packages/ipykernel/ipkernel.py:283: DeprecationWarning:\n",
            "\n",
            "`should_run_async` will not call `transform_cell` automatically in the future. Please pass the result to `transformed_cell` argument and any exception that happen during thetransform in `preprocessing_exc_tuple` in IPython 7.17 and above.\n",
            "\n"
          ]
        },
        {
          "output_type": "display_data",
          "data": {
            "text/html": [
              "<html>\n",
              "<head><meta charset=\"utf-8\" /></head>\n",
              "<body>\n",
              "    <div>            <script src=\"https://cdnjs.cloudflare.com/ajax/libs/mathjax/2.7.5/MathJax.js?config=TeX-AMS-MML_SVG\"></script><script type=\"text/javascript\">if (window.MathJax && window.MathJax.Hub && window.MathJax.Hub.Config) {window.MathJax.Hub.Config({SVG: {font: \"STIX-Web\"}});}</script>                <script type=\"text/javascript\">window.PlotlyConfig = {MathJaxConfig: 'local'};</script>\n",
              "        <script charset=\"utf-8\" src=\"https://cdn.plot.ly/plotly-2.35.2.min.js\"></script>                <div id=\"2be2c15a-c95e-4412-97aa-2fe6fef96742\" class=\"plotly-graph-div\" style=\"height:525px; width:100%;\"></div>            <script type=\"text/javascript\">                                    window.PLOTLYENV=window.PLOTLYENV || {};                                    if (document.getElementById(\"2be2c15a-c95e-4412-97aa-2fe6fef96742\")) {                    Plotly.newPlot(                        \"2be2c15a-c95e-4412-97aa-2fe6fef96742\",                        [{\"hovertemplate\":\"Year=%{x}\\u003cbr\\u003eAverage Rating=%{y}\\u003cextra\\u003e\\u003c\\u002fextra\\u003e\",\"legendgroup\":\"\",\"line\":{\"color\":\"#636efa\",\"dash\":\"solid\"},\"marker\":{\"symbol\":\"circle\"},\"mode\":\"lines+markers\",\"name\":\"\",\"orientation\":\"v\",\"showlegend\":false,\"x\":[2019,2020,2021,2022,2023,2024],\"xaxis\":\"x\",\"y\":[4.666666666666667,4.336538461538462,4.2988505747126435,3.995305164319249,3.35,3.7070063694267517],\"yaxis\":\"y\",\"type\":\"scatter\"},{\"alignmentgroup\":\"True\",\"bingroup\":\"x\",\"hovertemplate\":\"Recommended=no\\u003cbr\\u003eYear=%{x}\\u003cbr\\u003ecount=%{y}\\u003cextra\\u003e\\u003c\\u002fextra\\u003e\",\"legendgroup\":\"no\",\"marker\":{\"color\":\"#636efa\",\"pattern\":{\"shape\":\"\"}},\"name\":\"no\",\"nbinsx\":11,\"offsetgroup\":\"no\",\"orientation\":\"v\",\"showlegend\":true,\"x\":[2024,2024,2024,2024,2024,2024,2024,2024,2024,2024,2024,2024,2024,2024,2024,2024,2024,2024,2024,2024,2024,2024,2024,2024,2024,2024,2024,2024,2024,2024,2024,2024,2024,2024,2024,2024,2024,2024,2024,2024,2024,2024,2024,2024,2024,2024,2024,2024,2024,2024,2024,2024,2024,2024,2024,2024,2024,2024,2024,2024,2024,2024,2024,2024,2024,2024,2024,2024,2024,2024,2024,2024,2024,2024,2024,2024,2024,2024,2024,2024,2024,2024,2024,2024,2024,2024,2024,2024,2024,2024,2024,2024,2024,2024,2024,2024,2024,2024,2024,2024,2024,2024,2024,2024,2024,2024,2024,2024,2024,2024,2024,2024,2024,2023,2023,2023,2023,2023,2023,2023,2023,2023,2023,2023,2023,2023,2023,2023,2023,2023,2023,2023,2023,2023,2023,2023,2023,2023,2023,2023,2023,2023,2023,2023,2023,2023,2023,2023,2023,2023,2023,2023,2023,2023,2023,2023,2023,2023,2023,2023,2023,2023,2023,2023,2023,2023,2023,2023,2023,2023,2023,2023,2023,2023,2023,2023,2023,2023,2023,2023,2023,2023,2023,2023,2023,2023,2023,2023,2023,2023,2023,2023,2023,2023,2023,2023,2023,2023,2023,2023,2023,2023,2023,2023,2023,2023,2023,2023,2023,2023,2023,2023,2023,2023,2023,2023,2023,2023,2023,2023,2023,2023,2023,2023,2023,2023,2023,2023,2023,2023,2023,2023,2023,2023,2023,2023,2023,2023,2023,2023,2023,2023,2023,2023,2023,2023,2023,2023,2023,2023,2023,2023,2023,2023,2023,2023,2023,2023,2023,2023,2023,2023,2023,2023,2023,2023,2023,2023,2023,2023,2023,2023,2023,2023,2023,2023,2023,2023,2023,2023,2023,2023,2023,2023,2023,2023,2023,2023,2023,2023,2023,2023,2023,2023,2023,2023,2023,2023,2023,2023,2023,2023,2023,2023,2023,2023,2023,2023,2023,2023,2023,2023,2023,2023,2023,2023,2023,2023,2023,2023,2023,2023,2023,2023,2023,2023,2023,2023,2022,2022,2022,2022,2022,2022,2022,2022,2022,2022,2022,2022,2022,2022,2022,2022,2022,2022,2022,2022,2022,2022,2022,2022,2022,2022,2022,2022,2022,2022,2022,2022,2022,2022,2022,2022,2022,2022,2022,2022,2022,2022,2022,2022,2022,2022,2022,2022,2022,2022,2022,2022,2022,2022,2022,2022,2022,2022,2022,2022,2022,2022,2022,2022,2022,2022,2022,2022,2022,2022,2022,2022,2022,2022,2022,2022,2022,2022,2022,2022,2022,2022,2022,2022,2022,2022,2022,2022,2022,2022,2022,2022,2022,2022,2022,2022,2022,2022,2022,2022,2022,2022,2022,2022,2022,2022,2022,2022,2022,2022,2022,2022,2022,2022,2022,2022,2022,2022,2022,2022,2022,2022,2022,2022,2022,2022,2022,2022,2022,2022,2022,2022,2022,2022,2022,2022,2022,2022,2022,2022,2022,2022,2022,2022,2022,2021,2021,2021,2021,2021,2021,2021,2021,2021,2021,2021,2021,2021,2021,2021,2021,2021,2021,2021,2021,2021,2021,2021,2021,2021,2021,2021,2021,2021,2021,2021,2021,2021,2021,2021,2021,2021,2021,2021,2021,2021,2021,2021,2021,2021,2021,2021,2021,2021,2021,2021,2021,2020,2020,2020,2020,2020,2020,2020,2020,2020,2020,2020,2020,2020,2020,2020,2020,2020,2020,2020,2020,2020,2020,2020,2020,2020,2020,2020,2020,2020,2020,2020,2020,2020,2020,2020,2020,2020,2020,2020,2020,2020,2020,2020,2020,2020,2020,2020,2020,2020,2020,2020,2020,2020,2020,2020,2020,2020,2020,2020,2020,2020,2020,2020,2020,2020,2020,2019,2019,2019,2019,2019,2019,2019,2019,2019,2019,2019,2019,2019,2019,2019,2019,2019,2019,2019,2019,2019,2019,2019,2019,2019,2019,2019,2019,2019,2019,2019,2019,2019,2019,2019,2019,2019,2019,2019,2019,2019,2019,2019,2019,2019,2019,2019,2019,2019,2019,2019,2019,2019,2019,2019,2019,2019,2019,2019,2019,2019,2019,2019,2019,2019,2019,2019,2019,2019,2019,2019,2019,2019,2019,2019,2019,2019,2019,2019,2019,2019,2019,2019,2019,2019,2019,2019,2019,2019,2019,2019,2019,2019,2019,2019,2019,2019],\"xaxis\":\"x2\",\"yaxis\":\"y2\",\"type\":\"histogram\"},{\"alignmentgroup\":\"True\",\"bingroup\":\"x\",\"hovertemplate\":\"Recommended=yes\\u003cbr\\u003eYear=%{x}\\u003cbr\\u003ecount=%{y}\\u003cextra\\u003e\\u003c\\u002fextra\\u003e\",\"legendgroup\":\"yes\",\"marker\":{\"color\":\"#EF553B\",\"pattern\":{\"shape\":\"\"}},\"name\":\"yes\",\"nbinsx\":11,\"offsetgroup\":\"yes\",\"orientation\":\"v\",\"showlegend\":true,\"x\":[2024,2024,2024,2024,2024,2024,2024,2024,2024,2024,2024,2024,2024,2024,2024,2024,2024,2024,2024,2024,2024,2024,2024,2024,2024,2024,2024,2024,2024,2024,2024,2024,2024,2024,2024,2024,2024,2024,2024,2024,2024,2024,2024,2024,2023,2023,2023,2023,2023,2023,2023,2023,2023,2023,2023,2023,2023,2023,2023,2023,2023,2023,2023,2023,2023,2023,2023,2023,2023,2023,2023,2023,2023,2023,2023,2023,2023,2023,2023,2023,2023,2023,2023,2023,2023,2023,2023,2023,2023,2023,2023,2023,2023,2023,2023,2023,2023,2023,2023,2023,2023,2023,2023,2023,2023,2023,2023,2023,2023,2022,2022,2022,2022,2022,2022,2022,2022,2022,2022,2022,2022,2022,2022,2022,2022,2022,2022,2022,2022,2022,2022,2022,2022,2022,2022,2022,2022,2022,2022,2022,2022,2022,2022,2022,2022,2022,2022,2022,2022,2022,2022,2022,2022,2022,2022,2022,2022,2022,2022,2022,2022,2022,2022,2022,2022,2022,2022,2022,2022,2022,2022,2022,2022,2022,2022,2022,2022,2021,2021,2021,2021,2021,2021,2021,2021,2021,2021,2021,2021,2021,2021,2021,2021,2021,2021,2021,2021,2021,2021,2021,2021,2021,2021,2021,2021,2021,2021,2021,2021,2021,2021,2021,2020,2020,2020,2020,2020,2020,2020,2020,2020,2020,2020,2020,2020,2020,2020,2020,2020,2020,2020,2020,2020,2020,2020,2020,2020,2020,2020,2020,2020,2020,2020,2020,2020,2020,2020,2020,2020,2020,2019,2019,2019,2019,2019,2019,2019,2019,2019,2019,2019,2019,2019,2019,2019,2019,2019,2019,2019,2019,2019,2019,2019,2019,2019,2019,2019,2019,2019,2019,2019,2019,2019,2019,2019,2019,2019,2019,2019,2019,2019,2019,2019,2019,2019,2019,2019,2019,2019,2019,2019,2019,2019,2019,2019,2019,2019,2019,2019,2019,2019,2019],\"xaxis\":\"x2\",\"yaxis\":\"y2\",\"type\":\"histogram\"}],                        {\"template\":{\"data\":{\"histogram2dcontour\":[{\"type\":\"histogram2dcontour\",\"colorbar\":{\"outlinewidth\":0,\"ticks\":\"\"},\"colorscale\":[[0.0,\"#0d0887\"],[0.1111111111111111,\"#46039f\"],[0.2222222222222222,\"#7201a8\"],[0.3333333333333333,\"#9c179e\"],[0.4444444444444444,\"#bd3786\"],[0.5555555555555556,\"#d8576b\"],[0.6666666666666666,\"#ed7953\"],[0.7777777777777778,\"#fb9f3a\"],[0.8888888888888888,\"#fdca26\"],[1.0,\"#f0f921\"]]}],\"choropleth\":[{\"type\":\"choropleth\",\"colorbar\":{\"outlinewidth\":0,\"ticks\":\"\"}}],\"histogram2d\":[{\"type\":\"histogram2d\",\"colorbar\":{\"outlinewidth\":0,\"ticks\":\"\"},\"colorscale\":[[0.0,\"#0d0887\"],[0.1111111111111111,\"#46039f\"],[0.2222222222222222,\"#7201a8\"],[0.3333333333333333,\"#9c179e\"],[0.4444444444444444,\"#bd3786\"],[0.5555555555555556,\"#d8576b\"],[0.6666666666666666,\"#ed7953\"],[0.7777777777777778,\"#fb9f3a\"],[0.8888888888888888,\"#fdca26\"],[1.0,\"#f0f921\"]]}],\"heatmap\":[{\"type\":\"heatmap\",\"colorbar\":{\"outlinewidth\":0,\"ticks\":\"\"},\"colorscale\":[[0.0,\"#0d0887\"],[0.1111111111111111,\"#46039f\"],[0.2222222222222222,\"#7201a8\"],[0.3333333333333333,\"#9c179e\"],[0.4444444444444444,\"#bd3786\"],[0.5555555555555556,\"#d8576b\"],[0.6666666666666666,\"#ed7953\"],[0.7777777777777778,\"#fb9f3a\"],[0.8888888888888888,\"#fdca26\"],[1.0,\"#f0f921\"]]}],\"heatmapgl\":[{\"type\":\"heatmapgl\",\"colorbar\":{\"outlinewidth\":0,\"ticks\":\"\"},\"colorscale\":[[0.0,\"#0d0887\"],[0.1111111111111111,\"#46039f\"],[0.2222222222222222,\"#7201a8\"],[0.3333333333333333,\"#9c179e\"],[0.4444444444444444,\"#bd3786\"],[0.5555555555555556,\"#d8576b\"],[0.6666666666666666,\"#ed7953\"],[0.7777777777777778,\"#fb9f3a\"],[0.8888888888888888,\"#fdca26\"],[1.0,\"#f0f921\"]]}],\"contourcarpet\":[{\"type\":\"contourcarpet\",\"colorbar\":{\"outlinewidth\":0,\"ticks\":\"\"}}],\"contour\":[{\"type\":\"contour\",\"colorbar\":{\"outlinewidth\":0,\"ticks\":\"\"},\"colorscale\":[[0.0,\"#0d0887\"],[0.1111111111111111,\"#46039f\"],[0.2222222222222222,\"#7201a8\"],[0.3333333333333333,\"#9c179e\"],[0.4444444444444444,\"#bd3786\"],[0.5555555555555556,\"#d8576b\"],[0.6666666666666666,\"#ed7953\"],[0.7777777777777778,\"#fb9f3a\"],[0.8888888888888888,\"#fdca26\"],[1.0,\"#f0f921\"]]}],\"surface\":[{\"type\":\"surface\",\"colorbar\":{\"outlinewidth\":0,\"ticks\":\"\"},\"colorscale\":[[0.0,\"#0d0887\"],[0.1111111111111111,\"#46039f\"],[0.2222222222222222,\"#7201a8\"],[0.3333333333333333,\"#9c179e\"],[0.4444444444444444,\"#bd3786\"],[0.5555555555555556,\"#d8576b\"],[0.6666666666666666,\"#ed7953\"],[0.7777777777777778,\"#fb9f3a\"],[0.8888888888888888,\"#fdca26\"],[1.0,\"#f0f921\"]]}],\"mesh3d\":[{\"type\":\"mesh3d\",\"colorbar\":{\"outlinewidth\":0,\"ticks\":\"\"}}],\"scatter\":[{\"fillpattern\":{\"fillmode\":\"overlay\",\"size\":10,\"solidity\":0.2},\"type\":\"scatter\"}],\"parcoords\":[{\"type\":\"parcoords\",\"line\":{\"colorbar\":{\"outlinewidth\":0,\"ticks\":\"\"}}}],\"scatterpolargl\":[{\"type\":\"scatterpolargl\",\"marker\":{\"colorbar\":{\"outlinewidth\":0,\"ticks\":\"\"}}}],\"bar\":[{\"error_x\":{\"color\":\"#2a3f5f\"},\"error_y\":{\"color\":\"#2a3f5f\"},\"marker\":{\"line\":{\"color\":\"#E5ECF6\",\"width\":0.5},\"pattern\":{\"fillmode\":\"overlay\",\"size\":10,\"solidity\":0.2}},\"type\":\"bar\"}],\"scattergeo\":[{\"type\":\"scattergeo\",\"marker\":{\"colorbar\":{\"outlinewidth\":0,\"ticks\":\"\"}}}],\"scatterpolar\":[{\"type\":\"scatterpolar\",\"marker\":{\"colorbar\":{\"outlinewidth\":0,\"ticks\":\"\"}}}],\"histogram\":[{\"marker\":{\"pattern\":{\"fillmode\":\"overlay\",\"size\":10,\"solidity\":0.2}},\"type\":\"histogram\"}],\"scattergl\":[{\"type\":\"scattergl\",\"marker\":{\"colorbar\":{\"outlinewidth\":0,\"ticks\":\"\"}}}],\"scatter3d\":[{\"type\":\"scatter3d\",\"line\":{\"colorbar\":{\"outlinewidth\":0,\"ticks\":\"\"}},\"marker\":{\"colorbar\":{\"outlinewidth\":0,\"ticks\":\"\"}}}],\"scattermapbox\":[{\"type\":\"scattermapbox\",\"marker\":{\"colorbar\":{\"outlinewidth\":0,\"ticks\":\"\"}}}],\"scatterternary\":[{\"type\":\"scatterternary\",\"marker\":{\"colorbar\":{\"outlinewidth\":0,\"ticks\":\"\"}}}],\"scattercarpet\":[{\"type\":\"scattercarpet\",\"marker\":{\"colorbar\":{\"outlinewidth\":0,\"ticks\":\"\"}}}],\"carpet\":[{\"aaxis\":{\"endlinecolor\":\"#2a3f5f\",\"gridcolor\":\"white\",\"linecolor\":\"white\",\"minorgridcolor\":\"white\",\"startlinecolor\":\"#2a3f5f\"},\"baxis\":{\"endlinecolor\":\"#2a3f5f\",\"gridcolor\":\"white\",\"linecolor\":\"white\",\"minorgridcolor\":\"white\",\"startlinecolor\":\"#2a3f5f\"},\"type\":\"carpet\"}],\"table\":[{\"cells\":{\"fill\":{\"color\":\"#EBF0F8\"},\"line\":{\"color\":\"white\"}},\"header\":{\"fill\":{\"color\":\"#C8D4E3\"},\"line\":{\"color\":\"white\"}},\"type\":\"table\"}],\"barpolar\":[{\"marker\":{\"line\":{\"color\":\"#E5ECF6\",\"width\":0.5},\"pattern\":{\"fillmode\":\"overlay\",\"size\":10,\"solidity\":0.2}},\"type\":\"barpolar\"}],\"pie\":[{\"automargin\":true,\"type\":\"pie\"}]},\"layout\":{\"autotypenumbers\":\"strict\",\"colorway\":[\"#636efa\",\"#EF553B\",\"#00cc96\",\"#ab63fa\",\"#FFA15A\",\"#19d3f3\",\"#FF6692\",\"#B6E880\",\"#FF97FF\",\"#FECB52\"],\"font\":{\"color\":\"#2a3f5f\"},\"hovermode\":\"closest\",\"hoverlabel\":{\"align\":\"left\"},\"paper_bgcolor\":\"white\",\"plot_bgcolor\":\"#E5ECF6\",\"polar\":{\"bgcolor\":\"#E5ECF6\",\"angularaxis\":{\"gridcolor\":\"white\",\"linecolor\":\"white\",\"ticks\":\"\"},\"radialaxis\":{\"gridcolor\":\"white\",\"linecolor\":\"white\",\"ticks\":\"\"}},\"ternary\":{\"bgcolor\":\"#E5ECF6\",\"aaxis\":{\"gridcolor\":\"white\",\"linecolor\":\"white\",\"ticks\":\"\"},\"baxis\":{\"gridcolor\":\"white\",\"linecolor\":\"white\",\"ticks\":\"\"},\"caxis\":{\"gridcolor\":\"white\",\"linecolor\":\"white\",\"ticks\":\"\"}},\"coloraxis\":{\"colorbar\":{\"outlinewidth\":0,\"ticks\":\"\"}},\"colorscale\":{\"sequential\":[[0.0,\"#0d0887\"],[0.1111111111111111,\"#46039f\"],[0.2222222222222222,\"#7201a8\"],[0.3333333333333333,\"#9c179e\"],[0.4444444444444444,\"#bd3786\"],[0.5555555555555556,\"#d8576b\"],[0.6666666666666666,\"#ed7953\"],[0.7777777777777778,\"#fb9f3a\"],[0.8888888888888888,\"#fdca26\"],[1.0,\"#f0f921\"]],\"sequentialminus\":[[0.0,\"#0d0887\"],[0.1111111111111111,\"#46039f\"],[0.2222222222222222,\"#7201a8\"],[0.3333333333333333,\"#9c179e\"],[0.4444444444444444,\"#bd3786\"],[0.5555555555555556,\"#d8576b\"],[0.6666666666666666,\"#ed7953\"],[0.7777777777777778,\"#fb9f3a\"],[0.8888888888888888,\"#fdca26\"],[1.0,\"#f0f921\"]],\"diverging\":[[0,\"#8e0152\"],[0.1,\"#c51b7d\"],[0.2,\"#de77ae\"],[0.3,\"#f1b6da\"],[0.4,\"#fde0ef\"],[0.5,\"#f7f7f7\"],[0.6,\"#e6f5d0\"],[0.7,\"#b8e186\"],[0.8,\"#7fbc41\"],[0.9,\"#4d9221\"],[1,\"#276419\"]]},\"xaxis\":{\"gridcolor\":\"white\",\"linecolor\":\"white\",\"ticks\":\"\",\"title\":{\"standoff\":15},\"zerolinecolor\":\"white\",\"automargin\":true,\"zerolinewidth\":2},\"yaxis\":{\"gridcolor\":\"white\",\"linecolor\":\"white\",\"ticks\":\"\",\"title\":{\"standoff\":15},\"zerolinecolor\":\"white\",\"automargin\":true,\"zerolinewidth\":2},\"scene\":{\"xaxis\":{\"backgroundcolor\":\"#E5ECF6\",\"gridcolor\":\"white\",\"linecolor\":\"white\",\"showbackground\":true,\"ticks\":\"\",\"zerolinecolor\":\"white\",\"gridwidth\":2},\"yaxis\":{\"backgroundcolor\":\"#E5ECF6\",\"gridcolor\":\"white\",\"linecolor\":\"white\",\"showbackground\":true,\"ticks\":\"\",\"zerolinecolor\":\"white\",\"gridwidth\":2},\"zaxis\":{\"backgroundcolor\":\"#E5ECF6\",\"gridcolor\":\"white\",\"linecolor\":\"white\",\"showbackground\":true,\"ticks\":\"\",\"zerolinecolor\":\"white\",\"gridwidth\":2}},\"shapedefaults\":{\"line\":{\"color\":\"#2a3f5f\"}},\"annotationdefaults\":{\"arrowcolor\":\"#2a3f5f\",\"arrowhead\":0,\"arrowwidth\":1},\"geo\":{\"bgcolor\":\"white\",\"landcolor\":\"#E5ECF6\",\"subunitcolor\":\"white\",\"showland\":true,\"showlakes\":true,\"lakecolor\":\"white\"},\"title\":{\"x\":0.05},\"mapbox\":{\"style\":\"light\"}}},\"xaxis\":{\"anchor\":\"y\",\"domain\":[0.0,0.45]},\"yaxis\":{\"anchor\":\"x\",\"domain\":[0.0,1.0]},\"xaxis2\":{\"anchor\":\"y2\",\"domain\":[0.55,1.0]},\"yaxis2\":{\"anchor\":\"x2\",\"domain\":[0.0,1.0]},\"annotations\":[{\"font\":{\"size\":16},\"showarrow\":false,\"text\":\"Average Overall Rating Through Years (Starting from 2019)\",\"x\":0.225,\"xanchor\":\"center\",\"xref\":\"paper\",\"y\":1.0,\"yanchor\":\"bottom\",\"yref\":\"paper\"},{\"font\":{\"size\":16},\"showarrow\":false,\"text\":\"Distribution of recommendations over the years\",\"x\":0.775,\"xanchor\":\"center\",\"xref\":\"paper\",\"y\":1.0,\"yanchor\":\"bottom\",\"yref\":\"paper\"}],\"title\":{\"text\":\"Trend Analysis Over Time\"}},                        {\"responsive\": true}                    ).then(function(){\n",
              "                            \n",
              "var gd = document.getElementById('2be2c15a-c95e-4412-97aa-2fe6fef96742');\n",
              "var x = new MutationObserver(function (mutations, observer) {{\n",
              "        var display = window.getComputedStyle(gd).display;\n",
              "        if (!display || display === 'none') {{\n",
              "            console.log([gd, 'removed!']);\n",
              "            Plotly.purge(gd);\n",
              "            observer.disconnect();\n",
              "        }}\n",
              "}});\n",
              "\n",
              "// Listen for the removal of the full notebook cells\n",
              "var notebookContainer = gd.closest('#notebook-container');\n",
              "if (notebookContainer) {{\n",
              "    x.observe(notebookContainer, {childList: true});\n",
              "}}\n",
              "\n",
              "// Listen for the clearing of the current output cell\n",
              "var outputEl = gd.closest('.output');\n",
              "if (outputEl) {{\n",
              "    x.observe(outputEl, {childList: true});\n",
              "}}\n",
              "\n",
              "                        })                };                            </script>        </div>\n",
              "</body>\n",
              "</html>"
            ]
          },
          "metadata": {}
        }
      ]
    },
    {
      "cell_type": "markdown",
      "source": [
        "Determine if there's a correlation between \"Overall Rating\" and other numerical ratings such as \"Seat Comfort\", \"Cabin Staff Service\", \"Ground Service\", \"Value For Money\", \"Food & Beverages\", and \"Inflight Entertainment\". This can highlight which factors most strongly influence overall satisfaction."
      ],
      "metadata": {
        "id": "K5l94CGxmbqq"
      }
    },
    {
      "cell_type": "code",
      "source": [
        "# Selecting only relevant numerical columns\n",
        "columns_of_interest = [\n",
        "    \"Overall Rating\",\n",
        "    \"Seat Comfort\",\n",
        "    \"Cabin Staff Service\",\n",
        "    \"Ground Service\",\n",
        "    \"Value For Money\",\n",
        "    \"Food & Beverages\",\n",
        "    \"Inflight Entertainment\"\n",
        "]\n",
        "\n",
        "# Drop rows with missing values in the selected columns\n",
        "df = df[columns_of_interest].dropna()\n",
        "\n",
        "# Calculate the correlation matrix\n",
        "correlation_matrix = df.corr()\n",
        "\n",
        "# Plotting the correlation heatmap\n",
        "plt.figure(figsize=(10, 8))\n",
        "sns.heatmap(correlation_matrix, annot=True, cmap=\"coolwarm\", vmin=0.4, vmax=1)\n",
        "plt.title(\"Correlation Heatmap of Ratings\")\n",
        "plt.show()"
      ],
      "metadata": {
        "colab": {
          "base_uri": "https://localhost:8080/",
          "height": 927
        },
        "id": "hSZAIQNSl2-l",
        "outputId": "9b5fc447-6e2a-4fa7-edda-4b11d4008eb2"
      },
      "execution_count": 7,
      "outputs": [
        {
          "output_type": "stream",
          "name": "stderr",
          "text": [
            "/usr/local/lib/python3.10/dist-packages/ipykernel/ipkernel.py:283: DeprecationWarning:\n",
            "\n",
            "`should_run_async` will not call `transform_cell` automatically in the future. Please pass the result to `transformed_cell` argument and any exception that happen during thetransform in `preprocessing_exc_tuple` in IPython 7.17 and above.\n",
            "\n"
          ]
        },
        {
          "output_type": "display_data",
          "data": {
            "text/plain": [
              "<Figure size 1000x800 with 2 Axes>"
            ],
            "image/png": "[encoded data removed]"
          },
          "metadata": {}
        }
      ]
    },
    {
      "cell_type": "markdown",
      "source": [
        "# Topic Modeling"
      ],
      "metadata": {
        "id": "njS_Eqn34ZSF"
      }
    },
    {
      "cell_type": "markdown",
      "source": [
        "## Preprocessing Text\n",
        "Text preprocessing is a crucial step in performing sentiment analysis, as it helps to clean and normalize the text data, making it easier to analyze.\n",
        "1. Case folding: Convert all text to lowercase.\n",
        "2. Tokenization with NLTK: The ```word_tokenize``` function is used to split the text into individual tokens.\n",
        "3. Stop-word removal: Remove commonly used words that don’t carry significant meaning.\n",
        "4. Punctuation removal: Strip punctuation marks.\n",
        "5. Lemmatization: a process that aims to normalize text/words based on the basic form which is the lemma form. The distinction between stemming and lemmatization is while stemming changes a word into a root word without knowing the context of the word like cutting off the ends of words, lemmatization changes a word into a root word by knowing the context of the word              \n"
      ],
      "metadata": {
        "id": "mz9Yf71l3DF1"
      }
    },
    {
      "cell_type": "code",
      "source": [
        "# Add 'ba' and other words to the stop words list (this words seem to be general to affect the topic)\n",
        "stop_words = set(stopwords.words('english'))\n",
        "stop_words.update(['ba', 'flight', 'british', 'airways'])\n",
        "nlp = spacy.load('en_core_web_sm')\n",
        "def preproces_text(text, nlp):\n",
        "  # Convert text to lowercase\n",
        "  text = text.lower()\n",
        "  # Tokenize the text\n",
        "  tokens = word_tokenize(text)\n",
        "  # Remove stop words\n",
        "  tokens = [word for word in tokens if word not in stop_words]\n",
        "  # Join the tokens back into a single string for punctuation removal\n",
        "  filtered_text = ' '.join(tokens)\n",
        "  # Remove punctuation using regular expressions\n",
        "  filtered_text = re.sub(r'[^\\w\\s]', '', filtered_text)\n",
        "  # Process the cleaned text with spaCy\n",
        "  doc = nlp(filtered_text)\n",
        "  # Lemmatize the tokens and remove any remaining stop words (if needed)\n",
        "  lemmatized_tokens = [token.lemma_ for token in doc if token.lemma_.strip()]\n",
        "  # Return the lemmatized tokens\n",
        "  return lemmatized_tokens"
      ],
      "metadata": {
        "id": "nhFy5u983Pq-"
      },
      "execution_count": null,
      "outputs": []
    },
    {
      "cell_type": "markdown",
      "source": [
        "## POS Tagging\n",
        "Part of speech tagging. Part-of-speech (POS) tagging or in short it can be written as tagging is the process of assigning POS tags or syntactic classes to each word in the corpus (Gimpel et al., 2011).\n",
        "Part of speech has an important role to form a sentence so that it is coherent and follows the grammar of the sentence.\n",
        "\n",
        "I used  POS Tagging to extract nouns from each user review in the text corpus since they usually have the main semantic load.                                                             "
      ],
      "metadata": {
        "id": "0RAuom5gmGvQ"
      }
    },
    {
      "cell_type": "code",
      "source": [
        "def extract_nouns(lemmatized_tokens, nlp):\n",
        "    # Join the lemmatized tokens back into a string for spaCy to process\n",
        "    processed_text = ' '.join(lemmatized_tokens)\n",
        "\n",
        "    # Process the text with spaCy to extract nouns\n",
        "    doc = nlp(processed_text)\n",
        "\n",
        "    # Extract nouns based on POS tags and join them into a string\n",
        "    nouns = ([token.text for token in doc if token.pos_ == 'NOUN'])\n",
        "\n",
        "    # Return the string of nouns\n",
        "    return nouns"
      ],
      "metadata": {
        "id": "kxJhYX69lu6T"
      },
      "execution_count": null,
      "outputs": []
    },
    {
      "cell_type": "code",
      "source": [
        "text_data = df[['Review', 'Impression']]\n",
        "lemmatized_review = text_data['Review'].apply(lambda x:\n",
        "                                                      preproces_text(x, nlp))\n",
        "\n",
        "text_data['Cleaned Impression'] = text_data['Impression'].apply(lambda x: preproces_text (x, nlp))\n",
        "text_data['Cleaned Review'] = lemmatized_review.apply(lambda x: extract_nouns(x, nlp))"
      ],
      "metadata": {
        "id": "sJcvCYkH4lKh"
      },
      "execution_count": null,
      "outputs": []
    },
    {
      "cell_type": "code",
      "source": [
        "text_data[['Review', 'Cleaned Review', 'Cleaned Impression']].head()"
      ],
      "metadata": {
        "id": "h3_9hh2Z5PeP",
        "colab": {
          "base_uri": "https://localhost:8080/",
          "height": 295
        },
        "outputId": "823be403-2a57-4e23-b0e2-75341c1e6b95"
      },
      "execution_count": 13,
      "outputs": [
        {
          "output_type": "stream",
          "name": "stderr",
          "text": [
            "/usr/local/lib/python3.10/dist-packages/ipykernel/ipkernel.py:283: DeprecationWarning:\n",
            "\n",
            "`should_run_async` will not call `transform_cell` automatically in the future. Please pass the result to `transformed_cell` argument and any exception that happen during thetransform in `preprocessing_exc_tuple` in IPython 7.17 and above.\n",
            "\n"
          ]
        },
        {
          "output_type": "execute_result",
          "data": {
            "text/plain": [
              "                                              Review  \\\n",
              "0     I recently travelled from Munich to London ...   \n",
              "1    I paid for seats 80 A and B on my flight fro...   \n",
              "2   The flight wasn’t that bad, although the Infl...   \n",
              "3    I decided to treat myself and my teenage dau...   \n",
              "4    I was very impressed with their efficient bo...   \n",
              "\n",
              "                                      Cleaned Review  \\\n",
              "0  [nightmare, trouble, malfunction, app, check, ...   \n",
              "1  [seat, b, heathrow, boston, pay, premium, econ...   \n",
              "2  [entertainment, screen, oldfashione, touch, sc...   \n",
              "3  [daughter, holiday, pound, end, hour, trap, se...   \n",
              "4  [boarding, air, seat, quality, food, drink, sn...   \n",
              "\n",
              "             Cleaned Impression  \n",
              "0                  [never, fly]  \n",
              "1         [still, hear, update]  \n",
              "2           [cabin, crew, nice]  \n",
              "3  [support, staff, wash, hand]  \n",
              "4    [fuss, bother, experience]  "
            ],
            "text/html": [
              "\n",
              "  <div id=\"df-a74c25e8-4764-4033-bc0c-ba761e166c0d\" class=\"colab-df-container\">\n",
              "    <div>\n",
              "<style scoped>\n",
              "    .dataframe tbody tr th:only-of-type {\n",
              "        vertical-align: middle;\n",
              "    }\n",
              "\n",
              "    .dataframe tbody tr th {\n",
              "        vertical-align: top;\n",
              "    }\n",
              "\n",
              "    .dataframe thead th {\n",
              "        text-align: right;\n",
              "    }\n",
              "</style>\n",
              "<table border=\"1\" class=\"dataframe\">\n",
              "  <thead>\n",
              "    <tr style=\"text-align: right;\">\n",
              "      <th></th>\n",
              "      <th>Review</th>\n",
              "      <th>Cleaned Review</th>\n",
              "      <th>Cleaned Impression</th>\n",
              "    </tr>\n",
              "  </thead>\n",
              "  <tbody>\n",
              "    <tr>\n",
              "      <th>0</th>\n",
              "      <td>I recently travelled from Munich to London ...</td>\n",
              "      <td>[nightmare, trouble, malfunction, app, check, ...</td>\n",
              "      <td>[never, fly]</td>\n",
              "    </tr>\n",
              "    <tr>\n",
              "      <th>1</th>\n",
              "      <td>I paid for seats 80 A and B on my flight fro...</td>\n",
              "      <td>[seat, b, heathrow, boston, pay, premium, econ...</td>\n",
              "      <td>[still, hear, update]</td>\n",
              "    </tr>\n",
              "    <tr>\n",
              "      <th>2</th>\n",
              "      <td>The flight wasn’t that bad, although the Infl...</td>\n",
              "      <td>[entertainment, screen, oldfashione, touch, sc...</td>\n",
              "      <td>[cabin, crew, nice]</td>\n",
              "    </tr>\n",
              "    <tr>\n",
              "      <th>3</th>\n",
              "      <td>I decided to treat myself and my teenage dau...</td>\n",
              "      <td>[daughter, holiday, pound, end, hour, trap, se...</td>\n",
              "      <td>[support, staff, wash, hand]</td>\n",
              "    </tr>\n",
              "    <tr>\n",
              "      <th>4</th>\n",
              "      <td>I was very impressed with their efficient bo...</td>\n",
              "      <td>[boarding, air, seat, quality, food, drink, sn...</td>\n",
              "      <td>[fuss, bother, experience]</td>\n",
              "    </tr>\n",
              "  </tbody>\n",
              "</table>\n",
              "</div>\n",
              "    <div class=\"colab-df-buttons\">\n",
              "\n",
              "  <div class=\"colab-df-container\">\n",
              "    <button class=\"colab-df-convert\" onclick=\"convertToInteractive('df-a74c25e8-4764-4033-bc0c-ba761e166c0d')\"\n",
              "            title=\"Convert this dataframe to an interactive table.\"\n",
              "            style=\"display:none;\">\n",
              "\n",
              "  <svg xmlns=\"http://www.w3.org/2000/svg\" height=\"24px\" viewBox=\"0 -960 960 960\">\n",
              "    <path d=\"M120-120v-720h720v720H120Zm60-500h600v-160H180v160Zm220 220h160v-160H400v160Zm0 220h160v-160H400v160ZM180-400h160v-160H180v160Zm440 0h160v-160H620v160ZM180-180h160v-160H180v160Zm440 0h160v-160H620v160Z\"/>\n",
              "  </svg>\n",
              "    </button>\n",
              "\n",
              "  <style>\n",
              "    .colab-df-container {\n",
              "      display:flex;\n",
              "      gap: 12px;\n",
              "    }\n",
              "\n",
              "    .colab-df-convert {\n",
              "      background-color: #E8F0FE;\n",
              "      border: none;\n",
              "      border-radius: 50%;\n",
              "      cursor: pointer;\n",
              "      display: none;\n",
              "      fill: #1967D2;\n",
              "      height: 32px;\n",
              "      padding: 0 0 0 0;\n",
              "      width: 32px;\n",
              "    }\n",
              "\n",
              "    .colab-df-convert:hover {\n",
              "      background-color: #E2EBFA;\n",
              "      box-shadow: 0px 1px 2px rgba(60, 64, 67, 0.3), 0px 1px 3px 1px rgba(60, 64, 67, 0.15);\n",
              "      fill: #174EA6;\n",
              "    }\n",
              "\n",
              "    .colab-df-buttons div {\n",
              "      margin-bottom: 4px;\n",
              "    }\n",
              "\n",
              "    [theme=dark] .colab-df-convert {\n",
              "      background-color: #3B4455;\n",
              "      fill: #D2E3FC;\n",
              "    }\n",
              "\n",
              "    [theme=dark] .colab-df-convert:hover {\n",
              "      background-color: #434B5C;\n",
              "      box-shadow: 0px 1px 3px 1px rgba(0, 0, 0, 0.15);\n",
              "      filter: drop-shadow(0px 1px 2px rgba(0, 0, 0, 0.3));\n",
              "      fill: #FFFFFF;\n",
              "    }\n",
              "  </style>\n",
              "\n",
              "    <script>\n",
              "      const buttonEl =\n",
              "        document.querySelector('#df-a74c25e8-4764-4033-bc0c-ba761e166c0d button.colab-df-convert');\n",
              "      buttonEl.style.display =\n",
              "        google.colab.kernel.accessAllowed ? 'block' : 'none';\n",
              "\n",
              "      async function convertToInteractive(key) {\n",
              "        const element = document.querySelector('#df-a74c25e8-4764-4033-bc0c-ba761e166c0d');\n",
              "        const dataTable =\n",
              "          await google.colab.kernel.invokeFunction('convertToInteractive',\n",
              "                                                    [key], {});\n",
              "        if (!dataTable) return;\n",
              "\n",
              "        const docLinkHtml = 'Like what you see? Visit the ' +\n",
              "          '<a target=\"_blank\" href=https://colab.research.google.com/notebooks/data_table.ipynb>data table notebook</a>'\n",
              "          + ' to learn more about interactive tables.';\n",
              "        element.innerHTML = '';\n",
              "        dataTable['output_type'] = 'display_data';\n",
              "        await google.colab.output.renderOutput(dataTable, element);\n",
              "        const docLink = document.createElement('div');\n",
              "        docLink.innerHTML = docLinkHtml;\n",
              "        element.appendChild(docLink);\n",
              "      }\n",
              "    </script>\n",
              "  </div>\n",
              "\n",
              "\n",
              "<div id=\"df-4f58a2ad-5acc-4ff4-bd1b-75b6aa10cbcc\">\n",
              "  <button class=\"colab-df-quickchart\" onclick=\"quickchart('df-4f58a2ad-5acc-4ff4-bd1b-75b6aa10cbcc')\"\n",
              "            title=\"Suggest charts\"\n",
              "            style=\"display:none;\">\n",
              "\n",
              "<svg xmlns=\"http://www.w3.org/2000/svg\" height=\"24px\"viewBox=\"0 0 24 24\"\n",
              "     width=\"24px\">\n",
              "    <g>\n",
              "        <path d=\"M19 3H5c-1.1 0-2 .9-2 2v14c0 1.1.9 2 2 2h14c1.1 0 2-.9 2-2V5c0-1.1-.9-2-2-2zM9 17H7v-7h2v7zm4 0h-2V7h2v10zm4 0h-2v-4h2v4z\"/>\n",
              "    </g>\n",
              "</svg>\n",
              "  </button>\n",
              "\n",
              "<style>\n",
              "  .colab-df-quickchart {\n",
              "      --bg-color: #E8F0FE;\n",
              "      --fill-color: #1967D2;\n",
              "      --hover-bg-color: #E2EBFA;\n",
              "      --hover-fill-color: #174EA6;\n",
              "      --disabled-fill-color: #AAA;\n",
              "      --disabled-bg-color: #DDD;\n",
              "  }\n",
              "\n",
              "  [theme=dark] .colab-df-quickchart {\n",
              "      --bg-color: #3B4455;\n",
              "      --fill-color: #D2E3FC;\n",
              "      --hover-bg-color: #434B5C;\n",
              "      --hover-fill-color: #FFFFFF;\n",
              "      --disabled-bg-color: #3B4455;\n",
              "      --disabled-fill-color: #666;\n",
              "  }\n",
              "\n",
              "  .colab-df-quickchart {\n",
              "    background-color: var(--bg-color);\n",
              "    border: none;\n",
              "    border-radius: 50%;\n",
              "    cursor: pointer;\n",
              "    display: none;\n",
              "    fill: var(--fill-color);\n",
              "    height: 32px;\n",
              "    padding: 0;\n",
              "    width: 32px;\n",
              "  }\n",
              "\n",
              "  .colab-df-quickchart:hover {\n",
              "    background-color: var(--hover-bg-color);\n",
              "    box-shadow: 0 1px 2px rgba(60, 64, 67, 0.3), 0 1px 3px 1px rgba(60, 64, 67, 0.15);\n",
              "    fill: var(--button-hover-fill-color);\n",
              "  }\n",
              "\n",
              "  .colab-df-quickchart-complete:disabled,\n",
              "  .colab-df-quickchart-complete:disabled:hover {\n",
              "    background-color: var(--disabled-bg-color);\n",
              "    fill: var(--disabled-fill-color);\n",
              "    box-shadow: none;\n",
              "  }\n",
              "\n",
              "  .colab-df-spinner {\n",
              "    border: 2px solid var(--fill-color);\n",
              "    border-color: transparent;\n",
              "    border-bottom-color: var(--fill-color);\n",
              "    animation:\n",
              "      spin 1s steps(1) infinite;\n",
              "  }\n",
              "\n",
              "  @keyframes spin {\n",
              "    0% {\n",
              "      border-color: transparent;\n",
              "      border-bottom-color: var(--fill-color);\n",
              "      border-left-color: var(--fill-color);\n",
              "    }\n",
              "    20% {\n",
              "      border-color: transparent;\n",
              "      border-left-color: var(--fill-color);\n",
              "      border-top-color: var(--fill-color);\n",
              "    }\n",
              "    30% {\n",
              "      border-color: transparent;\n",
              "      border-left-color: var(--fill-color);\n",
              "      border-top-color: var(--fill-color);\n",
              "      border-right-color: var(--fill-color);\n",
              "    }\n",
              "    40% {\n",
              "      border-color: transparent;\n",
              "      border-right-color: var(--fill-color);\n",
              "      border-top-color: var(--fill-color);\n",
              "    }\n",
              "    60% {\n",
              "      border-color: transparent;\n",
              "      border-right-color: var(--fill-color);\n",
              "    }\n",
              "    80% {\n",
              "      border-color: transparent;\n",
              "      border-right-color: var(--fill-color);\n",
              "      border-bottom-color: var(--fill-color);\n",
              "    }\n",
              "    90% {\n",
              "      border-color: transparent;\n",
              "      border-bottom-color: var(--fill-color);\n",
              "    }\n",
              "  }\n",
              "</style>\n",
              "\n",
              "  <script>\n",
              "    async function quickchart(key) {\n",
              "      const quickchartButtonEl =\n",
              "        document.querySelector('#' + key + ' button');\n",
              "      quickchartButtonEl.disabled = true;  // To prevent multiple clicks.\n",
              "      quickchartButtonEl.classList.add('colab-df-spinner');\n",
              "      try {\n",
              "        const charts = await google.colab.kernel.invokeFunction(\n",
              "            'suggestCharts', [key], {});\n",
              "      } catch (error) {\n",
              "        console.error('Error during call to suggestCharts:', error);\n",
              "      }\n",
              "      quickchartButtonEl.classList.remove('colab-df-spinner');\n",
              "      quickchartButtonEl.classList.add('colab-df-quickchart-complete');\n",
              "    }\n",
              "    (() => {\n",
              "      let quickchartButtonEl =\n",
              "        document.querySelector('#df-4f58a2ad-5acc-4ff4-bd1b-75b6aa10cbcc button');\n",
              "      quickchartButtonEl.style.display =\n",
              "        google.colab.kernel.accessAllowed ? 'block' : 'none';\n",
              "    })();\n",
              "  </script>\n",
              "</div>\n",
              "    </div>\n",
              "  </div>\n"
            ],
            "application/vnd.google.colaboratory.intrinsic+json": {
              "type": "dataframe",
              "summary": "{\n  \"name\": \"text_data[['Review', 'Cleaned Review', 'Cleaned Impression']]\",\n  \"rows\": 5,\n  \"fields\": [\n    {\n      \"column\": \"Review\",\n      \"properties\": {\n        \"dtype\": \"string\",\n        \"num_unique_values\": 5,\n        \"samples\": [\n          \"  I paid for seats 80 A and B on my flight from Heathrow to Boston on the A380, paying for premium economy seats. Upon arrival at the airport the ticket agent said I was not healthy enough to sit in the purchased seats due to being too old I presume (65) since there is no other reason I can find I could not sit in the exit seating. I am healthy enough to walk 10-12 miles a day and have adequate upper body strength. Attempting to convince her just got us stuck in a cattle call seat, at the rear of the aircraft, second floor and in the middle two seats of the row. We were told our money would be refunded immediately for the \\\"inconvenience\\\". After several weeks I recontacted BA and they said the complaint went to the wrong section and they were forwarding it to the next section. 6 weeks later and we still have not heard any updates except for a computer response stating most refunds were returned in 3 weeks, keep waiting. The plane then had ground difficulties and needed a quick repair. They completed that 30 minutes later and boarded the flight. The captain then came on and said it looks like they forgot to order the ground crew to back us out of the terminal and we needed to wait another 30 minutes. We were not able to make up for the lost time in the air. We landed 1.5 hours later than scheduled, wreaking havoc with our next flight.\",\n          \"  I was very impressed with their efficient boarding, the relatively (compared to Air Canada) comfortable seats and the quality of the food. Drinks and snacks frequently offered. Overall a no fuss, no bother experience.\",\n          \" The flight wasn\\u2019t that bad, although the Inflight entertainment wasn\\u2019t great, the screen was very old-fashioned. It was hard to operate in the dark as the touch screen wasn\\u2019t working at times. There was though a remote. The cabin crew slamming air larders (ovens and draws). Apart from that, the cabin crew were nice, the food was good and the seat was comfortable.\"\n        ],\n        \"semantic_type\": \"\",\n        \"description\": \"\"\n      }\n    },\n    {\n      \"column\": \"Cleaned Review\",\n      \"properties\": {\n        \"dtype\": \"object\",\n        \"semantic_type\": \"\",\n        \"description\": \"\"\n      }\n    },\n    {\n      \"column\": \"Cleaned Impression\",\n      \"properties\": {\n        \"dtype\": \"object\",\n        \"semantic_type\": \"\",\n        \"description\": \"\"\n      }\n    }\n  ]\n}"
            }
          },
          "metadata": {},
          "execution_count": 13
        }
      ]
    },
    {
      "cell_type": "markdown",
      "source": [
        "## Sentiment Analyzer\n",
        "*We will use the impression column, which summarizes the main idea of ​​the feedback, to evaluate its mood*\n",
        "\n",
        "First, we’ll initialize a Sentiment Intensity Analyzer object from the ```nltk.sentiment.vader``` library.\n",
        "\n",
        "Next, we’ll call the polarity_scores method of the analyzer object to obtain a dictionary of sentiment scores for the text, which includes a score for positive, negative, and neutral sentiment.\n",
        "\n",
        "The 'compound' score, which ranges from -1 (most negative) to 1 (most positive), is used.\n",
        "\n",
        "This creates a new column called Sentiment Score in the DataFrame, which stores the sentiment score for each review.\n"
      ],
      "metadata": {
        "id": "q7zrqfCU-Y0e"
      }
    },
    {
      "cell_type": "code",
      "source": [
        "# Sentiment Analysis\n",
        "sia = SentimentIntensityAnalyzer()\n",
        "\n",
        "# Apply sentiment analysis to the cleaned text\n",
        "text_data['Sentiment Score'] = text_data['Cleaned Impression'].apply(lambda x: sia.polarity_scores(' '.join(x))['compound'])\n",
        "\n",
        "# Add a sentiment label based on the compound score\n",
        "text_data['Sentiment Label'] = text_data['Sentiment Score'].apply(\n",
        "    lambda score: 'Positive' if score > 0 else ('Negative' if score < 0 else 'Neutral'))\n",
        "\n",
        "# Display the results\n",
        "\n",
        "pd.DataFrame(text_data).head(10)"
      ],
      "metadata": {
        "id": "zMVKM5tI-ZA0",
        "colab": {
          "base_uri": "https://localhost:8080/",
          "height": 921
        },
        "outputId": "436f4a74-18f6-4558-a8f6-2cc71f6ffd45"
      },
      "execution_count": 14,
      "outputs": [
        {
          "output_type": "stream",
          "name": "stderr",
          "text": [
            "/usr/local/lib/python3.10/dist-packages/ipykernel/ipkernel.py:283: DeprecationWarning:\n",
            "\n",
            "`should_run_async` will not call `transform_cell` automatically in the future. Please pass the result to `transformed_cell` argument and any exception that happen during thetransform in `preprocessing_exc_tuple` in IPython 7.17 and above.\n",
            "\n",
            "<ipython-input-14-8d1643433e28>:5: SettingWithCopyWarning:\n",
            "\n",
            "\n",
            "A value is trying to be set on a copy of a slice from a DataFrame.\n",
            "Try using .loc[row_indexer,col_indexer] = value instead\n",
            "\n",
            "See the caveats in the documentation: https://pandas.pydata.org/pandas-docs/stable/user_guide/indexing.html#returning-a-view-versus-a-copy\n",
            "\n",
            "<ipython-input-14-8d1643433e28>:8: SettingWithCopyWarning:\n",
            "\n",
            "\n",
            "A value is trying to be set on a copy of a slice from a DataFrame.\n",
            "Try using .loc[row_indexer,col_indexer] = value instead\n",
            "\n",
            "See the caveats in the documentation: https://pandas.pydata.org/pandas-docs/stable/user_guide/indexing.html#returning-a-view-versus-a-copy\n",
            "\n"
          ]
        },
        {
          "output_type": "execute_result",
          "data": {
            "text/plain": [
              "                                              Review  \\\n",
              "0     I recently travelled from Munich to London ...   \n",
              "1    I paid for seats 80 A and B on my flight fro...   \n",
              "2   The flight wasn’t that bad, although the Infl...   \n",
              "3    I decided to treat myself and my teenage dau...   \n",
              "4    I was very impressed with their efficient bo...   \n",
              "5    The flight scheduled at 1840 left 2hours 40 ...   \n",
              "6     I have been flying BA for over 15 years. I ...   \n",
              "7     On arriving at Mexico Airport we were told ...   \n",
              "8     I have flown British Airways for many years...   \n",
              "9   We bought tickets for a Geneva-London flight,...   \n",
              "\n",
              "                                         Impression  \\\n",
              "0                       \"never fly with them again\"   \n",
              "1                \"still have not heard any updates\"   \n",
              "2                            \"cabin crew were nice\"   \n",
              "3           \"support staff wash their hands of you\"   \n",
              "4                   \"no fuss, no bother experience\"   \n",
              "5                      \"Who can trust BA to travel2   \n",
              "6                       \"just another poor airline\"   \n",
              "7  \"spent two hours trying to make contact with BA\"   \n",
              "8         \"using another airline for future travel\"   \n",
              "9                  \"oversold tickets on our flight\"   \n",
              "\n",
              "                        Cleaned Impression  \\\n",
              "0                             [never, fly]   \n",
              "1                    [still, hear, update]   \n",
              "2                      [cabin, crew, nice]   \n",
              "3             [support, staff, wash, hand]   \n",
              "4               [fuss, bother, experience]   \n",
              "5                         [trust, travel2]   \n",
              "6                 [another, poor, airline]   \n",
              "7   [spend, two, hour, try, make, contact]   \n",
              "8  [use, another, airline, future, travel]   \n",
              "9                       [oversell, ticket]   \n",
              "\n",
              "                                      Cleaned Review  Sentiment Score  \\\n",
              "0  [nightmare, trouble, malfunction, app, check, ...           0.0000   \n",
              "1  [seat, b, heathrow, boston, pay, premium, econ...           0.0000   \n",
              "2  [entertainment, screen, oldfashione, touch, sc...           0.4215   \n",
              "3  [daughter, holiday, pound, end, hour, trap, se...           0.7096   \n",
              "4  [boarding, air, seat, quality, food, drink, sn...          -0.3400   \n",
              "5  [schedule, minute, alter, arrival, aircraft, n...           0.5106   \n",
              "6  [year, gold, member, year, thing, notice, year...          -0.4767   \n",
              "7  [delay, aircraft, replacement, aircraft, lhr, ...           0.0000   \n",
              "8  [year, flight, summer, minute, connect, airpor...           0.0000   \n",
              "9  [ticket, genevalondon, airport, airline, ticke...          -0.2263   \n",
              "\n",
              "  Sentiment Label  \n",
              "0         Neutral  \n",
              "1         Neutral  \n",
              "2        Positive  \n",
              "3        Positive  \n",
              "4        Negative  \n",
              "5        Positive  \n",
              "6        Negative  \n",
              "7         Neutral  \n",
              "8         Neutral  \n",
              "9        Negative  "
            ],
            "text/html": [
              "\n",
              "  <div id=\"df-2adbd9ec-088f-4c78-96b7-7eb126143c51\" class=\"colab-df-container\">\n",
              "    <div>\n",
              "<style scoped>\n",
              "    .dataframe tbody tr th:only-of-type {\n",
              "        vertical-align: middle;\n",
              "    }\n",
              "\n",
              "    .dataframe tbody tr th {\n",
              "        vertical-align: top;\n",
              "    }\n",
              "\n",
              "    .dataframe thead th {\n",
              "        text-align: right;\n",
              "    }\n",
              "</style>\n",
              "<table border=\"1\" class=\"dataframe\">\n",
              "  <thead>\n",
              "    <tr style=\"text-align: right;\">\n",
              "      <th></th>\n",
              "      <th>Review</th>\n",
              "      <th>Impression</th>\n",
              "      <th>Cleaned Impression</th>\n",
              "      <th>Cleaned Review</th>\n",
              "      <th>Sentiment Score</th>\n",
              "      <th>Sentiment Label</th>\n",
              "    </tr>\n",
              "  </thead>\n",
              "  <tbody>\n",
              "    <tr>\n",
              "      <th>0</th>\n",
              "      <td>I recently travelled from Munich to London ...</td>\n",
              "      <td>\"never fly with them again\"</td>\n",
              "      <td>[never, fly]</td>\n",
              "      <td>[nightmare, trouble, malfunction, app, check, ...</td>\n",
              "      <td>0.0000</td>\n",
              "      <td>Neutral</td>\n",
              "    </tr>\n",
              "    <tr>\n",
              "      <th>1</th>\n",
              "      <td>I paid for seats 80 A and B on my flight fro...</td>\n",
              "      <td>\"still have not heard any updates\"</td>\n",
              "      <td>[still, hear, update]</td>\n",
              "      <td>[seat, b, heathrow, boston, pay, premium, econ...</td>\n",
              "      <td>0.0000</td>\n",
              "      <td>Neutral</td>\n",
              "    </tr>\n",
              "    <tr>\n",
              "      <th>2</th>\n",
              "      <td>The flight wasn’t that bad, although the Infl...</td>\n",
              "      <td>\"cabin crew were nice\"</td>\n",
              "      <td>[cabin, crew, nice]</td>\n",
              "      <td>[entertainment, screen, oldfashione, touch, sc...</td>\n",
              "      <td>0.4215</td>\n",
              "      <td>Positive</td>\n",
              "    </tr>\n",
              "    <tr>\n",
              "      <th>3</th>\n",
              "      <td>I decided to treat myself and my teenage dau...</td>\n",
              "      <td>\"support staff wash their hands of you\"</td>\n",
              "      <td>[support, staff, wash, hand]</td>\n",
              "      <td>[daughter, holiday, pound, end, hour, trap, se...</td>\n",
              "      <td>0.7096</td>\n",
              "      <td>Positive</td>\n",
              "    </tr>\n",
              "    <tr>\n",
              "      <th>4</th>\n",
              "      <td>I was very impressed with their efficient bo...</td>\n",
              "      <td>\"no fuss, no bother experience\"</td>\n",
              "      <td>[fuss, bother, experience]</td>\n",
              "      <td>[boarding, air, seat, quality, food, drink, sn...</td>\n",
              "      <td>-0.3400</td>\n",
              "      <td>Negative</td>\n",
              "    </tr>\n",
              "    <tr>\n",
              "      <th>5</th>\n",
              "      <td>The flight scheduled at 1840 left 2hours 40 ...</td>\n",
              "      <td>\"Who can trust BA to travel2</td>\n",
              "      <td>[trust, travel2]</td>\n",
              "      <td>[schedule, minute, alter, arrival, aircraft, n...</td>\n",
              "      <td>0.5106</td>\n",
              "      <td>Positive</td>\n",
              "    </tr>\n",
              "    <tr>\n",
              "      <th>6</th>\n",
              "      <td>I have been flying BA for over 15 years. I ...</td>\n",
              "      <td>\"just another poor airline\"</td>\n",
              "      <td>[another, poor, airline]</td>\n",
              "      <td>[year, gold, member, year, thing, notice, year...</td>\n",
              "      <td>-0.4767</td>\n",
              "      <td>Negative</td>\n",
              "    </tr>\n",
              "    <tr>\n",
              "      <th>7</th>\n",
              "      <td>On arriving at Mexico Airport we were told ...</td>\n",
              "      <td>\"spent two hours trying to make contact with BA\"</td>\n",
              "      <td>[spend, two, hour, try, make, contact]</td>\n",
              "      <td>[delay, aircraft, replacement, aircraft, lhr, ...</td>\n",
              "      <td>0.0000</td>\n",
              "      <td>Neutral</td>\n",
              "    </tr>\n",
              "    <tr>\n",
              "      <th>8</th>\n",
              "      <td>I have flown British Airways for many years...</td>\n",
              "      <td>\"using another airline for future travel\"</td>\n",
              "      <td>[use, another, airline, future, travel]</td>\n",
              "      <td>[year, flight, summer, minute, connect, airpor...</td>\n",
              "      <td>0.0000</td>\n",
              "      <td>Neutral</td>\n",
              "    </tr>\n",
              "    <tr>\n",
              "      <th>9</th>\n",
              "      <td>We bought tickets for a Geneva-London flight,...</td>\n",
              "      <td>\"oversold tickets on our flight\"</td>\n",
              "      <td>[oversell, ticket]</td>\n",
              "      <td>[ticket, genevalondon, airport, airline, ticke...</td>\n",
              "      <td>-0.2263</td>\n",
              "      <td>Negative</td>\n",
              "    </tr>\n",
              "  </tbody>\n",
              "</table>\n",
              "</div>\n",
              "    <div class=\"colab-df-buttons\">\n",
              "\n",
              "  <div class=\"colab-df-container\">\n",
              "    <button class=\"colab-df-convert\" onclick=\"convertToInteractive('df-2adbd9ec-088f-4c78-96b7-7eb126143c51')\"\n",
              "            title=\"Convert this dataframe to an interactive table.\"\n",
              "            style=\"display:none;\">\n",
              "\n",
              "  <svg xmlns=\"http://www.w3.org/2000/svg\" height=\"24px\" viewBox=\"0 -960 960 960\">\n",
              "    <path d=\"M120-120v-720h720v720H120Zm60-500h600v-160H180v160Zm220 220h160v-160H400v160Zm0 220h160v-160H400v160ZM180-400h160v-160H180v160Zm440 0h160v-160H620v160ZM180-180h160v-160H180v160Zm440 0h160v-160H620v160Z\"/>\n",
              "  </svg>\n",
              "    </button>\n",
              "\n",
              "  <style>\n",
              "    .colab-df-container {\n",
              "      display:flex;\n",
              "      gap: 12px;\n",
              "    }\n",
              "\n",
              "    .colab-df-convert {\n",
              "      background-color: #E8F0FE;\n",
              "      border: none;\n",
              "      border-radius: 50%;\n",
              "      cursor: pointer;\n",
              "      display: none;\n",
              "      fill: #1967D2;\n",
              "      height: 32px;\n",
              "      padding: 0 0 0 0;\n",
              "      width: 32px;\n",
              "    }\n",
              "\n",
              "    .colab-df-convert:hover {\n",
              "      background-color: #E2EBFA;\n",
              "      box-shadow: 0px 1px 2px rgba(60, 64, 67, 0.3), 0px 1px 3px 1px rgba(60, 64, 67, 0.15);\n",
              "      fill: #174EA6;\n",
              "    }\n",
              "\n",
              "    .colab-df-buttons div {\n",
              "      margin-bottom: 4px;\n",
              "    }\n",
              "\n",
              "    [theme=dark] .colab-df-convert {\n",
              "      background-color: #3B4455;\n",
              "      fill: #D2E3FC;\n",
              "    }\n",
              "\n",
              "    [theme=dark] .colab-df-convert:hover {\n",
              "      background-color: #434B5C;\n",
              "      box-shadow: 0px 1px 3px 1px rgba(0, 0, 0, 0.15);\n",
              "      filter: drop-shadow(0px 1px 2px rgba(0, 0, 0, 0.3));\n",
              "      fill: #FFFFFF;\n",
              "    }\n",
              "  </style>\n",
              "\n",
              "    <script>\n",
              "      const buttonEl =\n",
              "        document.querySelector('#df-2adbd9ec-088f-4c78-96b7-7eb126143c51 button.colab-df-convert');\n",
              "      buttonEl.style.display =\n",
              "        google.colab.kernel.accessAllowed ? 'block' : 'none';\n",
              "\n",
              "      async function convertToInteractive(key) {\n",
              "        const element = document.querySelector('#df-2adbd9ec-088f-4c78-96b7-7eb126143c51');\n",
              "        const dataTable =\n",
              "          await google.colab.kernel.invokeFunction('convertToInteractive',\n",
              "                                                    [key], {});\n",
              "        if (!dataTable) return;\n",
              "\n",
              "        const docLinkHtml = 'Like what you see? Visit the ' +\n",
              "          '<a target=\"_blank\" href=https://colab.research.google.com/notebooks/data_table.ipynb>data table notebook</a>'\n",
              "          + ' to learn more about interactive tables.';\n",
              "        element.innerHTML = '';\n",
              "        dataTable['output_type'] = 'display_data';\n",
              "        await google.colab.output.renderOutput(dataTable, element);\n",
              "        const docLink = document.createElement('div');\n",
              "        docLink.innerHTML = docLinkHtml;\n",
              "        element.appendChild(docLink);\n",
              "      }\n",
              "    </script>\n",
              "  </div>\n",
              "\n",
              "\n",
              "<div id=\"df-e46d0652-27c5-4041-b3b0-2232154025d6\">\n",
              "  <button class=\"colab-df-quickchart\" onclick=\"quickchart('df-e46d0652-27c5-4041-b3b0-2232154025d6')\"\n",
              "            title=\"Suggest charts\"\n",
              "            style=\"display:none;\">\n",
              "\n",
              "<svg xmlns=\"http://www.w3.org/2000/svg\" height=\"24px\"viewBox=\"0 0 24 24\"\n",
              "     width=\"24px\">\n",
              "    <g>\n",
              "        <path d=\"M19 3H5c-1.1 0-2 .9-2 2v14c0 1.1.9 2 2 2h14c1.1 0 2-.9 2-2V5c0-1.1-.9-2-2-2zM9 17H7v-7h2v7zm4 0h-2V7h2v10zm4 0h-2v-4h2v4z\"/>\n",
              "    </g>\n",
              "</svg>\n",
              "  </button>\n",
              "\n",
              "<style>\n",
              "  .colab-df-quickchart {\n",
              "      --bg-color: #E8F0FE;\n",
              "      --fill-color: #1967D2;\n",
              "      --hover-bg-color: #E2EBFA;\n",
              "      --hover-fill-color: #174EA6;\n",
              "      --disabled-fill-color: #AAA;\n",
              "      --disabled-bg-color: #DDD;\n",
              "  }\n",
              "\n",
              "  [theme=dark] .colab-df-quickchart {\n",
              "      --bg-color: #3B4455;\n",
              "      --fill-color: #D2E3FC;\n",
              "      --hover-bg-color: #434B5C;\n",
              "      --hover-fill-color: #FFFFFF;\n",
              "      --disabled-bg-color: #3B4455;\n",
              "      --disabled-fill-color: #666;\n",
              "  }\n",
              "\n",
              "  .colab-df-quickchart {\n",
              "    background-color: var(--bg-color);\n",
              "    border: none;\n",
              "    border-radius: 50%;\n",
              "    cursor: pointer;\n",
              "    display: none;\n",
              "    fill: var(--fill-color);\n",
              "    height: 32px;\n",
              "    padding: 0;\n",
              "    width: 32px;\n",
              "  }\n",
              "\n",
              "  .colab-df-quickchart:hover {\n",
              "    background-color: var(--hover-bg-color);\n",
              "    box-shadow: 0 1px 2px rgba(60, 64, 67, 0.3), 0 1px 3px 1px rgba(60, 64, 67, 0.15);\n",
              "    fill: var(--button-hover-fill-color);\n",
              "  }\n",
              "\n",
              "  .colab-df-quickchart-complete:disabled,\n",
              "  .colab-df-quickchart-complete:disabled:hover {\n",
              "    background-color: var(--disabled-bg-color);\n",
              "    fill: var(--disabled-fill-color);\n",
              "    box-shadow: none;\n",
              "  }\n",
              "\n",
              "  .colab-df-spinner {\n",
              "    border: 2px solid var(--fill-color);\n",
              "    border-color: transparent;\n",
              "    border-bottom-color: var(--fill-color);\n",
              "    animation:\n",
              "      spin 1s steps(1) infinite;\n",
              "  }\n",
              "\n",
              "  @keyframes spin {\n",
              "    0% {\n",
              "      border-color: transparent;\n",
              "      border-bottom-color: var(--fill-color);\n",
              "      border-left-color: var(--fill-color);\n",
              "    }\n",
              "    20% {\n",
              "      border-color: transparent;\n",
              "      border-left-color: var(--fill-color);\n",
              "      border-top-color: var(--fill-color);\n",
              "    }\n",
              "    30% {\n",
              "      border-color: transparent;\n",
              "      border-left-color: var(--fill-color);\n",
              "      border-top-color: var(--fill-color);\n",
              "      border-right-color: var(--fill-color);\n",
              "    }\n",
              "    40% {\n",
              "      border-color: transparent;\n",
              "      border-right-color: var(--fill-color);\n",
              "      border-top-color: var(--fill-color);\n",
              "    }\n",
              "    60% {\n",
              "      border-color: transparent;\n",
              "      border-right-color: var(--fill-color);\n",
              "    }\n",
              "    80% {\n",
              "      border-color: transparent;\n",
              "      border-right-color: var(--fill-color);\n",
              "      border-bottom-color: var(--fill-color);\n",
              "    }\n",
              "    90% {\n",
              "      border-color: transparent;\n",
              "      border-bottom-color: var(--fill-color);\n",
              "    }\n",
              "  }\n",
              "</style>\n",
              "\n",
              "  <script>\n",
              "    async function quickchart(key) {\n",
              "      const quickchartButtonEl =\n",
              "        document.querySelector('#' + key + ' button');\n",
              "      quickchartButtonEl.disabled = true;  // To prevent multiple clicks.\n",
              "      quickchartButtonEl.classList.add('colab-df-spinner');\n",
              "      try {\n",
              "        const charts = await google.colab.kernel.invokeFunction(\n",
              "            'suggestCharts', [key], {});\n",
              "      } catch (error) {\n",
              "        console.error('Error during call to suggestCharts:', error);\n",
              "      }\n",
              "      quickchartButtonEl.classList.remove('colab-df-spinner');\n",
              "      quickchartButtonEl.classList.add('colab-df-quickchart-complete');\n",
              "    }\n",
              "    (() => {\n",
              "      let quickchartButtonEl =\n",
              "        document.querySelector('#df-e46d0652-27c5-4041-b3b0-2232154025d6 button');\n",
              "      quickchartButtonEl.style.display =\n",
              "        google.colab.kernel.accessAllowed ? 'block' : 'none';\n",
              "    })();\n",
              "  </script>\n",
              "</div>\n",
              "    </div>\n",
              "  </div>\n"
            ],
            "application/vnd.google.colaboratory.intrinsic+json": {
              "type": "dataframe",
              "summary": "{\n  \"name\": \"pd\",\n  \"rows\": 10,\n  \"fields\": [\n    {\n      \"column\": \"Review\",\n      \"properties\": {\n        \"dtype\": \"string\",\n        \"num_unique_values\": 10,\n        \"samples\": [\n          \"   I have flown British Airways for many years and still do so regularly. In one of my last flights this past summer between Paris and Boston, British booked me on a connecting flight between Paris and London that gave me a maximum of 90 minutes to connect in London. London Heathrow is a massive airport where going from terminal to terminal could take 20-30 minutes once you deplane, not including the actual time to deplane if you are seated in the back and lines at passport control and security between terminals. So already, one is pressed for time. My flight from Paris to London that day was tardy, 49 minutes tardy that day to be exact. BA Flight 323 in fact, is routinely tardy. \\u2013 don\\u2019t bother with this one. Flight Connections assisted me by calling the new gate to let them know my previous flight had been delayed and that I was rushing to the gate. It was 30 minutes before my connecting flight was to depart. I ran like a fool for 25 minutes, carryons and all, arriving to the gate 5 minutes before my flight was to depart, only to be greeted by no plane. The agent said that since no one knew where I was (false) the plane left without me \\u2013 early. Gaining a few minutes was more important than an passenger inconvenienced by their own delay. So I made the 20 minute trek back to Flight Connections knowing that they would have to rebook me the following day. I was now going to miss the wedding I was destined to attend in Boston. They sent me to a prepaid Hilton hotel room for the night but told me that I would have to pay 30 pounds each way for a taxi to take me there. They gave me a pamphlet with instructions for reimbursement. This was in early July. It took me 4 months and a complaint to the British Centre for Effective Dispute Resolution to be reimbursed for the equivalent of $77. There was no apology, no recognition, not even a free drink coupon for that next flight I won\\u2019t ever take with British. Like a bad insurance claim, British just kept denying my claim, expecting that I would just go away. Well, I am going away. I\\u2019m taking my $77 and using another airline for future travel.\",\n          \"  I paid for seats 80 A and B on my flight from Heathrow to Boston on the A380, paying for premium economy seats. Upon arrival at the airport the ticket agent said I was not healthy enough to sit in the purchased seats due to being too old I presume (65) since there is no other reason I can find I could not sit in the exit seating. I am healthy enough to walk 10-12 miles a day and have adequate upper body strength. Attempting to convince her just got us stuck in a cattle call seat, at the rear of the aircraft, second floor and in the middle two seats of the row. We were told our money would be refunded immediately for the \\\"inconvenience\\\". After several weeks I recontacted BA and they said the complaint went to the wrong section and they were forwarding it to the next section. 6 weeks later and we still have not heard any updates except for a computer response stating most refunds were returned in 3 weeks, keep waiting. The plane then had ground difficulties and needed a quick repair. They completed that 30 minutes later and boarded the flight. The captain then came on and said it looks like they forgot to order the ground crew to back us out of the terminal and we needed to wait another 30 minutes. We were not able to make up for the lost time in the air. We landed 1.5 hours later than scheduled, wreaking havoc with our next flight.\",\n          \"  The flight scheduled at 1840 left 2hours 40 minutes alter due to late arrival of incoming aircraft from Naples, as a result I missed a connection from Istanbul to Dubai, Nothing unusual. The issue acknowledged by the captain is that the plane had been late since the morning flight from Rome with rolling effect until the evening. As this was the case, whey did BA not contact me and all other passengers, I could have made other arrangements and fly early to Istanbul and not miss my connection resulting in a \\u00a3300 charge and a long delay. BA has certainly lots of staff who could have informed by using the email or text. Obviously passengers are of no utility to BA once the ticket is purchased. Who can trust BA to travel? Not me now after such poor handling of a simple matter.\"\n        ],\n        \"semantic_type\": \"\",\n        \"description\": \"\"\n      }\n    },\n    {\n      \"column\": \"Impression\",\n      \"properties\": {\n        \"dtype\": \"string\",\n        \"num_unique_values\": 10,\n        \"samples\": [\n          \"\\\"using another airline for future travel\\\"\",\n          \"\\\"still have not heard any updates\\\"\",\n          \"\\\"Who can trust BA to travel2\"\n        ],\n        \"semantic_type\": \"\",\n        \"description\": \"\"\n      }\n    },\n    {\n      \"column\": \"Cleaned Impression\",\n      \"properties\": {\n        \"dtype\": \"object\",\n        \"semantic_type\": \"\",\n        \"description\": \"\"\n      }\n    },\n    {\n      \"column\": \"Cleaned Review\",\n      \"properties\": {\n        \"dtype\": \"object\",\n        \"semantic_type\": \"\",\n        \"description\": \"\"\n      }\n    },\n    {\n      \"column\": \"Sentiment Score\",\n      \"properties\": {\n        \"dtype\": \"number\",\n        \"std\": 0.38007560373635607,\n        \"min\": -0.4767,\n        \"max\": 0.7096,\n        \"num_unique_values\": 7,\n        \"samples\": [\n          0.0,\n          0.4215,\n          -0.4767\n        ],\n        \"semantic_type\": \"\",\n        \"description\": \"\"\n      }\n    },\n    {\n      \"column\": \"Sentiment Label\",\n      \"properties\": {\n        \"dtype\": \"category\",\n        \"num_unique_values\": 3,\n        \"samples\": [\n          \"Neutral\",\n          \"Positive\",\n          \"Negative\"\n        ],\n        \"semantic_type\": \"\",\n        \"description\": \"\"\n      }\n    }\n  ]\n}"
            }
          },
          "metadata": {},
          "execution_count": 14
        }
      ]
    },
    {
      "cell_type": "code",
      "source": [
        "# Підрахунок кількості кожної категорії (Positive, Negative, Neutral)\n",
        "sentiment_counts = text_data['Sentiment Label'].value_counts()\n",
        "\n",
        "# Створення кругової діаграми\n",
        "fig = px.pie(values=sentiment_counts, names=sentiment_counts.index,\n",
        "             title=\"Distribution of Sentiment Labels\",\n",
        "             color_discrete_sequence=px.colors.qualitative.Pastel)\n",
        "\n",
        "fig.show()"
      ],
      "metadata": {
        "colab": {
          "base_uri": "https://localhost:8080/",
          "height": 631
        },
        "id": "Nm4Z2NN6ygZE",
        "outputId": "d022d6b7-f06f-49c6-d04b-21cf0b0611ce"
      },
      "execution_count": 15,
      "outputs": [
        {
          "output_type": "stream",
          "name": "stderr",
          "text": [
            "/usr/local/lib/python3.10/dist-packages/ipykernel/ipkernel.py:283: DeprecationWarning:\n",
            "\n",
            "`should_run_async` will not call `transform_cell` automatically in the future. Please pass the result to `transformed_cell` argument and any exception that happen during thetransform in `preprocessing_exc_tuple` in IPython 7.17 and above.\n",
            "\n"
          ]
        },
        {
          "output_type": "display_data",
          "data": {
            "text/html": [
              "<html>\n",
              "<head><meta charset=\"utf-8\" /></head>\n",
              "<body>\n",
              "    <div>            <script src=\"https://cdnjs.cloudflare.com/ajax/libs/mathjax/2.7.5/MathJax.js?config=TeX-AMS-MML_SVG\"></script><script type=\"text/javascript\">if (window.MathJax && window.MathJax.Hub && window.MathJax.Hub.Config) {window.MathJax.Hub.Config({SVG: {font: \"STIX-Web\"}});}</script>                <script type=\"text/javascript\">window.PlotlyConfig = {MathJaxConfig: 'local'};</script>\n",
              "        <script charset=\"utf-8\" src=\"https://cdn.plot.ly/plotly-2.35.2.min.js\"></script>                <div id=\"dd2e3260-a7e4-400f-966d-468ea4be75c5\" class=\"plotly-graph-div\" style=\"height:525px; width:100%;\"></div>            <script type=\"text/javascript\">                                    window.PLOTLYENV=window.PLOTLYENV || {};                                    if (document.getElementById(\"dd2e3260-a7e4-400f-966d-468ea4be75c5\")) {                    Plotly.newPlot(                        \"dd2e3260-a7e4-400f-966d-468ea4be75c5\",                        [{\"domain\":{\"x\":[0.0,1.0],\"y\":[0.0,1.0]},\"hovertemplate\":\"label=%{label}\\u003cbr\\u003evalue=%{value}\\u003cextra\\u003e\\u003c\\u002fextra\\u003e\",\"labels\":[\"Neutral\",\"Negative\",\"Positive\"],\"legendgroup\":\"\",\"name\":\"\",\"showlegend\":true,\"values\":[343,331,326],\"type\":\"pie\"}],                        {\"template\":{\"data\":{\"histogram2dcontour\":[{\"type\":\"histogram2dcontour\",\"colorbar\":{\"outlinewidth\":0,\"ticks\":\"\"},\"colorscale\":[[0.0,\"#0d0887\"],[0.1111111111111111,\"#46039f\"],[0.2222222222222222,\"#7201a8\"],[0.3333333333333333,\"#9c179e\"],[0.4444444444444444,\"#bd3786\"],[0.5555555555555556,\"#d8576b\"],[0.6666666666666666,\"#ed7953\"],[0.7777777777777778,\"#fb9f3a\"],[0.8888888888888888,\"#fdca26\"],[1.0,\"#f0f921\"]]}],\"choropleth\":[{\"type\":\"choropleth\",\"colorbar\":{\"outlinewidth\":0,\"ticks\":\"\"}}],\"histogram2d\":[{\"type\":\"histogram2d\",\"colorbar\":{\"outlinewidth\":0,\"ticks\":\"\"},\"colorscale\":[[0.0,\"#0d0887\"],[0.1111111111111111,\"#46039f\"],[0.2222222222222222,\"#7201a8\"],[0.3333333333333333,\"#9c179e\"],[0.4444444444444444,\"#bd3786\"],[0.5555555555555556,\"#d8576b\"],[0.6666666666666666,\"#ed7953\"],[0.7777777777777778,\"#fb9f3a\"],[0.8888888888888888,\"#fdca26\"],[1.0,\"#f0f921\"]]}],\"heatmap\":[{\"type\":\"heatmap\",\"colorbar\":{\"outlinewidth\":0,\"ticks\":\"\"},\"colorscale\":[[0.0,\"#0d0887\"],[0.1111111111111111,\"#46039f\"],[0.2222222222222222,\"#7201a8\"],[0.3333333333333333,\"#9c179e\"],[0.4444444444444444,\"#bd3786\"],[0.5555555555555556,\"#d8576b\"],[0.6666666666666666,\"#ed7953\"],[0.7777777777777778,\"#fb9f3a\"],[0.8888888888888888,\"#fdca26\"],[1.0,\"#f0f921\"]]}],\"heatmapgl\":[{\"type\":\"heatmapgl\",\"colorbar\":{\"outlinewidth\":0,\"ticks\":\"\"},\"colorscale\":[[0.0,\"#0d0887\"],[0.1111111111111111,\"#46039f\"],[0.2222222222222222,\"#7201a8\"],[0.3333333333333333,\"#9c179e\"],[0.4444444444444444,\"#bd3786\"],[0.5555555555555556,\"#d8576b\"],[0.6666666666666666,\"#ed7953\"],[0.7777777777777778,\"#fb9f3a\"],[0.8888888888888888,\"#fdca26\"],[1.0,\"#f0f921\"]]}],\"contourcarpet\":[{\"type\":\"contourcarpet\",\"colorbar\":{\"outlinewidth\":0,\"ticks\":\"\"}}],\"contour\":[{\"type\":\"contour\",\"colorbar\":{\"outlinewidth\":0,\"ticks\":\"\"},\"colorscale\":[[0.0,\"#0d0887\"],[0.1111111111111111,\"#46039f\"],[0.2222222222222222,\"#7201a8\"],[0.3333333333333333,\"#9c179e\"],[0.4444444444444444,\"#bd3786\"],[0.5555555555555556,\"#d8576b\"],[0.6666666666666666,\"#ed7953\"],[0.7777777777777778,\"#fb9f3a\"],[0.8888888888888888,\"#fdca26\"],[1.0,\"#f0f921\"]]}],\"surface\":[{\"type\":\"surface\",\"colorbar\":{\"outlinewidth\":0,\"ticks\":\"\"},\"colorscale\":[[0.0,\"#0d0887\"],[0.1111111111111111,\"#46039f\"],[0.2222222222222222,\"#7201a8\"],[0.3333333333333333,\"#9c179e\"],[0.4444444444444444,\"#bd3786\"],[0.5555555555555556,\"#d8576b\"],[0.6666666666666666,\"#ed7953\"],[0.7777777777777778,\"#fb9f3a\"],[0.8888888888888888,\"#fdca26\"],[1.0,\"#f0f921\"]]}],\"mesh3d\":[{\"type\":\"mesh3d\",\"colorbar\":{\"outlinewidth\":0,\"ticks\":\"\"}}],\"scatter\":[{\"fillpattern\":{\"fillmode\":\"overlay\",\"size\":10,\"solidity\":0.2},\"type\":\"scatter\"}],\"parcoords\":[{\"type\":\"parcoords\",\"line\":{\"colorbar\":{\"outlinewidth\":0,\"ticks\":\"\"}}}],\"scatterpolargl\":[{\"type\":\"scatterpolargl\",\"marker\":{\"colorbar\":{\"outlinewidth\":0,\"ticks\":\"\"}}}],\"bar\":[{\"error_x\":{\"color\":\"#2a3f5f\"},\"error_y\":{\"color\":\"#2a3f5f\"},\"marker\":{\"line\":{\"color\":\"#E5ECF6\",\"width\":0.5},\"pattern\":{\"fillmode\":\"overlay\",\"size\":10,\"solidity\":0.2}},\"type\":\"bar\"}],\"scattergeo\":[{\"type\":\"scattergeo\",\"marker\":{\"colorbar\":{\"outlinewidth\":0,\"ticks\":\"\"}}}],\"scatterpolar\":[{\"type\":\"scatterpolar\",\"marker\":{\"colorbar\":{\"outlinewidth\":0,\"ticks\":\"\"}}}],\"histogram\":[{\"marker\":{\"pattern\":{\"fillmode\":\"overlay\",\"size\":10,\"solidity\":0.2}},\"type\":\"histogram\"}],\"scattergl\":[{\"type\":\"scattergl\",\"marker\":{\"colorbar\":{\"outlinewidth\":0,\"ticks\":\"\"}}}],\"scatter3d\":[{\"type\":\"scatter3d\",\"line\":{\"colorbar\":{\"outlinewidth\":0,\"ticks\":\"\"}},\"marker\":{\"colorbar\":{\"outlinewidth\":0,\"ticks\":\"\"}}}],\"scattermapbox\":[{\"type\":\"scattermapbox\",\"marker\":{\"colorbar\":{\"outlinewidth\":0,\"ticks\":\"\"}}}],\"scatterternary\":[{\"type\":\"scatterternary\",\"marker\":{\"colorbar\":{\"outlinewidth\":0,\"ticks\":\"\"}}}],\"scattercarpet\":[{\"type\":\"scattercarpet\",\"marker\":{\"colorbar\":{\"outlinewidth\":0,\"ticks\":\"\"}}}],\"carpet\":[{\"aaxis\":{\"endlinecolor\":\"#2a3f5f\",\"gridcolor\":\"white\",\"linecolor\":\"white\",\"minorgridcolor\":\"white\",\"startlinecolor\":\"#2a3f5f\"},\"baxis\":{\"endlinecolor\":\"#2a3f5f\",\"gridcolor\":\"white\",\"linecolor\":\"white\",\"minorgridcolor\":\"white\",\"startlinecolor\":\"#2a3f5f\"},\"type\":\"carpet\"}],\"table\":[{\"cells\":{\"fill\":{\"color\":\"#EBF0F8\"},\"line\":{\"color\":\"white\"}},\"header\":{\"fill\":{\"color\":\"#C8D4E3\"},\"line\":{\"color\":\"white\"}},\"type\":\"table\"}],\"barpolar\":[{\"marker\":{\"line\":{\"color\":\"#E5ECF6\",\"width\":0.5},\"pattern\":{\"fillmode\":\"overlay\",\"size\":10,\"solidity\":0.2}},\"type\":\"barpolar\"}],\"pie\":[{\"automargin\":true,\"type\":\"pie\"}]},\"layout\":{\"autotypenumbers\":\"strict\",\"colorway\":[\"#636efa\",\"#EF553B\",\"#00cc96\",\"#ab63fa\",\"#FFA15A\",\"#19d3f3\",\"#FF6692\",\"#B6E880\",\"#FF97FF\",\"#FECB52\"],\"font\":{\"color\":\"#2a3f5f\"},\"hovermode\":\"closest\",\"hoverlabel\":{\"align\":\"left\"},\"paper_bgcolor\":\"white\",\"plot_bgcolor\":\"#E5ECF6\",\"polar\":{\"bgcolor\":\"#E5ECF6\",\"angularaxis\":{\"gridcolor\":\"white\",\"linecolor\":\"white\",\"ticks\":\"\"},\"radialaxis\":{\"gridcolor\":\"white\",\"linecolor\":\"white\",\"ticks\":\"\"}},\"ternary\":{\"bgcolor\":\"#E5ECF6\",\"aaxis\":{\"gridcolor\":\"white\",\"linecolor\":\"white\",\"ticks\":\"\"},\"baxis\":{\"gridcolor\":\"white\",\"linecolor\":\"white\",\"ticks\":\"\"},\"caxis\":{\"gridcolor\":\"white\",\"linecolor\":\"white\",\"ticks\":\"\"}},\"coloraxis\":{\"colorbar\":{\"outlinewidth\":0,\"ticks\":\"\"}},\"colorscale\":{\"sequential\":[[0.0,\"#0d0887\"],[0.1111111111111111,\"#46039f\"],[0.2222222222222222,\"#7201a8\"],[0.3333333333333333,\"#9c179e\"],[0.4444444444444444,\"#bd3786\"],[0.5555555555555556,\"#d8576b\"],[0.6666666666666666,\"#ed7953\"],[0.7777777777777778,\"#fb9f3a\"],[0.8888888888888888,\"#fdca26\"],[1.0,\"#f0f921\"]],\"sequentialminus\":[[0.0,\"#0d0887\"],[0.1111111111111111,\"#46039f\"],[0.2222222222222222,\"#7201a8\"],[0.3333333333333333,\"#9c179e\"],[0.4444444444444444,\"#bd3786\"],[0.5555555555555556,\"#d8576b\"],[0.6666666666666666,\"#ed7953\"],[0.7777777777777778,\"#fb9f3a\"],[0.8888888888888888,\"#fdca26\"],[1.0,\"#f0f921\"]],\"diverging\":[[0,\"#8e0152\"],[0.1,\"#c51b7d\"],[0.2,\"#de77ae\"],[0.3,\"#f1b6da\"],[0.4,\"#fde0ef\"],[0.5,\"#f7f7f7\"],[0.6,\"#e6f5d0\"],[0.7,\"#b8e186\"],[0.8,\"#7fbc41\"],[0.9,\"#4d9221\"],[1,\"#276419\"]]},\"xaxis\":{\"gridcolor\":\"white\",\"linecolor\":\"white\",\"ticks\":\"\",\"title\":{\"standoff\":15},\"zerolinecolor\":\"white\",\"automargin\":true,\"zerolinewidth\":2},\"yaxis\":{\"gridcolor\":\"white\",\"linecolor\":\"white\",\"ticks\":\"\",\"title\":{\"standoff\":15},\"zerolinecolor\":\"white\",\"automargin\":true,\"zerolinewidth\":2},\"scene\":{\"xaxis\":{\"backgroundcolor\":\"#E5ECF6\",\"gridcolor\":\"white\",\"linecolor\":\"white\",\"showbackground\":true,\"ticks\":\"\",\"zerolinecolor\":\"white\",\"gridwidth\":2},\"yaxis\":{\"backgroundcolor\":\"#E5ECF6\",\"gridcolor\":\"white\",\"linecolor\":\"white\",\"showbackground\":true,\"ticks\":\"\",\"zerolinecolor\":\"white\",\"gridwidth\":2},\"zaxis\":{\"backgroundcolor\":\"#E5ECF6\",\"gridcolor\":\"white\",\"linecolor\":\"white\",\"showbackground\":true,\"ticks\":\"\",\"zerolinecolor\":\"white\",\"gridwidth\":2}},\"shapedefaults\":{\"line\":{\"color\":\"#2a3f5f\"}},\"annotationdefaults\":{\"arrowcolor\":\"#2a3f5f\",\"arrowhead\":0,\"arrowwidth\":1},\"geo\":{\"bgcolor\":\"white\",\"landcolor\":\"#E5ECF6\",\"subunitcolor\":\"white\",\"showland\":true,\"showlakes\":true,\"lakecolor\":\"white\"},\"title\":{\"x\":0.05},\"mapbox\":{\"style\":\"light\"}}},\"legend\":{\"tracegroupgap\":0},\"title\":{\"text\":\"Distribution of Sentiment Labels\"},\"piecolorway\":[\"rgb(102, 197, 204)\",\"rgb(246, 207, 113)\",\"rgb(248, 156, 116)\",\"rgb(220, 176, 242)\",\"rgb(135, 197, 95)\",\"rgb(158, 185, 243)\",\"rgb(254, 136, 177)\",\"rgb(201, 219, 116)\",\"rgb(139, 224, 164)\",\"rgb(180, 151, 231)\",\"rgb(179, 179, 179)\"]},                        {\"responsive\": true}                    ).then(function(){\n",
              "                            \n",
              "var gd = document.getElementById('dd2e3260-a7e4-400f-966d-468ea4be75c5');\n",
              "var x = new MutationObserver(function (mutations, observer) {{\n",
              "        var display = window.getComputedStyle(gd).display;\n",
              "        if (!display || display === 'none') {{\n",
              "            console.log([gd, 'removed!']);\n",
              "            Plotly.purge(gd);\n",
              "            observer.disconnect();\n",
              "        }}\n",
              "}});\n",
              "\n",
              "// Listen for the removal of the full notebook cells\n",
              "var notebookContainer = gd.closest('#notebook-container');\n",
              "if (notebookContainer) {{\n",
              "    x.observe(notebookContainer, {childList: true});\n",
              "}}\n",
              "\n",
              "// Listen for the clearing of the current output cell\n",
              "var outputEl = gd.closest('.output');\n",
              "if (outputEl) {{\n",
              "    x.observe(outputEl, {childList: true});\n",
              "}}\n",
              "\n",
              "                        })                };                            </script>        </div>\n",
              "</body>\n",
              "</html>"
            ]
          },
          "metadata": {}
        }
      ]
    },
    {
      "cell_type": "markdown",
      "source": [
        "Before we can use this data as input to a LDA or LSA model, it must be converted to a term-document matrix. A term-document matrix is merely a mathematical representation of a set of documents and the terms contained within them.\n",
        "\n",
        "It’s created by counting the occurrence of every term in each document and then normalizing the counts to create a matrix of values that can be used for analysis."
      ],
      "metadata": {
        "id": "SbspZ80hB2Ss"
      }
    },
    {
      "cell_type": "code",
      "source": [
        "dictionary = corpora.Dictionary(text_data['Cleaned Review'])\n",
        "corpus = [dictionary.doc2bow(review) for review in text_data['Cleaned Review']] #'dictionary.doc2bow(doc)' is used to convert each document into the bag-of-words (BoW) format.\n",
        "                                                                              #The BoW format represents each document as a list of tuples, where each tuple contains a unique word's ID and its frequency in the document.\n"
      ],
      "metadata": {
        "id": "7dh9-ftr-ZnL",
        "collapsed": true
      },
      "execution_count": null,
      "outputs": []
    },
    {
      "cell_type": "markdown",
      "source": [
        "## Modeling"
      ],
      "metadata": {
        "id": "b-q1C0qKCp73"
      }
    },
    {
      "cell_type": "markdown",
      "source": [
        "The first model we’ll use in LSA:"
      ],
      "metadata": {
        "id": "hJyK1P3zC2Dx"
      }
    },
    {
      "cell_type": "code",
      "source": [
        "from gensim.models import LsiModel\n",
        "# LSA model\n",
        "lsa = LsiModel(corpus, num_topics=6, id2word = dictionary) #doc_term_matrix is a matrix representation of the document,\n",
        "                                                          # num_topics is the number of topics to extract,\n",
        "                                                          # and id2word is a mapping from word IDs to words.\n",
        "\n",
        "# LSA model\n",
        "for idx, topic in lsa.print_topics(num_topics=6, num_words=5):\n",
        "    print(f\"Topic {idx}: {topic}\")"
      ],
      "metadata": {
        "id": "BOjImK-VC3_L"
      },
      "execution_count": null,
      "outputs": []
    },
    {
      "cell_type": "markdown",
      "source": [
        "This outputs the topics (each line) with individual topic terms (terms) and their weights.\n",
        "\n",
        "Let’s try it with LDA:"
      ],
      "metadata": {
        "id": "cdNvn1LADE-M"
      }
    },
    {
      "cell_type": "code",
      "source": [
        "from gensim.models import LdaModel\n",
        "\n",
        "# LDA model\n",
        "lda = LdaModel(corpus, num_topics=6, id2word = dictionary, passes=10,random_state=45)\n",
        "\n",
        "# Results\n",
        "for idx, topic in lda.print_topics(num_topics=6, num_words=5):\n",
        "    print(f\"Topic {idx}: {topic}\")"
      ],
      "metadata": {
        "colab": {
          "base_uri": "https://localhost:8080/"
        },
        "id": "WVvxW_C4DFYq",
        "outputId": "c11aa618-4f94-43c1-f180-8bd9a5eb30a9"
      },
      "execution_count": 18,
      "outputs": [
        {
          "output_type": "stream",
          "name": "stderr",
          "text": [
            "/usr/local/lib/python3.10/dist-packages/ipykernel/ipkernel.py:283: DeprecationWarning:\n",
            "\n",
            "`should_run_async` will not call `transform_cell` automatically in the future. Please pass the result to `transformed_cell` argument and any exception that happen during thetransform in `preprocessing_exc_tuple` in IPython 7.17 and above.\n",
            "\n"
          ]
        },
        {
          "output_type": "stream",
          "name": "stdout",
          "text": [
            "Topic 0: 0.041*\"seat\" + 0.028*\"class\" + 0.026*\"food\" + 0.026*\"cabin\" + 0.025*\"business\"\n",
            "Topic 1: 0.034*\"time\" + 0.020*\"crew\" + 0.016*\"cabin\" + 0.016*\"passenger\" + 0.014*\"lounge\"\n",
            "Topic 2: 0.023*\"time\" + 0.022*\"day\" + 0.022*\"hour\" + 0.018*\"service\" + 0.018*\"luggage\"\n",
            "Topic 3: 0.026*\"hour\" + 0.025*\"customer\" + 0.023*\"service\" + 0.017*\"book\" + 0.016*\"call\"\n",
            "Topic 4: 0.027*\"crew\" + 0.023*\"class\" + 0.023*\"seat\" + 0.019*\"service\" + 0.019*\"business\"\n",
            "Topic 5: 0.042*\"seat\" + 0.022*\"service\" + 0.020*\"airline\" + 0.015*\"food\" + 0.015*\"time\"\n"
          ]
        }
      ]
    },
    {
      "cell_type": "markdown",
      "source": [
        "Let's focus on the LDA model, as it`s more suitable for our case"
      ],
      "metadata": {
        "id": "nNNIf_y9DwUW"
      }
    },
    {
      "cell_type": "markdown",
      "source": [
        "Topic modeling is useful, but it’s difficult to understand it just by looking at a combination of words and numbers like above.\n",
        "\n",
        "One of the most effective ways to understand data is through visualization. Is there a way that we can visualize the results of LDA? Yes, we can with pyLDAvis.\n"
      ],
      "metadata": {
        "id": "Fd9l9NvoDlKD"
      }
    },
    {
      "cell_type": "code",
      "source": [
        "# Prepare the LDA model for visualization\n",
        "lda_display = pyLDAvis.gensim.prepare(lda, corpus, dictionary)\n",
        "\n",
        "# Display the visualization\n",
        "pyLDAvis.display(lda_display)"
      ],
      "metadata": {
        "colab": {
          "base_uri": "https://localhost:8080/",
          "height": 951
        },
        "id": "GDa7YRxmDmBV",
        "outputId": "205d5cff-095d-4484-a0f3-fdb930d73a39"
      },
      "execution_count": 19,
      "outputs": [
        {
          "output_type": "stream",
          "name": "stderr",
          "text": [
            "/usr/local/lib/python3.10/dist-packages/ipykernel/ipkernel.py:283: DeprecationWarning:\n",
            "\n",
            "`should_run_async` will not call `transform_cell` automatically in the future. Please pass the result to `transformed_cell` argument and any exception that happen during thetransform in `preprocessing_exc_tuple` in IPython 7.17 and above.\n",
            "\n"
          ]
        },
        {
          "output_type": "execute_result",
          "data": {
            "text/plain": [
              "<IPython.core.display.HTML object>"
            ],
            "text/html": [
              "\n",
              "<link rel=\"stylesheet\" type=\"text/css\" href=\"https://cdn.jsdelivr.net/gh/bmabey/pyLDAvis@3.4.0/pyLDAvis/js/ldavis.v1.0.0.css\">\n",
              "\n",
              "\n",
              "<div id=\"ldavis_el4501369079906421124122376792\" style=\"background-color:white;\"></div>\n",
              "<script type=\"text/javascript\">\n",
              "\n",
              "var ldavis_el4501369079906421124122376792_data = {\"mdsDat\": {\"x\": [-0.13936121108688587, 0.15167466580519476, 0.05236594215082443, -0.11787872223888642, 0.04161981340683209, 0.01157951196292105], \"y\": [-0.012172229695511499, -0.024793585037330538, -0.029941942764702516, 0.0008477533491547047, 0.09877229674810338, -0.03271229259971351], \"topics\": [1, 2, 3, 4, 5, 6], \"cluster\": [1, 1, 1, 1, 1, 1], \"Freq\": [27.414908675605727, 22.100798665494196, 16.472160246241003, 13.839589399262643, 11.419799917098187, 8.752743096298248]}, \"tinfo\": {\"Term\": [\"seat\", \"crew\", \"class\", \"cabin\", \"business\", \"time\", \"food\", \"meal\", \"customer\", \"day\", \"refund\", \"economy\", \"luggage\", \"phone\", \"drink\", \"email\", \"passenger\", \"club\", \"lounge\", \"airline\", \"aircraft\", \"book\", \"call\", \"delay\", \"ticket\", \"departure\", \"staff\", \"airport\", \"hour\", \"claim\", \"refund\", \"confirm\", \"daughter\", \"total\", \"confirmation\", \"expedia\", \"app\", \"layover\", \"woman\", \"email\", \"figure\", \"telephone\", \"raise\", \"rebook\", \"amend\", \"bud\", \"gentleman\", \"twitter\", \"loss\", \"action\", \"vaccination\", \"mum\", \"conference\", \"application\", \"enter\", \"hold\", \"13th\", \"concern\", \"knowledge\", \"proceed\", \"agent\", \"booking\", \"call\", \"week\", \"customer\", \"speak\", \"chat\", \"vacation\", \"website\", \"book\", \"phone\", \"contact\", \"connect\", \"month\", \"change\", \"line\", \"cancellation\", \"ticket\", \"number\", \"information\", \"hour\", \"bag\", \"airport\", \"check\", \"day\", \"flight\", \"airline\", \"service\", \"money\", \"plane\", \"travel\", \"minute\", \"experience\", \"delay\", \"staff\", \"time\", \"seat\", \"heathrow\", \"pastry\", \"plate\", \"buffet\", \"bread\", \"climb\", \"fruit\", \"starter\", \"a380s\", \"divider\", \"stranger\", \"stowage\", \"cook\", \"disgusting\", \"cart\", \"soup\", \"vegetarian\", \"potato\", \"pricing\", \"tea\", \"chip\", \"temperature\", \"turkey\", \"marrakech\", \"aud\", \"drawback\", \"fulfil\", \"chill\", \"waffle\", \"baby\", \"highlight\", \"row\", \"champagne\", \"selection\", \"stock\", \"wine\", \"pair\", \"aisle\", \"dinner\", \"economy\", \"glass\", \"ice\", \"meal\", \"cabin\", \"class\", \"food\", \"business\", \"button\", \"drink\", \"club\", \"quality\", \"breakfast\", \"seat\", \"leg\", \"crew\", \"premium\", \"choice\", \"sleep\", \"boarding\", \"space\", \"service\", \"lounge\", \"passenger\", \"time\", \"option\", \"aircraft\", \"entertainment\", \"experience\", \"staff\", \"hour\", \"flight\", \"l\", \"pod\", \"magazine\", \"birthday\", \"escalator\", \"comparison\", \"cw\", \"stretch\", \"consumer\", \"understanding\", \"reset\", \"laptop\", \"alicante\", \"version\", \"dockland\", \"deteriorate\", \"scheme\", \"rice\", \"coaster\", \"engineer\", \"consideration\", \"ham\", \"knee\", \"recognise\", \"wing\", \"cracker\", \"sept\", \"charger\", \"protocol\", \"turnaround\", \"budget\", \"crisis\", \"leather\", \"pain\", \"screen\", \"post\", \"table\", \"room\", \"seat\", \"airline\", \"floor\", \"meal\", \"use\", \"price\", \"fly\", \"tray\", \"front\", \"pleasant\", \"food\", \"year\", \"service\", \"aircraft\", \"leg\", \"entertainment\", \"premium\", \"ife\", \"experience\", \"class\", \"breakfast\", \"choice\", \"hour\", \"time\", \"club\", \"drink\", \"economy\", \"business\", \"cabin\", \"plane\", \"passenger\", \"crew\", \"staff\", \"day\", \"travel\", \"book\", \"flight\", \"check\", \"delay\", \"boarding\", \"sister\", \"test\", \"web\", \"tear\", \"receipt\", \"marstal\", \"island\", \"transportation\", \"commitment\", \"sjc\", \"mxp\", \"gratitude\", \"income\", \"cutback\", \"road\", \"quarantine\", \"followup\", \"spending\", \"melbourne\", \"clothe\", \"appreciate\", \"bank\", \"report\", \"infant\", \"santorini\", \"metre\", \"denmark\", \"honeymoon\", \"whoop\", \"reinstate\", \"reimburse\", \"event\", \"suitcase\", \"intention\", \"insurance\", \"drive\", \"luggage\", \"file\", \"claim\", \"pm\", \"holiday\", \"day\", \"hotel\", \"mile\", \"phone\", \"announce\", \"staff\", \"representative\", \"detail\", \"trolley\", \"destination\", \"time\", \"hour\", \"fact\", \"expense\", \"air\", \"travel\", \"charge\", \"book\", \"ticket\", \"customer\", \"service\", \"arrive\", \"delay\", \"airport\", \"return\", \"way\", \"help\", \"plane\", \"call\", \"experience\", \"bag\", \"flight\", \"passenger\", \"week\", \"airline\", \"food\", \"money\", \"oneworld\", \"seatbelt\", \"hire\", \"success\", \"finnair\", \"north\", \"pisa\", \"suggest\", \"filter\", \"threehour\", \"30min\", \"authorisation\", \"protect\", \"pen\", \"charity\", \"prefer\", \"cdg\", \"submission\", \"tegel\", \"timeslot\", \"elite\", \"purser\", \"durban\", \"cleanliness\", \"salt\", \"noone\", \"1a\", \"cape\", \"exercise\", \"mobility\", \"captain\", \"town\", \"heat\", \"traffic\", \"departure\", \"deck\", \"organise\", \"arrival\", \"replacement\", \"lounge\", \"time\", \"lunch\", \"gate\", \"announcement\", \"qatar\", \"distancing\", \"sit\", \"disembarkation\", \"aircraft\", \"pack\", \"crew\", \"passenger\", \"minute\", \"cabin\", \"board\", \"load\", \"club\", \"flight\", \"exit\", \"boarding\", \"bus\", \"status\", \"delay\", \"hour\", \"schedule\", \"food\", \"drink\", \"baggage\", \"service\", \"world\", \"business\", \"seat\", \"bag\", \"member\", \"people\", \"airline\", \"class\", \"security\", \"staff\", \"heathrow\", \"day\", \"nose\", \"flower\", \"wir\", \"connexion\", \"harrogate\", \"tap\", \"premier\", \"shortage\", \"save\", \"pram\", \"camera\", \"edream\", \"war\", \"gep\\u00e4ck\", \"perform\", \"amazing\", \"history\", \"goodwill\", \"bring\", \"refurbishment\", \"slimline\", \"strand\", \"shrug\", \"lifetime\", \"hannover\", \"multiple\", \"juice\", \"callousness\", \"diversity\", \"switch\", \"pillow\", \"airplane\", \"pretzel\", \"onboard\", \"crew\", \"divert\", \"cubicle\", \"class\", \"business\", \"heathrow\", \"headphone\", \"ground\", \"accommodation\", \"min\", \"manner\", \"product\", \"privilege\", \"delay\", \"seat\", \"passenger\", \"water\", \"plane\", \"staff\", \"service\", \"airline\", \"reason\", \"time\", \"compensation\", \"airport\", \"offer\", \"snack\", \"check\", \"ticket\", \"food\", \"hour\", \"cabin\", \"minute\", \"board\", \"trip\", \"bag\", \"experience\", \"customer\", \"people\", \"drink\"], \"Freq\": [770.0, 404.0, 401.0, 344.0, 368.0, 597.0, 384.0, 209.0, 365.0, 315.0, 121.0, 225.0, 179.0, 131.0, 174.0, 124.0, 281.0, 184.0, 170.0, 364.0, 160.0, 284.0, 210.0, 234.0, 179.0, 100.0, 345.0, 152.0, 561.0, 71.0, 113.81983819055422, 13.609718274645507, 10.673857215128024, 9.580401995780155, 10.439539553392667, 7.770158811407574, 31.737791890640782, 18.69209250225497, 5.059933596561118, 107.28259859403323, 7.44780922204994, 14.016999842156029, 5.772778891560439, 27.887064908479605, 4.084217700549134, 4.0830542674251795, 4.01597583293012, 8.775342180754084, 10.418654881537453, 7.985277242399717, 3.1073968558933576, 3.1049366994348477, 3.095065335246119, 3.087385914969671, 3.082752856057537, 16.808885712558066, 3.0469793956574227, 6.839212648948717, 3.000876487977455, 2.975090816684717, 41.483704421236, 33.70919436450441, 151.21094340518187, 73.98213838831404, 238.23477050664684, 18.22220697101299, 6.699818290744516, 8.019698215193495, 56.963078495514594, 162.79084871547028, 80.3334811203399, 50.94789693887296, 26.485920390815117, 54.70515320877768, 82.494405952427, 54.30597459798831, 29.71382846238317, 96.65901409401026, 60.55757925765112, 42.22105498544378, 246.7406575499846, 109.38970247120493, 79.24462305315356, 96.91825648108622, 131.4565725358593, 103.77099672630668, 133.36655052834487, 211.46344585264413, 58.4966449332647, 94.18929991133784, 79.50840057163997, 86.38242372722243, 90.59468163619931, 78.79385188215335, 88.74614118209203, 106.96582706397881, 102.95342830506786, 56.22583238730859, 8.725617809397281, 11.297607465927067, 5.953762977844117, 11.762164122004824, 4.931085983804682, 9.777081300759898, 4.0193384271380275, 4.015940712583862, 4.008293990852626, 3.991166386777593, 3.9919896099889223, 3.9803614176596853, 4.776432736305599, 3.9603242436411468, 3.9401256705060557, 7.8537380274419, 7.822996758753299, 3.9046525130443954, 29.618839584594195, 3.8547832561215323, 5.379452729587811, 4.598088028268641, 3.0627616079720537, 3.062181799189221, 3.061579403301762, 3.0566446691716216, 3.0480995069777284, 3.0474291304841126, 18.375996417817827, 6.075338616725588, 68.66608925672442, 19.269130007349673, 41.25542115921531, 6.86722890880059, 44.17595571661688, 4.534907730075747, 23.443969027348686, 37.85538736991818, 147.91120290288836, 21.891188476775234, 7.525802214849474, 125.08519951473156, 194.14365704114823, 207.32151597061198, 196.0661731439939, 185.03304181410428, 10.5989519173191, 94.52046637287505, 94.26532945636986, 40.31751685822235, 48.17362587377317, 310.93991721385225, 44.530184673332485, 172.48437277978573, 49.814356662500224, 55.94423195299203, 37.80964826375775, 91.00301823496235, 29.96077764771667, 173.75764339291632, 62.98877007169322, 87.26091656151422, 121.39252807506588, 46.4822683925953, 54.31238513302826, 38.52418671347125, 59.08512893463461, 64.37823401403588, 50.35957340424426, 40.358964853088345, 6.20443183767985, 4.4793530194809055, 4.407158024004803, 4.362608079228519, 3.6141843052377784, 3.6105316844041626, 3.610045605365359, 4.32155352326321, 3.60162078016894, 3.589156628353495, 3.566704810800596, 6.21598593970106, 2.7490943704488227, 2.747641690389346, 2.745383890845961, 2.7450324887163617, 2.744524508335528, 2.743199313699813, 2.7291821279143917, 2.7231226476573003, 2.710001455580931, 2.6876021031831954, 4.702496640633184, 4.476577432985628, 5.190471616507731, 2.563505340051048, 1.8806600680431913, 1.879714551150294, 1.878985105706387, 1.8783158072316397, 18.151179811275053, 3.5891929126664115, 3.5767241844511393, 3.634922261055341, 40.91713844637858, 6.772771009607992, 10.487482474767193, 30.271987883445874, 235.45500751131604, 113.40834467016161, 7.780915280370974, 61.737255023812494, 39.09106600236152, 27.72858437963639, 27.090158298124038, 12.500487122531345, 10.460325464420391, 4.937716073386988, 84.85780227033749, 40.08909512196329, 121.0396979740041, 41.915387233172055, 25.028189441064438, 26.239334962911094, 27.053298666371884, 14.848512349826684, 54.40948177891602, 68.39945236833526, 25.404916059764926, 28.408671390091172, 80.52710542710496, 83.58549512611273, 38.62576904894563, 37.25853429687389, 43.50855753717645, 56.022994833924315, 53.524421742823385, 42.65748053865879, 43.55052966130714, 52.53709616864635, 48.01173235218713, 40.57515062499598, 33.42356615836623, 36.93776266509081, 35.365204465908725, 32.540083018899814, 31.523573089252466, 30.981685508326315, 9.86407224475118, 16.147966145117127, 6.165320070636127, 4.543037785872743, 10.261580669983786, 3.6736022885134867, 3.6623968531499638, 3.643364091613391, 3.5370948186276023, 2.799313299640893, 2.7948179426303503, 2.795031889545747, 2.7932283088096623, 2.792657325963565, 2.792003400924336, 2.78285009823327, 2.7694326879575453, 2.768898232633589, 2.722239953280578, 5.370071970745032, 3.2449075986632643, 4.561325715529269, 11.872184034810934, 2.581969599328134, 1.9150680891976928, 1.9150639695523386, 1.9150608111575669, 1.915047902935457, 1.914872131400343, 1.9136952860441494, 4.413467798763392, 6.278064327546681, 16.30508282749514, 3.6416299955622815, 5.404184282136251, 3.604534786291571, 86.34547280626268, 13.245304675689624, 34.59916558632266, 18.60306824468829, 24.284551348478672, 105.12703045342676, 38.246242576972314, 12.482216724577889, 44.63471175215439, 7.598913809598726, 84.92760292968812, 9.247049340747157, 11.465827709929522, 6.805497029389101, 14.356085201838445, 110.24484720126908, 101.72545576301513, 16.717241810179505, 11.96153529754199, 20.663706062300605, 43.28900927360931, 19.2082694143838, 56.01564620491219, 40.5754307373645, 63.219624994409585, 87.2093723241949, 30.574592858285236, 44.607713244360866, 33.987331238320785, 31.795787569932255, 28.305621828678948, 22.98406170305331, 29.76663043425887, 28.25006703786195, 29.60717269474756, 27.416004738015335, 27.21843533540291, 26.626340130794347, 21.22717247812746, 25.468152923053164, 25.52233669589627, 21.503962111615806, 5.233473706855369, 4.3174538294124, 6.390150371897262, 3.5396666908025876, 3.529689389436174, 2.6367492450091112, 3.2640938808799302, 2.5887396293303757, 1.84789406884344, 1.8479235298250787, 1.8474904533949872, 1.8445228260522082, 1.8436404696521234, 1.843152777094532, 1.8414701017970798, 1.8408083628248832, 1.8399756368477131, 1.8397313373230462, 1.8403065063338115, 1.8389540206536508, 1.8388188400725154, 4.338672988126342, 1.8375860113023958, 1.8369779819659562, 1.8368386088605106, 1.8331346835996951, 1.8315793703920975, 8.003314069532845, 1.8263886853617286, 1.8186496254195956, 13.331986179472636, 11.41843468707996, 2.9829540785422006, 3.4096417814540243, 44.40322167750418, 10.591745944916562, 4.232375046897999, 33.62524878843534, 7.718980243539588, 53.85172289877682, 130.7976355437733, 8.143384267128527, 32.742786328816685, 12.253125938348223, 5.078121871460659, 3.523985743390885, 4.2918807908581, 3.5213458128131045, 42.720356016786205, 9.344714262171678, 78.94597427036535, 60.46976529479768, 47.21998159953975, 61.454773726321505, 30.574465332128316, 6.7829926192335215, 34.91946155340611, 43.09349702583173, 7.189689686365744, 37.92688932264161, 14.72983542591507, 10.893279545236473, 34.017281085399475, 52.513342230133034, 15.114360158265864, 39.30526803294183, 25.94741239211502, 22.361260351499105, 49.8573395537541, 18.341143518883626, 33.16376472010983, 42.611457350747955, 25.619035758309234, 17.154980943679917, 20.16922734380427, 25.610536491729352, 25.670674966925883, 16.591993368953382, 21.49824757871257, 18.044947341944937, 17.60027688246367, 4.042685391263011, 2.5557151552686226, 2.5522999466354577, 2.5455178168271697, 2.534597208690442, 2.5265206970932037, 2.5197500312138037, 4.916203422890275, 2.472975464393288, 6.61268460192564, 1.7479637730149655, 1.7471538290694641, 1.7470433584820013, 1.746815122079602, 1.7464771098733085, 1.7458524994448241, 1.745535851833276, 1.7453699722561897, 1.741211866291927, 1.7363357015091563, 1.735498139916789, 1.733375923505437, 1.7309379279619976, 1.7299126011101222, 1.7209300917389754, 1.6758375959388838, 3.3211345905375116, 1.6531068830012823, 1.6094914970687744, 4.118000972312349, 8.976548128125241, 6.046288699116239, 4.883369340988921, 2.547159416704702, 80.17042014524384, 3.2969571645134677, 2.5181374385502746, 68.70794196569048, 56.56551523595311, 31.935548882110414, 4.382842394433654, 16.799231664985484, 6.194097650357848, 14.13457965698255, 4.146157771227545, 14.526384786318095, 3.086473177084179, 33.14249354847592, 68.4859725110829, 34.66814377532079, 17.191548155027775, 30.34185433165703, 37.86051864311833, 56.91277362198197, 37.93664468920085, 12.94586333233197, 44.315977892092405, 10.717368657571958, 19.882178120673682, 15.139470144960816, 11.446599595868612, 21.436791095373728, 19.35073261051665, 27.40362573511219, 29.914448492248578, 22.956196607500896, 18.118311620244953, 15.075104005566317, 14.580591800367435, 17.6021263363963, 18.36373974727449, 18.80975605936079, 15.053728294284056, 14.525596901750909], \"Total\": [770.0, 404.0, 401.0, 344.0, 368.0, 597.0, 384.0, 209.0, 365.0, 315.0, 121.0, 225.0, 179.0, 131.0, 174.0, 124.0, 281.0, 184.0, 170.0, 364.0, 160.0, 284.0, 210.0, 234.0, 179.0, 100.0, 345.0, 152.0, 561.0, 71.0, 121.9299785436597, 14.624855963240421, 11.680354479775497, 10.686052326596307, 11.65902432652867, 8.735905975642016, 35.83048378913745, 21.288692944576237, 5.811524326030588, 124.67470575700536, 8.69439110885736, 16.38338292308327, 6.763057702330043, 32.73702346831142, 4.828703637927314, 4.828639166920602, 4.8203281515071446, 10.563875598299433, 12.552648520432301, 9.646293220455647, 3.844886603893061, 3.8447743774835494, 3.842948001755317, 3.8420578728266617, 3.841859076610396, 21.077416941255173, 3.834713424562358, 8.632207189334798, 3.8258016611577466, 3.8243363256870464, 54.12461428963164, 44.055489486189344, 210.38492312852313, 103.51481513865244, 365.2399442111863, 24.762776138956895, 8.642279405661789, 10.531940545616143, 85.41748256776458, 284.5646856473609, 131.60121125529605, 79.97176956048666, 38.74239896450759, 88.11254831097294, 142.73172138728435, 88.98645051936289, 44.516498170137226, 179.38448470502976, 103.13851356643939, 67.51939603897651, 561.7805828667306, 227.6119991371131, 152.38296346590022, 210.44733642798641, 315.08949444298423, 257.01841686887263, 364.9677107225034, 700.2402727194955, 118.51142367764021, 237.71696396589297, 187.21998570199602, 219.3204202288921, 267.5278909560789, 234.95193462400775, 345.422476699834, 597.3023109022922, 770.864623058801, 166.35843784327963, 9.602413859541311, 12.479341613759239, 6.707178452025292, 13.374092177928445, 5.732408004642179, 11.433624362270283, 4.769346155651737, 4.7696787957833084, 4.767642284557278, 4.766875591597004, 4.7707238760427035, 4.769088806620782, 5.739592127587925, 4.7667950216313475, 4.761096301565711, 9.512554363656248, 9.507850545103418, 4.754616059672196, 36.20651713506041, 4.754888143651792, 6.6390089305810545, 5.698087767459205, 3.8008012800103494, 3.8016057448286107, 3.801225698295136, 3.8004628799487397, 3.7993004085468645, 3.799279629848966, 22.91505433010191, 7.5836873173384305, 89.745806883479, 24.56651914917362, 53.85517376482334, 8.653843835859051, 59.080185142756626, 5.688577996694646, 31.146251134977962, 52.23411574994573, 225.7182278542638, 29.74926627541622, 9.59164684006514, 209.8318597242877, 344.169454585093, 401.319172049901, 384.16107867122344, 368.52892544052565, 14.366532198167215, 174.2917230816013, 184.41872178536627, 69.17052392404428, 85.58051802274971, 770.864623058801, 78.71189409242788, 404.7524467802473, 90.88817142121978, 104.63840001167623, 66.25656844369395, 229.88055661423633, 54.46839540516417, 700.2402727194955, 170.08462344694922, 281.03939228068805, 597.3023109022922, 115.63702991724703, 160.05553928459676, 86.16812656732148, 267.5278909560789, 345.422476699834, 561.7805828667306, 257.01841686887263, 6.972321525459162, 5.23627736407816, 5.242852530064831, 5.2272288454970575, 4.367096914331268, 4.366854740870994, 4.367221675631864, 5.232784367027931, 4.367548245388292, 4.366938527909376, 4.366308612771761, 7.778856395065269, 3.4988716322448363, 3.498824353513335, 3.498664592955907, 3.4987321347868483, 3.4984340485319625, 3.4989945889920104, 3.4978982392709606, 3.4988839157367613, 3.496349658657353, 3.502713274332256, 6.177995469642067, 6.08905759430746, 7.06776670347996, 3.501296208780276, 2.630432745293071, 2.6303526655321545, 2.6299917586876664, 2.6304647573057243, 27.28967771959252, 5.221916523413911, 5.2200619498372545, 5.332713624448236, 75.5866447844181, 10.577955479803274, 17.933856222301877, 64.10696785463125, 770.864623058801, 364.9677107225034, 13.066076810918325, 209.8318597242877, 115.96378421718234, 80.61910364774187, 78.56970745137825, 27.30483956510067, 21.575992475329016, 7.759852855066213, 384.16107867122344, 140.0361121227255, 700.2402727194955, 160.05553928459676, 78.71189409242788, 86.16812656732148, 90.88817142121978, 37.09798152113956, 267.5278909560789, 401.319172049901, 85.58051802274971, 104.63840001167623, 561.7805828667306, 597.3023109022922, 184.41872178536627, 174.2917230816013, 225.7182278542638, 368.52892544052565, 344.169454585093, 237.71696396589297, 281.03939228068805, 404.7524467802473, 345.422476699834, 315.08949444298423, 187.21998570199602, 284.5646856473609, 257.01841686887263, 210.44733642798641, 234.95193462400775, 229.88055661423633, 10.619576417018017, 17.679468597319097, 7.077762591108595, 5.314370654455729, 12.272017071606573, 4.429999496838639, 4.430575932171168, 4.429538887788672, 4.425984581613524, 3.5464528860760236, 3.5463195688533693, 3.5467712494507504, 3.546435248506569, 3.546396282775373, 3.547104331870885, 3.547588534711646, 3.5447424087460733, 3.545582380285659, 3.5473792813628875, 7.182359827503651, 4.395799574217465, 6.182063456509199, 16.183857008777277, 3.5638108081038915, 2.6622084428636383, 2.662205487051554, 2.662202036345381, 2.6621911158588376, 2.662141131629147, 2.661796310442933, 6.17583155335669, 8.9183468088579, 24.156125576468746, 5.235542114706535, 8.164066999658218, 5.289637611343841, 179.92671063282964, 22.88335203467447, 71.52718459919997, 36.0854712836829, 51.50474639459746, 315.08949444298423, 92.67781648572368, 23.36042957711067, 131.60121125529605, 13.20326999608022, 345.422476699834, 17.534872432057856, 23.522623704001436, 11.768106025971449, 32.8813354074791, 597.3023109022922, 561.7805828667306, 41.09402074968345, 26.032065956844804, 59.607024273793016, 187.21998570199602, 54.739538740920956, 284.5646856473609, 179.38448470502976, 365.2399442111863, 700.2402727194955, 122.95323980249086, 234.95193462400775, 152.38296346590022, 136.9344648093653, 124.15445947347935, 83.32728751870485, 237.71696396589297, 210.38492312852313, 267.5278909560789, 227.6119991371131, 257.01841686887263, 281.03939228068805, 103.51481513865244, 364.9677107225034, 384.16107867122344, 118.51142367764021, 6.0150410398983105, 5.169344248174404, 7.739936459016895, 4.305468954470949, 4.308979046658573, 3.4575401067812104, 4.311930156811785, 3.456134524676117, 2.6004254253375088, 2.600546266958322, 2.6003108291061596, 2.600295055545621, 2.6001792905303933, 2.6004587353542266, 2.600666802833228, 2.6000829992829027, 2.6000572694556006, 2.600303132597931, 2.60113394464788, 2.600695062023952, 2.6005705043034233, 6.136539027012815, 2.6005218071363227, 2.5998671517564698, 2.60175775902638, 2.601647792185873, 2.601048584604591, 11.369566805849196, 2.5993576642917393, 2.601091149453076, 19.109840141500108, 16.516450122938476, 4.31776707955799, 5.190246407296261, 100.09335940878621, 21.119525822242394, 7.0645143511224315, 87.97576573098031, 15.153842541078268, 170.08462344694922, 597.3023109022922, 17.10576320766474, 101.98527615479829, 29.159088820205735, 9.479827213836437, 5.936740078356026, 7.65889822794403, 5.9857375468494345, 160.05553928459676, 22.010987917060092, 404.7524467802473, 281.03939228068805, 219.3204202288921, 344.169454585093, 135.65092355955738, 14.724867134854842, 184.41872178536627, 257.01841686887263, 16.352961068182516, 229.88055661423633, 52.16680977523641, 32.755137623632336, 234.95193462400775, 561.7805828667306, 59.68226804820941, 384.16107867122344, 174.2917230816013, 130.6658796898935, 700.2402727194955, 90.25119121060973, 368.52892544052565, 770.864623058801, 227.6119991371131, 85.42886550450588, 144.5049814253136, 364.9677107225034, 401.319172049901, 83.14469049450807, 345.422476699834, 166.35843784327963, 315.08949444298423, 4.942694432745798, 3.315697886321631, 3.3164031691907727, 3.3168706715213605, 3.317467896787896, 3.3193312639214714, 3.322681724452816, 6.597736923358289, 3.3232325579351447, 9.285756868830726, 2.508337129070303, 2.5081199884828864, 2.50876725813024, 2.5088091023074037, 2.508409276967954, 2.5082783387247978, 2.5086356738556193, 2.50857661046848, 2.509323046139427, 2.5095388176446924, 2.5096639860467818, 2.509061190042629, 2.5092547003218377, 2.509909707738162, 2.5131829467485685, 2.5120274159849014, 5.007659870180666, 2.516615471558772, 2.535933277098576, 6.712318084028077, 15.107368867372717, 10.124174236243974, 8.700354266532598, 4.169185451531902, 404.7524467802473, 5.999311944709026, 4.173851806232366, 401.319172049901, 368.52892544052565, 166.35843784327963, 9.46215141578012, 68.5665134460821, 15.961635280724881, 55.62084248287974, 9.291167320504025, 64.14052758906563, 6.002396949876225, 234.95193462400775, 770.864623058801, 281.03939228068805, 91.46666479239516, 237.71696396589297, 345.422476699834, 700.2402727194955, 364.9677107225034, 62.68209518845808, 597.3023109022922, 46.71490712155991, 152.38296346590022, 94.80169221048803, 60.43924407659884, 210.44733642798641, 179.38448470502976, 384.16107867122344, 561.7805828667306, 344.169454585093, 219.3204202288921, 135.65092355955738, 123.95788563746687, 227.6119991371131, 267.5278909560789, 365.2399442111863, 144.5049814253136, 174.2917230816013], \"Category\": [\"Default\", \"Default\", \"Default\", \"Default\", \"Default\", \"Default\", \"Default\", \"Default\", \"Default\", \"Default\", \"Default\", \"Default\", \"Default\", \"Default\", \"Default\", \"Default\", \"Default\", \"Default\", \"Default\", \"Default\", \"Default\", \"Default\", \"Default\", \"Default\", \"Default\", \"Default\", \"Default\", \"Default\", \"Default\", \"Default\", \"Topic1\", \"Topic1\", \"Topic1\", \"Topic1\", \"Topic1\", \"Topic1\", \"Topic1\", \"Topic1\", \"Topic1\", \"Topic1\", \"Topic1\", \"Topic1\", \"Topic1\", \"Topic1\", \"Topic1\", \"Topic1\", \"Topic1\", \"Topic1\", \"Topic1\", \"Topic1\", \"Topic1\", \"Topic1\", \"Topic1\", \"Topic1\", \"Topic1\", \"Topic1\", \"Topic1\", \"Topic1\", \"Topic1\", \"Topic1\", \"Topic1\", \"Topic1\", \"Topic1\", \"Topic1\", \"Topic1\", \"Topic1\", \"Topic1\", \"Topic1\", \"Topic1\", \"Topic1\", \"Topic1\", \"Topic1\", \"Topic1\", \"Topic1\", \"Topic1\", \"Topic1\", \"Topic1\", \"Topic1\", \"Topic1\", \"Topic1\", \"Topic1\", \"Topic1\", \"Topic1\", \"Topic1\", \"Topic1\", \"Topic1\", \"Topic1\", \"Topic1\", \"Topic1\", \"Topic1\", \"Topic1\", \"Topic1\", \"Topic1\", \"Topic1\", \"Topic1\", \"Topic1\", \"Topic1\", \"Topic1\", \"Topic2\", \"Topic2\", \"Topic2\", \"Topic2\", \"Topic2\", \"Topic2\", \"Topic2\", \"Topic2\", \"Topic2\", \"Topic2\", \"Topic2\", \"Topic2\", \"Topic2\", \"Topic2\", \"Topic2\", \"Topic2\", \"Topic2\", \"Topic2\", \"Topic2\", \"Topic2\", \"Topic2\", \"Topic2\", \"Topic2\", \"Topic2\", \"Topic2\", \"Topic2\", \"Topic2\", \"Topic2\", \"Topic2\", \"Topic2\", \"Topic2\", \"Topic2\", \"Topic2\", \"Topic2\", \"Topic2\", \"Topic2\", \"Topic2\", \"Topic2\", \"Topic2\", \"Topic2\", \"Topic2\", \"Topic2\", \"Topic2\", \"Topic2\", \"Topic2\", \"Topic2\", \"Topic2\", \"Topic2\", \"Topic2\", \"Topic2\", \"Topic2\", \"Topic2\", \"Topic2\", \"Topic2\", \"Topic2\", \"Topic2\", \"Topic2\", \"Topic2\", \"Topic2\", \"Topic2\", \"Topic2\", \"Topic2\", \"Topic2\", \"Topic2\", \"Topic2\", \"Topic2\", \"Topic2\", \"Topic2\", \"Topic2\", \"Topic2\", \"Topic3\", \"Topic3\", \"Topic3\", \"Topic3\", \"Topic3\", \"Topic3\", \"Topic3\", \"Topic3\", \"Topic3\", \"Topic3\", \"Topic3\", \"Topic3\", \"Topic3\", \"Topic3\", \"Topic3\", \"Topic3\", \"Topic3\", \"Topic3\", \"Topic3\", \"Topic3\", \"Topic3\", \"Topic3\", \"Topic3\", \"Topic3\", \"Topic3\", \"Topic3\", \"Topic3\", \"Topic3\", \"Topic3\", \"Topic3\", \"Topic3\", \"Topic3\", \"Topic3\", \"Topic3\", \"Topic3\", \"Topic3\", \"Topic3\", \"Topic3\", \"Topic3\", \"Topic3\", \"Topic3\", \"Topic3\", \"Topic3\", \"Topic3\", \"Topic3\", \"Topic3\", \"Topic3\", \"Topic3\", \"Topic3\", \"Topic3\", \"Topic3\", \"Topic3\", \"Topic3\", \"Topic3\", \"Topic3\", \"Topic3\", \"Topic3\", \"Topic3\", \"Topic3\", \"Topic3\", \"Topic3\", \"Topic3\", \"Topic3\", \"Topic3\", \"Topic3\", \"Topic3\", \"Topic3\", \"Topic3\", \"Topic3\", \"Topic3\", \"Topic3\", \"Topic3\", \"Topic3\", \"Topic3\", \"Topic3\", \"Topic3\", \"Topic3\", \"Topic3\", \"Topic4\", \"Topic4\", \"Topic4\", \"Topic4\", \"Topic4\", \"Topic4\", \"Topic4\", \"Topic4\", \"Topic4\", \"Topic4\", \"Topic4\", \"Topic4\", \"Topic4\", \"Topic4\", \"Topic4\", \"Topic4\", \"Topic4\", \"Topic4\", \"Topic4\", \"Topic4\", \"Topic4\", \"Topic4\", \"Topic4\", \"Topic4\", \"Topic4\", \"Topic4\", \"Topic4\", \"Topic4\", \"Topic4\", \"Topic4\", \"Topic4\", \"Topic4\", \"Topic4\", \"Topic4\", \"Topic4\", \"Topic4\", \"Topic4\", \"Topic4\", \"Topic4\", \"Topic4\", \"Topic4\", \"Topic4\", \"Topic4\", \"Topic4\", \"Topic4\", \"Topic4\", \"Topic4\", \"Topic4\", \"Topic4\", \"Topic4\", \"Topic4\", \"Topic4\", \"Topic4\", \"Topic4\", \"Topic4\", \"Topic4\", \"Topic4\", \"Topic4\", \"Topic4\", \"Topic4\", \"Topic4\", \"Topic4\", \"Topic4\", \"Topic4\", \"Topic4\", \"Topic4\", \"Topic4\", \"Topic4\", \"Topic4\", \"Topic4\", \"Topic4\", \"Topic4\", \"Topic4\", \"Topic4\", \"Topic4\", \"Topic4\", \"Topic4\", \"Topic4\", \"Topic5\", \"Topic5\", \"Topic5\", \"Topic5\", \"Topic5\", \"Topic5\", \"Topic5\", \"Topic5\", \"Topic5\", \"Topic5\", \"Topic5\", \"Topic5\", \"Topic5\", \"Topic5\", \"Topic5\", \"Topic5\", \"Topic5\", \"Topic5\", \"Topic5\", \"Topic5\", \"Topic5\", \"Topic5\", \"Topic5\", \"Topic5\", \"Topic5\", \"Topic5\", \"Topic5\", \"Topic5\", \"Topic5\", \"Topic5\", \"Topic5\", \"Topic5\", \"Topic5\", \"Topic5\", \"Topic5\", \"Topic5\", \"Topic5\", \"Topic5\", \"Topic5\", \"Topic5\", \"Topic5\", \"Topic5\", \"Topic5\", \"Topic5\", \"Topic5\", \"Topic5\", \"Topic5\", \"Topic5\", \"Topic5\", \"Topic5\", \"Topic5\", \"Topic5\", \"Topic5\", \"Topic5\", \"Topic5\", \"Topic5\", \"Topic5\", \"Topic5\", \"Topic5\", \"Topic5\", \"Topic5\", \"Topic5\", \"Topic5\", \"Topic5\", \"Topic5\", \"Topic5\", \"Topic5\", \"Topic5\", \"Topic5\", \"Topic5\", \"Topic5\", \"Topic5\", \"Topic5\", \"Topic5\", \"Topic5\", \"Topic5\", \"Topic5\", \"Topic5\", \"Topic5\", \"Topic5\", \"Topic5\", \"Topic6\", \"Topic6\", \"Topic6\", \"Topic6\", \"Topic6\", \"Topic6\", \"Topic6\", \"Topic6\", \"Topic6\", \"Topic6\", \"Topic6\", \"Topic6\", \"Topic6\", \"Topic6\", \"Topic6\", \"Topic6\", \"Topic6\", \"Topic6\", \"Topic6\", \"Topic6\", \"Topic6\", \"Topic6\", \"Topic6\", \"Topic6\", \"Topic6\", \"Topic6\", \"Topic6\", \"Topic6\", \"Topic6\", \"Topic6\", \"Topic6\", \"Topic6\", \"Topic6\", \"Topic6\", \"Topic6\", \"Topic6\", \"Topic6\", \"Topic6\", \"Topic6\", \"Topic6\", \"Topic6\", \"Topic6\", \"Topic6\", \"Topic6\", \"Topic6\", \"Topic6\", \"Topic6\", \"Topic6\", \"Topic6\", \"Topic6\", \"Topic6\", \"Topic6\", \"Topic6\", \"Topic6\", \"Topic6\", \"Topic6\", \"Topic6\", \"Topic6\", \"Topic6\", \"Topic6\", \"Topic6\", \"Topic6\", \"Topic6\", \"Topic6\", \"Topic6\", \"Topic6\", \"Topic6\", \"Topic6\", \"Topic6\", \"Topic6\", \"Topic6\", \"Topic6\", \"Topic6\", \"Topic6\"], \"logprob\": [30.0, 29.0, 28.0, 27.0, 26.0, 25.0, 24.0, 23.0, 22.0, 21.0, 20.0, 19.0, 18.0, 17.0, 16.0, 15.0, 14.0, 13.0, 12.0, 11.0, 10.0, 9.0, 8.0, 7.0, 6.0, 5.0, 4.0, 3.0, 2.0, 1.0, -4.4081, -6.532, -6.775, -6.883, -6.7972, -7.0925, -5.6853, -6.2147, -7.5214, -4.4673, -7.1348, -6.5025, -7.3896, -5.8146, -7.7356, -7.7359, -7.7525, -6.9708, -6.7992, -7.0652, -8.009, -8.0098, -8.013, -8.0154, -8.0169, -6.3209, -8.0286, -7.2201, -8.0439, -8.0525, -5.4175, -5.625, -4.1241, -4.8389, -3.6695, -6.2401, -7.2407, -7.0609, -5.1004, -4.0503, -4.7566, -5.212, -5.8662, -5.1408, -4.73, -5.1481, -5.7512, -4.5716, -5.0392, -5.3998, -3.6344, -4.4478, -4.7702, -4.5689, -4.2641, -4.5006, -4.2497, -3.7887, -5.0738, -4.5975, -4.7669, -4.684, -4.6364, -4.7759, -4.657, -4.4703, -4.5085, -5.1134, -6.761, -6.5027, -7.1433, -6.4624, -7.3317, -6.6472, -7.5362, -7.537, -7.5389, -7.5432, -7.543, -7.5459, -7.3636, -7.551, -7.5561, -6.8663, -6.8702, -7.5651, -5.5389, -7.578, -7.2447, -7.4017, -7.808, -7.8082, -7.8084, -7.81, -7.8128, -7.813, -6.0162, -7.1231, -4.698, -5.9688, -5.2075, -7.0005, -5.1391, -7.4155, -5.7727, -5.2935, -3.9307, -5.8412, -6.909, -4.0983, -3.6587, -3.593, -3.6488, -3.7068, -6.5665, -4.3785, -4.3812, -5.2305, -5.0525, -3.1877, -5.1311, -3.777, -5.019, -4.9029, -5.2947, -4.4164, -5.5274, -3.7696, -4.7843, -4.4584, -4.1283, -5.0882, -4.9325, -5.276, -4.8483, -4.7625, -5.0081, -5.2295, -6.8081, -7.1339, -7.1501, -7.1603, -7.3485, -7.3495, -7.3496, -7.1697, -7.352, -7.3554, -7.3617, -6.8062, -7.6221, -7.6226, -7.6234, -7.6236, -7.6237, -7.6242, -7.6293, -7.6316, -7.6364, -7.6447, -7.0853, -7.1345, -6.9865, -7.692, -8.0017, -8.0022, -8.0026, -8.003, -5.7346, -7.3554, -7.3589, -7.3428, -4.9218, -6.7204, -6.2832, -5.2231, -3.1718, -3.9024, -6.5817, -4.5105, -4.9675, -5.3109, -5.3342, -6.1076, -6.2858, -7.0364, -4.1924, -4.9422, -3.8372, -4.8977, -5.4133, -5.3661, -5.3355, -5.9354, -4.6368, -4.408, -5.3984, -5.2867, -4.2448, -4.2075, -4.9794, -5.0155, -4.8604, -4.6076, -4.6532, -4.8801, -4.8594, -4.6718, -4.7619, -4.9302, -5.1241, -5.0241, -5.0676, -5.1509, -5.1826, -5.2, -6.1703, -5.6774, -6.6403, -6.9456, -6.1308, -7.158, -7.1611, -7.1663, -7.1959, -7.4298, -7.4314, -7.4314, -7.432, -7.4322, -7.4325, -7.4357, -7.4406, -7.4408, -7.4578, -6.7784, -7.2821, -6.9416, -5.985, -7.5107, -7.8095, -7.8095, -7.8095, -7.8095, -7.8096, -7.8102, -6.9745, -6.6221, -5.6677, -7.1668, -6.772, -7.177, -4.0009, -5.8756, -4.9154, -5.5359, -5.2694, -3.804, -4.8152, -5.9349, -4.6607, -6.4312, -4.0174, -6.2349, -6.0198, -6.5415, -5.795, -3.7565, -3.8369, -5.6428, -5.9775, -5.4308, -4.6913, -5.5039, -4.4336, -4.756, -4.3126, -3.9909, -5.039, -4.6613, -4.9332, -4.9999, -5.1162, -5.3244, -5.0658, -5.1181, -5.0712, -5.1481, -5.1553, -5.1773, -5.4039, -5.2218, -5.2197, -5.391, -6.612, -6.8044, -6.4123, -7.003, -7.0058, -7.2975, -7.084, -7.3159, -7.653, -7.653, -7.6532, -7.6548, -7.6553, -7.6555, -7.6565, -7.6568, -7.6573, -7.6574, -7.6571, -7.6578, -7.6579, -6.7995, -7.6586, -7.6589, -7.659, -7.661, -7.6618, -6.1872, -7.6647, -7.6689, -5.6769, -5.8318, -7.1741, -7.0404, -4.4737, -5.907, -6.8243, -4.7517, -6.2233, -4.2808, -3.3934, -6.1698, -4.7783, -5.7612, -6.6421, -7.0074, -6.8103, -7.0082, -4.5124, -6.0322, -3.8983, -4.1649, -4.4122, -4.1487, -4.8469, -6.3526, -4.714, -4.5037, -6.2944, -4.6314, -5.5772, -5.8789, -4.7402, -4.306, -5.5514, -4.5957, -5.011, -5.1597, -4.3579, -5.3579, -4.7656, -4.5149, -5.0237, -5.4247, -5.2629, -5.024, -5.0217, -5.4581, -5.1991, -5.3742, -5.3991, -6.6041, -7.0627, -7.064, -7.0667, -7.071, -7.0742, -7.0769, -6.4085, -7.0956, -6.1121, -7.4426, -7.4431, -7.4431, -7.4433, -7.4434, -7.4438, -7.444, -7.4441, -7.4465, -7.4493, -7.4497, -7.451, -7.4524, -7.453, -7.4582, -7.4847, -6.8007, -7.4984, -7.5251, -6.5857, -5.8064, -6.2016, -6.4152, -7.0661, -3.6169, -6.808, -7.0775, -3.7712, -3.9656, -4.5373, -6.5233, -5.1797, -6.1774, -5.3524, -6.5789, -5.3251, -6.874, -4.5002, -3.7744, -4.4552, -5.1566, -4.5885, -4.3671, -3.9595, -4.3651, -5.4403, -4.2097, -5.6292, -5.0112, -5.2837, -5.5634, -4.9359, -5.0383, -4.6904, -4.6027, -4.8675, -5.1041, -5.288, -5.3214, -5.133, -5.0907, -5.0667, -5.2894, -5.3251], \"loglift\": [30.0, 29.0, 28.0, 27.0, 26.0, 25.0, 24.0, 23.0, 22.0, 21.0, 20.0, 19.0, 18.0, 17.0, 16.0, 15.0, 14.0, 13.0, 12.0, 11.0, 10.0, 9.0, 8.0, 7.0, 6.0, 5.0, 4.0, 3.0, 2.0, 1.0, 1.2253, 1.2221, 1.204, 1.1849, 1.1836, 1.1769, 1.1728, 1.164, 1.1556, 1.1438, 1.1393, 1.1381, 1.1358, 1.1337, 1.1266, 1.1264, 1.1115, 1.1086, 1.1077, 1.1051, 1.0811, 1.0804, 1.0777, 1.0754, 1.0739, 1.0678, 1.0641, 1.0613, 1.0512, 1.043, 1.0281, 1.0264, 0.9638, 0.9582, 0.8668, 0.9874, 1.0395, 1.0216, 0.8889, 0.7356, 0.8005, 0.8432, 0.9138, 0.8174, 0.7458, 0.8002, 0.8898, 0.6757, 0.7616, 0.8246, 0.4713, 0.5614, 0.6402, 0.5187, 0.4199, 0.3871, 0.2874, 0.0967, 0.588, 0.3683, 0.4377, 0.3623, 0.2113, 0.2015, -0.0649, -0.4258, -0.7192, 0.2093, 1.4138, 1.4101, 1.3904, 1.3811, 1.359, 1.353, 1.3385, 1.3375, 1.3361, 1.3319, 1.3313, 1.3288, 1.3259, 1.3242, 1.3203, 1.3179, 1.3145, 1.3126, 1.3087, 1.2997, 1.2992, 1.2951, 1.2937, 1.2933, 1.2932, 1.2918, 1.2893, 1.289, 1.2888, 1.2878, 1.2418, 1.2667, 1.243, 1.2783, 1.2188, 1.2829, 1.2255, 1.1876, 1.0869, 1.2028, 1.267, 0.9922, 0.937, 0.8491, 0.8369, 0.8206, 1.2054, 0.8976, 0.8385, 0.9698, 0.9349, 0.6016, 0.9399, 0.6566, 0.9082, 0.8834, 0.9486, 0.5829, 0.9118, 0.1158, 0.5162, 0.34, -0.0838, 0.5982, 0.4288, 0.7045, -0.0007, -0.1704, -0.9024, -0.3418, 1.6868, 1.6474, 1.6299, 1.6227, 1.6143, 1.6133, 1.6131, 1.6122, 1.6107, 1.6074, 1.6012, 1.5792, 1.5623, 1.5618, 1.561, 1.5609, 1.5608, 1.5601, 1.5553, 1.5528, 1.5487, 1.5386, 1.5306, 1.4959, 1.4948, 1.4917, 1.468, 1.4675, 1.4672, 1.4667, 1.3957, 1.4286, 1.4254, 1.4202, 1.1898, 1.3576, 1.267, 1.0532, 0.6175, 0.6347, 1.2852, 0.5801, 0.7161, 0.7362, 0.7387, 1.0222, 1.0795, 1.3514, 0.2934, 0.5527, 0.0482, 0.4636, 0.6577, 0.6145, 0.5917, 0.8878, 0.2108, 0.0341, 0.589, 0.4997, -0.139, -0.1631, 0.2402, 0.2606, 0.1572, -0.0803, -0.0575, 0.0856, -0.0611, -0.2383, -0.1698, -0.2462, 0.0805, -0.2382, -0.1799, -0.0633, -0.2051, -0.2007, 1.9038, 1.887, 1.8396, 1.8208, 1.7987, 1.7904, 1.7872, 1.7822, 1.7534, 1.7411, 1.7395, 1.7394, 1.7389, 1.7387, 1.7383, 1.7348, 1.7308, 1.7304, 1.7129, 1.6869, 1.6741, 1.6736, 1.6678, 1.6554, 1.6482, 1.6482, 1.6482, 1.6482, 1.6482, 1.6477, 1.6417, 1.6266, 1.5846, 1.6146, 1.5651, 1.5941, 1.2434, 1.4309, 1.2514, 1.3151, 1.2258, 0.8799, 1.0926, 1.3509, 0.8964, 1.4252, 0.5747, 1.3377, 1.259, 1.43, 1.1489, 0.2879, 0.2688, 1.0782, 1.2, 0.9182, 0.5133, 0.9304, 0.3523, 0.4913, 0.2237, -0.1055, 0.586, 0.3162, 0.4772, 0.5175, 0.4992, 0.6897, -0.1001, -0.0302, -0.2236, -0.1389, -0.2676, -0.379, 0.3932, -0.6847, -0.7339, 0.2709, 2.0306, 1.9897, 1.9782, 1.974, 1.9703, 1.8988, 1.8914, 1.8808, 1.8282, 1.8282, 1.828, 1.8264, 1.826, 1.8256, 1.8246, 1.8245, 1.824, 1.8238, 1.8238, 1.8232, 1.8232, 1.8231, 1.8226, 1.8225, 1.8217, 1.8197, 1.8191, 1.8187, 1.8169, 1.812, 1.8098, 1.8007, 1.8, 1.7496, 1.357, 1.4797, 1.6575, 1.208, 1.4952, 1.0198, 0.651, 1.4276, 1.0337, 1.3028, 1.5456, 1.6483, 1.5907, 1.6393, 0.849, 1.3131, 0.5353, 0.6335, 0.6341, 0.447, 0.6799, 1.3947, 0.5057, 0.384, 1.3481, 0.3679, 0.9053, 1.0689, 0.2373, -0.2002, 0.7964, -0.1099, 0.2652, 0.4045, -0.4724, 0.5764, -0.2382, -0.7256, -0.0145, 0.5644, 0.2007, -0.487, -0.5796, 0.5582, -0.607, -0.0515, -0.7151, 2.2348, 2.1755, 2.1739, 2.1711, 2.1666, 2.1629, 2.1592, 2.1416, 2.1403, 2.0963, 2.0746, 2.0743, 2.0739, 2.0738, 2.0738, 2.0734, 2.0731, 2.0731, 2.0704, 2.0675, 2.0669, 2.066, 2.0645, 2.0636, 2.0571, 2.031, 2.0251, 2.0155, 1.9812, 1.9472, 1.9152, 1.9203, 1.8583, 1.9431, 0.8167, 1.8372, 1.9305, 0.6709, 0.5617, 0.7854, 1.6662, 1.0293, 1.4892, 1.0659, 1.6289, 0.9507, 1.7707, 0.4772, 0.0149, 0.3431, 0.7642, 0.3773, 0.2249, -0.0741, 0.1719, 0.8585, -0.1653, 0.9636, 0.3992, 0.6013, 0.7719, 0.1517, 0.209, -0.2046, -0.497, -0.2717, -0.0578, 0.2388, 0.2956, -0.1238, -0.243, -0.5304, 0.1741, -0.049]}, \"token.table\": {\"Topic\": [1, 5, 5, 2, 1, 4, 6, 1, 4, 1, 2, 3, 4, 5, 6, 1, 2, 3, 4, 5, 6, 1, 2, 3, 4, 5, 6, 1, 2, 3, 4, 5, 6, 1, 3, 6, 1, 2, 3, 4, 5, 6, 1, 2, 3, 3, 6, 1, 1, 4, 6, 1, 2, 3, 5, 6, 1, 3, 5, 1, 4, 6, 1, 2, 3, 4, 5, 6, 1, 2, 3, 4, 5, 6, 2, 5, 1, 2, 3, 4, 1, 2, 3, 4, 5, 6, 1, 2, 3, 4, 5, 6, 3, 4, 3, 1, 2, 3, 4, 5, 6, 1, 2, 3, 4, 5, 6, 1, 2, 3, 4, 5, 6, 1, 3, 4, 2, 3, 1, 2, 3, 5, 6, 6, 1, 1, 2, 3, 4, 6, 2, 1, 2, 3, 4, 5, 6, 1, 2, 3, 4, 5, 6, 1, 2, 6, 1, 2, 3, 4, 5, 6, 1, 2, 3, 4, 5, 6, 6, 6, 1, 3, 4, 5, 6, 1, 3, 5, 1, 3, 5, 6, 2, 5, 2, 3, 4, 5, 1, 2, 3, 4, 5, 6, 1, 2, 3, 4, 5, 6, 3, 5, 1, 2, 5, 1, 2, 3, 4, 5, 6, 2, 2, 1, 2, 3, 5, 6, 1, 3, 4, 5, 6, 1, 2, 3, 4, 5, 6, 5, 2, 1, 4, 1, 2, 3, 4, 5, 6, 3, 4, 3, 1, 3, 4, 5, 6, 1, 4, 1, 1, 1, 1, 3, 4, 5, 6, 6, 3, 3, 1, 2, 3, 4, 5, 6, 2, 3, 1, 2, 3, 4, 5, 6, 3, 5, 5, 6, 1, 2, 3, 4, 5, 6, 4, 3, 1, 1, 2, 3, 4, 5, 6, 2, 3, 5, 6, 1, 2, 3, 4, 5, 6, 4, 1, 2, 3, 4, 5, 6, 1, 2, 3, 4, 5, 6, 1, 2, 4, 5, 6, 3, 2, 3, 5, 6, 3, 5, 6, 2, 5, 6, 6, 1, 5, 6, 2, 3, 2, 1, 2, 3, 4, 5, 6, 4, 5, 5, 1, 2, 3, 4, 5, 6, 6, 5, 1, 3, 4, 6, 3, 1, 1, 2, 3, 4, 5, 6, 3, 2, 3, 4, 5, 1, 5, 6, 1, 1, 2, 4, 1, 2, 3, 4, 5, 6, 1, 3, 4, 5, 6, 1, 3, 1, 3, 4, 6, 5, 5, 1, 2, 3, 4, 5, 6, 1, 3, 4, 5, 6, 6, 1, 2, 3, 4, 5, 6, 4, 1, 2, 3, 4, 5, 6, 1, 2, 3, 6, 2, 5, 2, 1, 2, 3, 4, 5, 6, 1, 6, 2, 3, 6, 6, 4, 1, 2, 3, 4, 5, 6, 3, 6, 6, 2, 3, 5, 6, 3, 5, 1, 2, 3, 4, 5, 6, 1, 2, 3, 4, 5, 6, 2, 5, 4, 5, 6, 1, 3, 4, 6, 1, 2, 3, 4, 5, 6, 4, 1, 3, 4, 5, 6, 1, 2, 3, 4, 5, 6, 1, 2, 2, 3, 5, 4, 4, 1, 2, 3, 4, 5, 6, 1, 4, 4, 6, 4, 4, 6, 2, 3, 1, 3, 3, 6, 1, 3, 3, 5, 1, 2, 3, 5, 6, 6, 1, 2, 3, 4, 5, 6, 1, 3, 5, 6, 1, 4, 1, 2, 3, 4, 5, 6, 1, 2, 3, 4, 5, 6, 2, 3, 5, 3, 4, 5, 6, 2, 4, 1, 2, 3, 4, 5, 6, 4, 1, 2, 3, 4, 5, 6, 4, 1, 3, 4, 6, 1, 2, 3, 4, 5, 6, 1, 2, 3, 4, 5, 6, 5, 1, 2, 3, 4, 5, 6, 1, 2, 3, 4, 5, 6, 6, 1, 4, 5, 5, 6, 1, 2, 3, 4, 5, 6, 1, 2, 3, 4, 5, 6, 5, 6, 5, 1, 2, 3, 4, 5, 6, 2, 5, 1, 2, 3, 5, 6, 2, 3, 2, 1, 2, 3, 4, 5, 6, 2, 5, 1, 2, 3, 4, 5, 6, 6, 1, 3, 4, 5, 6, 2, 3, 5, 6, 5, 1, 2, 3, 4, 5, 6, 2, 3, 5, 6, 1, 2, 3, 4, 5, 6, 3, 2, 3, 4, 5, 2, 3, 2, 6, 5, 6, 1, 2, 3, 4, 5, 6, 1, 6, 1, 2, 3, 4, 5, 6, 2, 1, 3, 6, 1, 2, 3, 4, 5, 6, 5, 3, 2, 5, 2, 3, 5, 6, 1, 2, 3, 4, 5, 6, 4, 1, 1, 2, 3, 4, 5, 6, 1, 3, 4, 6, 4, 6, 3, 5, 1, 2, 3, 4, 6, 6, 3, 4, 4, 1, 3, 4, 5, 1, 3, 4, 1, 4, 3, 1, 2, 3, 4, 5, 6, 3, 4, 1, 2, 3, 4, 5, 6, 1, 2, 3, 4, 5, 6, 5, 4, 6, 1, 2, 3, 4, 5, 6, 3, 2, 3, 5, 6, 1, 2, 3, 4, 5, 6, 5, 1, 2, 3, 4, 5, 6, 1, 2, 3, 5, 6, 3, 1, 2, 3, 4, 5, 6, 5, 6, 6, 4, 3, 5, 6, 4, 1, 2, 3, 4, 5, 6, 6, 2, 3, 4, 5, 6, 2, 1, 2, 3, 5, 6, 1, 3, 4, 5, 4, 1, 2, 3, 4, 5, 6, 2, 1, 2, 3, 4, 5, 6, 1, 2, 2, 6, 2, 3, 5, 5, 5, 1, 2, 3, 4, 6, 1, 5, 6, 1, 2, 3, 5, 6, 2, 3, 4, 4, 5, 1, 5, 6, 2, 5, 4, 5, 5, 1, 2, 3, 4, 5, 6, 1, 2, 3, 4, 5, 6, 5, 1, 1, 3, 5, 4, 5, 4, 1, 2, 3, 4, 5, 6, 1, 2, 3, 4, 5, 1, 2, 3, 4, 5, 6, 2, 3, 4, 2, 3, 3, 1, 5, 3, 1, 2, 3, 4, 5, 6, 1, 4, 1, 2, 3, 3, 2, 6, 1, 2, 3, 4, 5, 6, 1, 2, 3, 4, 5, 6, 4, 1, 2, 3, 4, 5, 6, 1, 2, 3, 4, 5, 6, 4, 2, 3, 5, 6, 2, 3, 6, 1, 1, 2, 3, 4, 5, 6, 1, 2, 3, 4, 5, 6], \"Freq\": [0.7823270392995219, 0.7689206621659619, 0.7691388189493821, 0.8386308955513415, 0.37590133432290257, 0.18795066716145128, 0.37590133432290257, 0.829334109711224, 0.103666763713903, 0.7575111719152546, 0.01847588224183548, 0.01847588224183548, 0.05542764672550644, 0.05542764672550644, 0.09237941120917739, 0.16776546257479635, 0.16776546257479635, 0.15098891631731673, 0.35230747140707236, 0.10065927754487781, 0.05032963877243891, 0.024991324998053017, 0.33738288747371575, 0.2624089124795567, 0.031239156247566274, 0.26865674372906995, 0.07497397499415906, 0.3644157992407283, 0.07945908404497083, 0.3096164309338519, 0.06849921038359555, 0.07123917879893937, 0.10411879978306524, 0.09877348775962945, 0.1975469755192589, 0.5926409265577767, 0.5184306578843925, 0.045936893736591745, 0.06562413390941678, 0.22312205529201704, 0.013124826781883354, 0.13124826781883356, 0.032106592721747394, 0.7384516326001901, 0.19263955633048438, 0.8574192812198812, 0.7973596746112295, 0.8283796853014097, 0.15147762642086082, 0.6059105056834433, 0.22721643963129123, 0.13717849774606838, 0.20576774661910258, 0.06858924887303419, 0.41153549323820515, 0.17147312218258548, 0.8930942766031331, 0.05581839228769582, 0.02790919614384791, 0.7808315489513575, 0.6824696962063054, 0.22748989873543515, 0.15913473311287082, 0.07956736655643541, 0.19323503306562886, 0.18186826641470952, 0.38647006613125773, 0.011366766650919345, 0.3578596226555766, 0.07319855917954976, 0.13826394511692733, 0.25212837050733805, 0.11386442539041074, 0.07319855917954976, 0.789140221623705, 0.7691434845959584, 0.043639433954401306, 0.7855098111792236, 0.08727886790880261, 0.043639433954401306, 0.47888512210790163, 0.10104915420625447, 0.10983603718071139, 0.11862292015516829, 0.11422947866793984, 0.0790819467701122, 0.41326779514405004, 0.038265536587412045, 0.21428700488950744, 0.13010282439720094, 0.168368360984613, 0.030612429269929634, 0.16175828783301846, 0.8087914391650923, 0.7652238151856999, 0.09583421667079446, 0.2506433359082317, 0.2064121589832496, 0.11057794231245516, 0.22852774744574064, 0.11057794231245516, 0.20010391778019235, 0.3958577503912501, 0.13485264024317312, 0.05655110719875001, 0.16530323642711542, 0.04785093686048078, 0.572804737275072, 0.05271209238727657, 0.13002316122194887, 0.19679181157916584, 0.04216967390982125, 0.0070282789849702085, 0.7717539947129274, 0.022698646903321393, 0.18158917522657114, 0.8972571626060617, 0.07477143021717181, 0.011684902394890527, 0.5608753149547453, 0.29212255987226315, 0.11684902394890527, 0.011684902394890527, 0.7970277095557639, 0.8283907456582524, 0.03664389188744628, 0.10993167566233886, 0.6595900539740331, 0.14657556754978512, 0.03664389188744628, 0.8945639426349611, 0.11501565891898187, 0.019169276486496977, 0.30670842378395163, 0.13418493540547885, 0.28753914729745467, 0.15335421189197582, 0.04612935057859797, 0.5019958739435662, 0.15195550778832273, 0.05426982421011526, 0.08954520994669017, 0.1546689989988285, 0.20881865982820264, 0.7656684193700763, 0.06960621994273421, 0.02614990923831338, 0.5636758213591995, 0.15689945542988026, 0.008716636412771126, 0.17723827372634623, 0.0668275458312453, 0.7177320397039803, 0.03802553852736319, 0.033272346211442795, 0.13308938484577118, 0.05228511547512439, 0.028519153895522394, 0.7947181532509675, 0.797340986114289, 0.6739074552841793, 0.022463581842805974, 0.06739074552841792, 0.022463581842805974, 0.22463581842805974, 0.17590819722094236, 0.08795409861047118, 0.7036327888837695, 0.156987184496903, 0.10465812299793532, 0.6802777994865796, 0.05232906149896766, 0.8391382431693222, 0.7692138259780561, 0.773410342939819, 0.04070580752314837, 0.04070580752314837, 0.1221174225694451, 0.5745043862919823, 0.09808611473277747, 0.08407381262809496, 0.1471291720991662, 0.02101845315702374, 0.07006151052341247, 0.23748830002986035, 0.03653666154305544, 0.25575663080138805, 0.34709828465902665, 0.01826833077152772, 0.0913416538576386, 0.7603543153006724, 0.7690335408677316, 0.8099714984236812, 0.11571021406052588, 0.11571021406052588, 0.46092291613865455, 0.11879456601511715, 0.15680882713995464, 0.09503565281209372, 0.07127673960907029, 0.0997874354526984, 0.7896190554585347, 0.8412395579358399, 0.08601048944742773, 0.5351763787839948, 0.2675881893919974, 0.06689704734799935, 0.03822688419885677, 0.41942095397860174, 0.01398069846595339, 0.4893244463083687, 0.01398069846595339, 0.06990349232976695, 0.044852080971007874, 0.5157989311665906, 0.1694411947793631, 0.032393169590172355, 0.06478633918034471, 0.17193297705553018, 0.7692700754532017, 0.8722337970275206, 0.13923000573859673, 0.6961500286929837, 0.02711221480983474, 0.5097096384248931, 0.21147527551671097, 0.05964687258163643, 0.18978550366884317, 0.005422442961966948, 0.857657883330896, 0.9037537131549996, 0.9159910822227573, 0.4067224184040195, 0.1712515445911661, 0.14984510151727035, 0.04281288614779152, 0.2354708738128534, 0.8109165878975414, 0.11584522684250591, 0.7806506876048571, 0.9572743851419121, 0.8577047032354359, 0.6710993819411888, 0.051623029380091445, 0.18068060283032006, 0.051623029380091445, 0.025811514690045723, 0.9044669802045612, 0.8580377516223712, 0.9158456358721653, 0.6377250407273549, 0.05001765025312588, 0.03751323768984441, 0.17506177588594057, 0.01250441256328147, 0.07502647537968882, 0.8387346434914194, 0.8568255357763891, 0.012353229831652273, 0.4249511062088382, 0.1309442362155141, 0.03953033546128728, 0.19518103134010592, 0.19765167730643637, 0.7660022871037656, 0.1915005717759414, 0.23958684841345038, 0.7187605452403512, 0.6516264274270763, 0.021903409325279878, 0.06571022797583963, 0.17248934843657904, 0.0355930401535798, 0.05202059714753971, 0.8459291519593606, 0.9159141204851404, 0.9417522404004494, 0.415754896022738, 0.03173701496356779, 0.13012176135062792, 0.33323865711746176, 0.05712662693442202, 0.034910716459924565, 0.23674773960758927, 0.18939819168607142, 0.5208450271366963, 0.047349547921517854, 0.33623898490737375, 0.05533046587083365, 0.13619806983589822, 0.19152853570673187, 0.14471044920064186, 0.14045425951827004, 0.7512577831040806, 0.19981345533941983, 0.05994403660182594, 0.14986009150456486, 0.09990672766970991, 0.43958960174672357, 0.04995336383485496, 0.36494868141123343, 0.03041239011760279, 0.06082478023520558, 0.42577346164643903, 0.06082478023520558, 0.03041239011760279, 0.25507358683714093, 0.08502452894571365, 0.46763490920142503, 0.08502452894571365, 0.08502452894571365, 0.8574534672637257, 0.7274938888965394, 0.134012032165152, 0.05743372807077943, 0.07657830409437258, 0.16706378991279786, 0.6682551596511914, 0.16706378991279786, 0.8711420409068789, 0.6737704442515632, 0.3368852221257816, 0.7886642831108907, 0.16668578150564917, 0.16668578150564917, 0.5000573445169475, 0.838989118994157, 0.8574700204301089, 0.7892191198606048, 0.0057375071077346105, 0.545063175234788, 0.2122877629861806, 0.0057375071077346105, 0.14917518480109987, 0.08606260661601917, 0.7561954700680891, 0.18904886751702227, 0.769076419398454, 0.08417574504557715, 0.6556847508813378, 0.1949333043160734, 0.0177212094832794, 0.039872721337378646, 0.01329090711245955, 0.7974100159417659, 0.7690620180035114, 0.858233427143964, 0.024062619452634503, 0.08822960465965984, 0.024062619452634503, 0.8574162710877731, 0.7808719529209922, 0.023210438472715766, 0.45260355021795745, 0.301735700145305, 0.058026096181789416, 0.08123653465450519, 0.08123653465450519, 0.9159402867551243, 0.11212840467324929, 0.11212840467324929, 0.6727704280394957, 0.7694208563425805, 0.48920803802103885, 0.428057033268409, 0.061151004752629856, 0.9157607719572631, 0.46096994452508105, 0.03841416204375676, 0.46096994452508105, 0.34015144990972107, 0.2205377532381708, 0.20184811313324108, 0.11213784062957838, 0.05606892031478919, 0.06728270437774703, 0.29201328517099256, 0.09733776172366419, 0.4136854873255728, 0.048668880861832096, 0.17034108301641235, 0.8051167600303593, 0.11501668000433703, 0.34959913162537704, 0.04369989145317213, 0.5680985888912378, 0.04369989145317213, 0.7691049243376862, 0.9282941403722599, 0.40464026378724216, 0.15563087068740084, 0.13617701185147574, 0.10505083771399557, 0.1673031859889559, 0.027235402370295148, 0.07653406714740696, 0.6122725371792557, 0.07653406714740696, 0.07653406714740696, 0.15306813429481392, 0.9047868964105593, 0.2800061335803546, 0.10182041221103803, 0.34364389121225336, 0.12727551526379755, 0.03818265457913926, 0.08909286068465828, 0.8463238379742318, 0.028633822140566534, 0.5102026490500946, 0.22126135290437776, 0.06767994324133908, 0.10151991486200862, 0.07028301798139058, 0.04634781000889975, 0.370782480071198, 0.46347810008899754, 0.0926956200177995, 0.8746133057334744, 0.08746133057334744, 0.7893775297288166, 0.3039654464723581, 0.029416010948937883, 0.21571741362554447, 0.06863735888085506, 0.32357612043831674, 0.06863735888085506, 0.8298190235760905, 0.7971909852210591, 0.7395140369623183, 0.10084282322213432, 0.16807137203689054, 0.7972648679150753, 0.8458397198478975, 0.16042816598294662, 0.11667502980577936, 0.23335005961155872, 0.16042816598294662, 0.10209065108005694, 0.24793443833728113, 0.8564788965125638, 0.7958035854840974, 0.904304154052167, 0.21136842057553432, 0.21136842057553432, 0.10568421028776716, 0.42273684115106863, 0.23160119144323318, 0.6948035743296995, 0.3366225406177209, 0.13224456952839037, 0.1082001023414103, 0.12022233593490034, 0.1082001023414103, 0.19235573749584053, 0.4560330850979635, 0.10800783594425452, 0.012000870660472724, 0.27602002519087265, 0.07200522396283635, 0.07200522396283635, 0.7911718599318199, 0.13186197665530333, 0.1292000270667619, 0.7752001624005713, 0.7972460970891491, 0.8065504443633044, 0.04744414378607673, 0.09488828757215347, 0.04744414378607673, 0.25240392216286345, 0.0582470589606608, 0.09707843160110133, 0.4659764716852864, 0.09707843160110133, 0.03883137264044053, 0.7512608648139031, 0.3776524019142325, 0.04316027450448371, 0.41002260779259525, 0.0755304803828465, 0.09711061763508835, 0.43967343751821164, 0.08900272014538697, 0.1441844066355269, 0.18156554909658942, 0.0943428833541102, 0.053401632087232184, 0.10425738318709915, 0.8340590654967932, 0.4043346668727123, 0.4043346668727123, 0.1617338667490849, 0.845919857485999, 0.8417955277474832, 0.6220434788213288, 0.029621118039110897, 0.029621118039110897, 0.16291614921510994, 0.10367391313688815, 0.044431677058666345, 0.2449759415354784, 0.6124398538386959, 0.7640087525538337, 0.19100218813845843, 0.9028171644583083, 0.19969407386367122, 0.5990822215910137, 0.16186479982283586, 0.8093239991141793, 0.784149379843218, 0.8605455124367446, 0.7713216050377617, 0.12855360083962694, 0.8924925569392774, 0.04697329247048829, 0.7662744309240828, 0.1915686077310207, 0.05081824095482924, 0.5717052107418289, 0.31761400596768274, 0.03811368071612193, 0.02540912047741462, 0.79684141379027, 0.6068339582580602, 0.05618832946833891, 0.05618832946833891, 0.15732732251134895, 0.033712997681003345, 0.08990132714934225, 0.06791232755050988, 0.33956163775254944, 0.4753862928535692, 0.06791232755050988, 0.796644627125719, 0.07966446271257191, 0.05291483625977026, 0.37040385381839186, 0.1528650825282252, 0.041155983757599095, 0.3174890175586216, 0.06467368876194143, 0.26677528773341486, 0.10004073290003057, 0.02223127397778457, 0.4779723905223683, 0.06669382193335371, 0.06113600343890757, 0.40921880625960283, 0.05845982946565755, 0.4676786357252604, 0.7629434505476235, 0.3228873075377203, 0.2152582050251469, 0.4305164100502938, 0.789307248389432, 0.9029346398017657, 0.019062882086904587, 0.5957150652157683, 0.2954746723470211, 0.05242292573898761, 0.033360043652083025, 0.004765720521726147, 0.8456947402724339, 0.327758069063005, 0.22240726114989623, 0.08193951726575124, 0.10535080791310873, 0.19899597050253873, 0.07023387194207249, 0.7512568093363222, 0.25684459184256614, 0.12842229592128307, 0.5136891836851323, 0.08561486394752205, 0.1977675905104428, 0.2517042061041999, 0.12585210305209996, 0.14383097491668567, 0.03595774372917142, 0.2517042061041999, 0.3921203502630843, 0.11398847391368729, 0.10030985704404481, 0.09575031808749733, 0.2142983309577321, 0.08207170121785484, 0.7689080793729717, 0.4894042970723588, 0.1603220973168072, 0.1350080819509955, 0.18563611268261884, 0.00843800512193722, 0.01687601024387444, 0.6242016722282299, 0.0794438491926838, 0.12484033444564598, 0.03404736393972163, 0.03404736393972163, 0.10214209181916489, 0.796169654548078, 0.7802798566202305, 0.8459474510837695, 0.7687435655229965, 0.8676688938809863, 0.8092751948207921, 0.5914376491445675, 0.06786989416413071, 0.05817419499782632, 0.17452258499347895, 0.05817419499782632, 0.05817419499782632, 0.13712835390254557, 0.31645004746741284, 0.1898700284804477, 0.13712835390254557, 0.06329000949348257, 0.15822502373370642, 0.23985500564206508, 0.7195650169261952, 0.8312495237912009, 0.27672796527980753, 0.3977964500897233, 0.12971623372490979, 0.025943246744981954, 0.10377298697992782, 0.060534242404957896, 0.2831050940794301, 0.5662101881588602, 0.09086370895919019, 0.18172741791838037, 0.13629556343878527, 0.4088866903163558, 0.13629556343878527, 0.18752178917229362, 0.7500871566891745, 0.8789542839889433, 0.09963016135487157, 0.30956514420977954, 0.15656168212908392, 0.0960719413064833, 0.21349320290329624, 0.12453770169358948, 0.9372643307867083, 0.7690950726536201, 0.3321684797752697, 0.1868447698735892, 0.1384035332396957, 0.096882473267787, 0.1384035332396957, 0.10380264992977178, 0.7973180526654348, 0.6078971404359361, 0.015197428510898402, 0.34194214149521407, 0.007598714255449201, 0.022796142766347605, 0.06619286315035924, 0.19857858945107773, 0.06619286315035924, 0.5957357683532332, 0.6957441078354993, 0.3954282371429196, 0.11358045109424286, 0.18088738507601643, 0.1262005012158254, 0.05468688386019101, 0.1262005012158254, 0.8814567579327924, 0.6443421149069374, 0.12886842298138748, 0.12886842298138748, 0.22169587136908017, 0.05542396784227004, 0.11084793568454009, 0.5265276945015653, 0.05542396784227004, 0.02771198392113502, 0.7639014746317196, 0.09453622695891681, 0.6617535887124176, 0.18907245391783362, 0.09453622695891681, 0.8414099445557685, 0.10517624306947106, 0.21538362766242042, 0.7538426968184715, 0.7692062140137818, 0.9028851538568727, 0.06601519104387188, 0.5501265920322657, 0.29706835969742346, 0.04401012736258125, 0.022005063681290626, 0.022005063681290626, 0.34481354529895564, 0.5746892421649261, 0.0744240475088445, 0.23567615044467427, 0.347312221707941, 0.23567615044467427, 0.03721202375442225, 0.08682805542698525, 0.8412876980598467, 0.16660011131396782, 0.16660011131396782, 0.4998003339419035, 0.7844498350863653, 0.4209507002028906, 0.233861500112717, 0.015590766674181135, 0.10913536671926793, 0.233861500112717, 0.7691777283527372, 0.7604586567214094, 0.16295830525937136, 0.6518332210374854, 0.10548715471738068, 0.10548715471738068, 0.5274357735869034, 0.21097430943476136, 0.01445702509204779, 0.5782810036819116, 0.30359752693300357, 0.01445702509204779, 0.04337107527614337, 0.05782810036819116, 0.8456448572449357, 0.887172676041615, 0.4466985335416127, 0.04786055716517279, 0.06381407622023039, 0.17548870960563356, 0.04786055716517279, 0.20739574771574876, 0.8553007278472725, 0.03054645456597402, 0.06109290913194804, 0.06109290913194804, 0.814861969442393, 0.0814861969442393, 0.6569161053328715, 0.16422902633321787, 0.9349628480347826, 0.00820142849153318, 0.00820142849153318, 0.03280571396613272, 0.01640285698306636, 0.796959180682084, 0.16192151475641847, 0.6476860590256739, 0.7513722940232014, 0.2639594537924624, 0.0659898634481156, 0.1319797268962312, 0.5279189075849248, 0.18536990276007487, 0.06178996758669162, 0.7414796110402995, 0.39920450103773547, 0.5132629299056599, 0.9161056523351825, 0.3359271171362109, 0.17526632198411002, 0.08033039757605043, 0.2336884293121467, 0.10223868782406417, 0.06572487074404125, 0.8573891509972982, 0.8457602932749598, 0.0467967851295477, 0.14039035538864308, 0.46796785129547697, 0.0935935702590954, 0.0935935702590954, 0.1247914270121272, 0.05571290931164866, 0.7688381485007515, 0.033427745586989195, 0.011142581862329732, 0.06685549117397839, 0.06685549117397839, 0.7687110735276264, 0.7512559752265959, 0.6018236657029741, 0.4188848852025162, 0.11728776785670454, 0.1005323724486039, 0.0670215816324026, 0.2513309311215097, 0.05026618622430195, 0.8575265271211504, 0.3704358101865648, 0.5424238649160413, 0.013229850363805886, 0.06614925181902942, 0.1336161978627254, 0.4034430828670641, 0.304852490269325, 0.01297244639443936, 0.05578151949608925, 0.08821263548218765, 0.7737925369185139, 0.22851729782138044, 0.1804083930168793, 0.2645989764247563, 0.06013613100562643, 0.20446284541912987, 0.06013613100562643, 0.055704954422772915, 0.7613010437778965, 0.07427327256369723, 0.037136636281848615, 0.055704954422772915, 0.760331167401571, 0.3013251425550656, 0.24848613651460388, 0.17279783056475329, 0.12424306825730194, 0.07140406221684019, 0.08140063092719782, 0.15156712242642645, 0.7578356121321324, 0.7970494185956808, 0.9416571440622493, 0.13056708291950264, 0.5222683316780106, 0.2611341658390053, 0.8459156504738888, 0.015092843222779012, 0.5735280424656024, 0.16602127545056913, 0.10564990255945308, 0.07546421611389506, 0.07546421611389506, 0.7969194326888344, 0.24818311726383377, 0.2978197407166005, 0.01654554115092225, 0.24818311726383377, 0.18200095266014477, 0.8401426366201791, 0.036718540818450086, 0.5507781122767513, 0.25702978572915064, 0.14687416327380035, 0.018359270409225043, 0.7268974972350669, 0.04038319429083705, 0.12114958287251115, 0.04038319429083705, 0.8461233383493679, 0.25765549726325254, 0.18528035758256362, 0.13896026818692273, 0.2460754749143423, 0.06079511733177869, 0.11001021231464715, 0.8386893862295879, 0.24423649480343262, 0.061059123700858156, 0.09158868555128724, 0.1526478092521454, 0.33582518035471987, 0.1526478092521454, 0.11555558650784595, 0.8088891055549217, 0.8384471841028, 0.7971108906937499, 0.8391240600134722, 0.7644113954330366, 0.7691410954852115, 0.9290509448096846, 0.8680217678393574, 0.1655894686976014, 0.04139736717440035, 0.12419210152320105, 0.6623578747904056, 0.04139736717440035, 0.14897982894754264, 0.14897982894754264, 0.5959193157901705, 0.11152091191145351, 0.22304182382290702, 0.5576045595572675, 0.055760455955726755, 0.903796506425149, 0.8285801113675649, 0.027619337045585498, 0.13809668522792748, 0.940845177181582, 0.7688954289013915, 0.8545243717812872, 0.061037455127234796, 0.061037455127234796, 0.7531244576232847, 0.15062489152465694, 0.9050045770281936, 0.0565627860642621, 0.7690691857366032, 0.5407379582437222, 0.02229847250489576, 0.07247003564091122, 0.22855934317518153, 0.03344770875734364, 0.10591774439825485, 0.17913876783494187, 0.20257748512175672, 0.14063230372088895, 0.1841613501106879, 0.21931942604091015, 0.07366454004427517, 0.7690251845379865, 0.9357992731432911, 0.12109139585765756, 0.18163709378648635, 0.6660026772171166, 0.19266907994854274, 0.5780072398456282, 0.9030285321632863, 0.42730480776415897, 0.0854609615528318, 0.17626323320271556, 0.22967633417323544, 0.016023930291155963, 0.05875441106757186, 0.036623544248109666, 0.40285898672920634, 0.4761060752254257, 0.036623544248109666, 0.036623544248109666, 0.24201768080926636, 0.12907609643160872, 0.21781591272833972, 0.16941237656648644, 0.12907609643160872, 0.12100884040463318, 0.25492632318056907, 0.0849754410601897, 0.5948280874213279, 0.8774873613836095, 0.1754974722767219, 0.7603219143861547, 0.8519600516167396, 0.09466222795741551, 0.9159735073978603, 0.2673248394683444, 0.20696116604000858, 0.33631189481501395, 0.07761043726500322, 0.051740291510002145, 0.06036367342833584, 0.7595941094948501, 0.18989852737371252, 0.7802570814344464, 0.8409938796843961, 0.10512423496054951, 0.857430867310489, 0.7896233739760976, 0.7972042817118797, 0.09839650347399886, 0.33892128974377383, 0.16399417245666476, 0.07653061381311023, 0.1311953379653318, 0.1858600621175534, 0.2899613928703863, 0.11276276389403912, 0.1852531121116357, 0.22552552778807824, 0.1047082807587506, 0.08054483135288508, 0.847725523817014, 0.6673106990103574, 0.04682882098318297, 0.011707205245795743, 0.21072969442432338, 0.03512161573738723, 0.023414410491591486, 0.714873517388608, 0.009660452937683892, 0.009660452937683892, 0.20286951169136175, 0.03864181175073557, 0.028981358813051677, 0.7512749704505947, 0.7447505435821151, 0.016926148717775345, 0.20311378461330412, 0.016926148717775345, 0.1414874092416816, 0.707437046208408, 0.90459447990819, 0.8603594718866334, 0.03324055848746877, 0.4099668880121148, 0.26592446789975016, 0.03324055848746877, 0.1994433509248126, 0.06648111697493754, 0.3213456823234473, 0.1071152274411491, 0.28564060650973094, 0.14282030325486547, 0.07141015162743274, 0.07141015162743274], \"Term\": [\"13th\", \"1a\", \"30min\", \"a380s\", \"accommodation\", \"accommodation\", \"accommodation\", \"action\", \"action\", \"agent\", \"agent\", \"agent\", \"agent\", \"agent\", \"agent\", \"air\", \"air\", \"air\", \"air\", \"air\", \"air\", \"aircraft\", \"aircraft\", \"aircraft\", \"aircraft\", \"aircraft\", \"aircraft\", \"airline\", \"airline\", \"airline\", \"airline\", \"airline\", \"airline\", \"airplane\", \"airplane\", \"airplane\", \"airport\", \"airport\", \"airport\", \"airport\", \"airport\", \"airport\", \"aisle\", \"aisle\", \"aisle\", \"alicante\", \"amazing\", \"amend\", \"announce\", \"announce\", \"announce\", \"announcement\", \"announcement\", \"announcement\", \"announcement\", \"announcement\", \"app\", \"app\", \"app\", \"application\", \"appreciate\", \"appreciate\", \"arrival\", \"arrival\", \"arrival\", \"arrival\", \"arrival\", \"arrival\", \"arrive\", \"arrive\", \"arrive\", \"arrive\", \"arrive\", \"arrive\", \"aud\", \"authorisation\", \"baby\", \"baby\", \"baby\", \"baby\", \"bag\", \"bag\", \"bag\", \"bag\", \"bag\", \"bag\", \"baggage\", \"baggage\", \"baggage\", \"baggage\", \"baggage\", \"baggage\", \"bank\", \"bank\", \"birthday\", \"board\", \"board\", \"board\", \"board\", \"board\", \"board\", \"boarding\", \"boarding\", \"boarding\", \"boarding\", \"boarding\", \"boarding\", \"book\", \"book\", \"book\", \"book\", \"book\", \"book\", \"booking\", \"booking\", \"booking\", \"bread\", \"bread\", \"breakfast\", \"breakfast\", \"breakfast\", \"breakfast\", \"breakfast\", \"bring\", \"bud\", \"budget\", \"budget\", \"budget\", \"budget\", \"budget\", \"buffet\", \"bus\", \"bus\", \"bus\", \"bus\", \"bus\", \"bus\", \"business\", \"business\", \"business\", \"business\", \"business\", \"business\", \"button\", \"button\", \"button\", \"cabin\", \"cabin\", \"cabin\", \"cabin\", \"cabin\", \"cabin\", \"call\", \"call\", \"call\", \"call\", \"call\", \"call\", \"callousness\", \"camera\", \"cancellation\", \"cancellation\", \"cancellation\", \"cancellation\", \"cancellation\", \"cape\", \"cape\", \"cape\", \"captain\", \"captain\", \"captain\", \"captain\", \"cart\", \"cdg\", \"champagne\", \"champagne\", \"champagne\", \"champagne\", \"change\", \"change\", \"change\", \"change\", \"change\", \"change\", \"charge\", \"charge\", \"charge\", \"charge\", \"charge\", \"charge\", \"charger\", \"charity\", \"chat\", \"chat\", \"chat\", \"check\", \"check\", \"check\", \"check\", \"check\", \"check\", \"chill\", \"chip\", \"choice\", \"choice\", \"choice\", \"choice\", \"choice\", \"claim\", \"claim\", \"claim\", \"claim\", \"claim\", \"class\", \"class\", \"class\", \"class\", \"class\", \"class\", \"cleanliness\", \"climb\", \"clothe\", \"clothe\", \"club\", \"club\", \"club\", \"club\", \"club\", \"club\", \"coaster\", \"commitment\", \"comparison\", \"compensation\", \"compensation\", \"compensation\", \"compensation\", \"compensation\", \"concern\", \"concern\", \"conference\", \"confirm\", \"confirmation\", \"connect\", \"connect\", \"connect\", \"connect\", \"connect\", \"connexion\", \"consideration\", \"consumer\", \"contact\", \"contact\", \"contact\", \"contact\", \"contact\", \"contact\", \"cook\", \"cracker\", \"crew\", \"crew\", \"crew\", \"crew\", \"crew\", \"crew\", \"crisis\", \"crisis\", \"cubicle\", \"cubicle\", \"customer\", \"customer\", \"customer\", \"customer\", \"customer\", \"customer\", \"cutback\", \"cw\", \"daughter\", \"day\", \"day\", \"day\", \"day\", \"day\", \"day\", \"deck\", \"deck\", \"deck\", \"deck\", \"delay\", \"delay\", \"delay\", \"delay\", \"delay\", \"delay\", \"denmark\", \"departure\", \"departure\", \"departure\", \"departure\", \"departure\", \"departure\", \"destination\", \"destination\", \"destination\", \"destination\", \"destination\", \"destination\", \"detail\", \"detail\", \"detail\", \"detail\", \"detail\", \"deteriorate\", \"dinner\", \"dinner\", \"dinner\", \"dinner\", \"disembarkation\", \"disembarkation\", \"disembarkation\", \"disgusting\", \"distancing\", \"distancing\", \"diversity\", \"divert\", \"divert\", \"divert\", \"divider\", \"dockland\", \"drawback\", \"drink\", \"drink\", \"drink\", \"drink\", \"drink\", \"drink\", \"drive\", \"drive\", \"durban\", \"economy\", \"economy\", \"economy\", \"economy\", \"economy\", \"economy\", \"edream\", \"elite\", \"email\", \"email\", \"email\", \"email\", \"engineer\", \"enter\", \"entertainment\", \"entertainment\", \"entertainment\", \"entertainment\", \"entertainment\", \"entertainment\", \"escalator\", \"event\", \"event\", \"event\", \"exercise\", \"exit\", \"exit\", \"exit\", \"expedia\", \"expense\", \"expense\", \"expense\", \"experience\", \"experience\", \"experience\", \"experience\", \"experience\", \"experience\", \"fact\", \"fact\", \"fact\", \"fact\", \"fact\", \"figure\", \"figure\", \"file\", \"file\", \"file\", \"file\", \"filter\", \"finnair\", \"flight\", \"flight\", \"flight\", \"flight\", \"flight\", \"flight\", \"floor\", \"floor\", \"floor\", \"floor\", \"floor\", \"flower\", \"fly\", \"fly\", \"fly\", \"fly\", \"fly\", \"fly\", \"followup\", \"food\", \"food\", \"food\", \"food\", \"food\", \"food\", \"front\", \"front\", \"front\", \"front\", \"fruit\", \"fruit\", \"fulfil\", \"gate\", \"gate\", \"gate\", \"gate\", \"gate\", \"gate\", \"gentleman\", \"gep\\u00e4ck\", \"glass\", \"glass\", \"glass\", \"goodwill\", \"gratitude\", \"ground\", \"ground\", \"ground\", \"ground\", \"ground\", \"ground\", \"ham\", \"hannover\", \"harrogate\", \"headphone\", \"headphone\", \"headphone\", \"headphone\", \"heat\", \"heat\", \"heathrow\", \"heathrow\", \"heathrow\", \"heathrow\", \"heathrow\", \"heathrow\", \"help\", \"help\", \"help\", \"help\", \"help\", \"help\", \"highlight\", \"highlight\", \"hire\", \"hire\", \"history\", \"hold\", \"hold\", \"hold\", \"hold\", \"holiday\", \"holiday\", \"holiday\", \"holiday\", \"holiday\", \"holiday\", \"honeymoon\", \"hotel\", \"hotel\", \"hotel\", \"hotel\", \"hotel\", \"hour\", \"hour\", \"hour\", \"hour\", \"hour\", \"hour\", \"ice\", \"ice\", \"ife\", \"ife\", \"ife\", \"income\", \"infant\", \"information\", \"information\", \"information\", \"information\", \"information\", \"information\", \"insurance\", \"insurance\", \"intention\", \"intention\", \"island\", \"juice\", \"juice\", \"knee\", \"knee\", \"knowledge\", \"l\", \"laptop\", \"laptop\", \"layover\", \"layover\", \"leather\", \"leather\", \"leg\", \"leg\", \"leg\", \"leg\", \"leg\", \"lifetime\", \"line\", \"line\", \"line\", \"line\", \"line\", \"line\", \"load\", \"load\", \"load\", \"load\", \"loss\", \"loss\", \"lounge\", \"lounge\", \"lounge\", \"lounge\", \"lounge\", \"lounge\", \"luggage\", \"luggage\", \"luggage\", \"luggage\", \"luggage\", \"luggage\", \"lunch\", \"lunch\", \"lunch\", \"magazine\", \"manner\", \"manner\", \"manner\", \"marrakech\", \"marstal\", \"meal\", \"meal\", \"meal\", \"meal\", \"meal\", \"meal\", \"melbourne\", \"member\", \"member\", \"member\", \"member\", \"member\", \"member\", \"metre\", \"mile\", \"mile\", \"mile\", \"mile\", \"min\", \"min\", \"min\", \"min\", \"min\", \"min\", \"minute\", \"minute\", \"minute\", \"minute\", \"minute\", \"minute\", \"mobility\", \"money\", \"money\", \"money\", \"money\", \"money\", \"money\", \"month\", \"month\", \"month\", \"month\", \"month\", \"month\", \"multiple\", \"mum\", \"mxp\", \"noone\", \"north\", \"nose\", \"number\", \"number\", \"number\", \"number\", \"number\", \"number\", \"offer\", \"offer\", \"offer\", \"offer\", \"offer\", \"offer\", \"onboard\", \"onboard\", \"oneworld\", \"option\", \"option\", \"option\", \"option\", \"option\", \"option\", \"organise\", \"organise\", \"pack\", \"pack\", \"pack\", \"pack\", \"pack\", \"pain\", \"pain\", \"pair\", \"passenger\", \"passenger\", \"passenger\", \"passenger\", \"passenger\", \"passenger\", \"pastry\", \"pen\", \"people\", \"people\", \"people\", \"people\", \"people\", \"people\", \"perform\", \"phone\", \"phone\", \"phone\", \"phone\", \"phone\", \"pillow\", \"pillow\", \"pillow\", \"pillow\", \"pisa\", \"plane\", \"plane\", \"plane\", \"plane\", \"plane\", \"plane\", \"plate\", \"pleasant\", \"pleasant\", \"pleasant\", \"pm\", \"pm\", \"pm\", \"pm\", \"pm\", \"pm\", \"pod\", \"post\", \"post\", \"post\", \"post\", \"potato\", \"potato\", \"pram\", \"pram\", \"prefer\", \"premier\", \"premium\", \"premium\", \"premium\", \"premium\", \"premium\", \"premium\", \"pretzel\", \"pretzel\", \"price\", \"price\", \"price\", \"price\", \"price\", \"price\", \"pricing\", \"privilege\", \"privilege\", \"privilege\", \"proceed\", \"product\", \"product\", \"product\", \"product\", \"product\", \"protect\", \"protocol\", \"purser\", \"purser\", \"qatar\", \"qatar\", \"qatar\", \"qatar\", \"quality\", \"quality\", \"quality\", \"quality\", \"quality\", \"quality\", \"quarantine\", \"raise\", \"reason\", \"reason\", \"reason\", \"reason\", \"reason\", \"reason\", \"rebook\", \"rebook\", \"rebook\", \"rebook\", \"receipt\", \"receipt\", \"recognise\", \"recognise\", \"refund\", \"refund\", \"refund\", \"refund\", \"refund\", \"refurbishment\", \"reimburse\", \"reimburse\", \"reinstate\", \"replacement\", \"replacement\", \"replacement\", \"replacement\", \"report\", \"report\", \"report\", \"representative\", \"representative\", \"reset\", \"return\", \"return\", \"return\", \"return\", \"return\", \"return\", \"rice\", \"road\", \"room\", \"room\", \"room\", \"room\", \"room\", \"room\", \"row\", \"row\", \"row\", \"row\", \"row\", \"row\", \"salt\", \"santorini\", \"save\", \"schedule\", \"schedule\", \"schedule\", \"schedule\", \"schedule\", \"schedule\", \"scheme\", \"screen\", \"screen\", \"screen\", \"screen\", \"seat\", \"seat\", \"seat\", \"seat\", \"seat\", \"seat\", \"seatbelt\", \"security\", \"security\", \"security\", \"security\", \"security\", \"security\", \"selection\", \"selection\", \"selection\", \"selection\", \"selection\", \"sept\", \"service\", \"service\", \"service\", \"service\", \"service\", \"service\", \"shortage\", \"shortage\", \"shrug\", \"sister\", \"sit\", \"sit\", \"sit\", \"sjc\", \"sleep\", \"sleep\", \"sleep\", \"sleep\", \"sleep\", \"sleep\", \"slimline\", \"snack\", \"snack\", \"snack\", \"snack\", \"snack\", \"soup\", \"space\", \"space\", \"space\", \"space\", \"space\", \"speak\", \"speak\", \"speak\", \"speak\", \"spending\", \"staff\", \"staff\", \"staff\", \"staff\", \"staff\", \"staff\", \"starter\", \"status\", \"status\", \"status\", \"status\", \"status\", \"status\", \"stock\", \"stock\", \"stowage\", \"strand\", \"stranger\", \"stretch\", \"submission\", \"success\", \"suggest\", \"suitcase\", \"suitcase\", \"suitcase\", \"suitcase\", \"suitcase\", \"switch\", \"switch\", \"switch\", \"table\", \"table\", \"table\", \"table\", \"tap\", \"tea\", \"tea\", \"tea\", \"tear\", \"tegel\", \"telephone\", \"telephone\", \"telephone\", \"temperature\", \"temperature\", \"test\", \"test\", \"threehour\", \"ticket\", \"ticket\", \"ticket\", \"ticket\", \"ticket\", \"ticket\", \"time\", \"time\", \"time\", \"time\", \"time\", \"time\", \"timeslot\", \"total\", \"town\", \"town\", \"town\", \"traffic\", \"traffic\", \"transportation\", \"travel\", \"travel\", \"travel\", \"travel\", \"travel\", \"travel\", \"tray\", \"tray\", \"tray\", \"tray\", \"tray\", \"trip\", \"trip\", \"trip\", \"trip\", \"trip\", \"trip\", \"trolley\", \"trolley\", \"trolley\", \"turkey\", \"turkey\", \"turnaround\", \"twitter\", \"twitter\", \"understanding\", \"use\", \"use\", \"use\", \"use\", \"use\", \"use\", \"vacation\", \"vacation\", \"vaccination\", \"vegetarian\", \"vegetarian\", \"version\", \"waffle\", \"war\", \"water\", \"water\", \"water\", \"water\", \"water\", \"water\", \"way\", \"way\", \"way\", \"way\", \"way\", \"way\", \"web\", \"website\", \"website\", \"website\", \"website\", \"website\", \"website\", \"week\", \"week\", \"week\", \"week\", \"week\", \"week\", \"whoop\", \"wine\", \"wine\", \"wine\", \"wine\", \"wing\", \"wing\", \"wir\", \"woman\", \"world\", \"world\", \"world\", \"world\", \"world\", \"world\", \"year\", \"year\", \"year\", \"year\", \"year\", \"year\"]}, \"R\": 30, \"lambda.step\": 0.01, \"plot.opts\": {\"xlab\": \"PC1\", \"ylab\": \"PC2\"}, \"topic.order\": [4, 1, 6, 3, 2, 5]};\n",
              "\n",
              "function LDAvis_load_lib(url, callback){\n",
              "  var s = document.createElement('script');\n",
              "  s.src = url;\n",
              "  s.async = true;\n",
              "  s.onreadystatechange = s.onload = callback;\n",
              "  s.onerror = function(){console.warn(\"failed to load library \" + url);};\n",
              "  document.getElementsByTagName(\"head\")[0].appendChild(s);\n",
              "}\n",
              "\n",
              "if(typeof(LDAvis) !== \"undefined\"){\n",
              "   // already loaded: just create the visualization\n",
              "   !function(LDAvis){\n",
              "       new LDAvis(\"#\" + \"ldavis_el4501369079906421124122376792\", ldavis_el4501369079906421124122376792_data);\n",
              "   }(LDAvis);\n",
              "}else if(typeof define === \"function\" && define.amd){\n",
              "   // require.js is available: use it to load d3/LDAvis\n",
              "   require.config({paths: {d3: \"https://d3js.org/d3.v5\"}});\n",
              "   require([\"d3\"], function(d3){\n",
              "      window.d3 = d3;\n",
              "      LDAvis_load_lib(\"https://cdn.jsdelivr.net/gh/bmabey/pyLDAvis@3.4.0/pyLDAvis/js/ldavis.v3.0.0.js\", function(){\n",
              "        new LDAvis(\"#\" + \"ldavis_el4501369079906421124122376792\", ldavis_el4501369079906421124122376792_data);\n",
              "      });\n",
              "    });\n",
              "}else{\n",
              "    // require.js not available: dynamically load d3 & LDAvis\n",
              "    LDAvis_load_lib(\"https://d3js.org/d3.v5.js\", function(){\n",
              "         LDAvis_load_lib(\"https://cdn.jsdelivr.net/gh/bmabey/pyLDAvis@3.4.0/pyLDAvis/js/ldavis.v3.0.0.js\", function(){\n",
              "                 new LDAvis(\"#\" + \"ldavis_el4501369079906421124122376792\", ldavis_el4501369079906421124122376792_data);\n",
              "            })\n",
              "         });\n",
              "}\n",
              "</script>"
            ]
          },
          "metadata": {},
          "execution_count": 19
        }
      ]
    },
    {
      "cell_type": "markdown",
      "source": [
        "A good topic model will have big and non-overlapping bubbles scattered throughout the chart. As we can see from the graph, some bubbles are clustered within one place. Can we do better than this?\n",
        "\n",
        "Yes, our model will be better if the words in a topic are similar, so we will use topic coherence to evaluate our model. Topic coherence evaluates a single topic by measuring the degree of semantic similarity between high scoring words in the topic. A good model will generate topics with high topic coherence scores."
      ],
      "metadata": {
        "id": "0RhRbj_wELDs"
      }
    },
    {
      "cell_type": "code",
      "source": [
        "# Compute Coherence Score\n",
        "coherence_model_lda = CoherenceModel(model=lda, texts=text_data['Cleaned Review'], dictionary=dictionary, coherence='c_v')\n",
        "coherence_lda = coherence_model_lda.get_coherence()\n",
        "print('nCoherence Score: ', coherence_lda)"
      ],
      "metadata": {
        "id": "cwGpP0T1EWbi"
      },
      "execution_count": null,
      "outputs": []
    },
    {
      "cell_type": "markdown",
      "source": [
        "Let's check the coherence scores for different number of topics"
      ],
      "metadata": {
        "id": "A9GaDahRFMV2"
      }
    },
    {
      "cell_type": "code",
      "source": [
        "# Function to train LDA model and calculate coherence score\n",
        "def compute_coherence_values(dictionary, corpus, texts, start, limit, step):\n",
        "    coherence_values = []\n",
        "    topic_num = []\n",
        "\n",
        "    for num_topics in range(start, limit, step):\n",
        "        # Train the LDA model\n",
        "        lda_model = LdaModel(corpus=corpus, num_topics=num_topics, id2word=dictionary, passes=10, random_state=45)\n",
        "        topic_num.append(num_topics)\n",
        "\n",
        "        # Compute the Coherence Score\n",
        "        coherence_model_lda = CoherenceModel(model=lda_model, texts=texts, dictionary=dictionary, coherence='c_v')\n",
        "        coherence_values.append(coherence_model_lda.get_coherence())\n",
        "\n",
        "        print(f'Num Topics = {topic_num[-1]}, Coherence Score = {coherence_model_lda.get_coherence()}')\n",
        "\n",
        "    return topic_num , coherence_values\n",
        "\n",
        "# Define the range for number of topics\n",
        "start = 2   # Starting number of topics\n",
        "limit = 10  # Maximum number of topics to test\n",
        "step = 1    # Step size (increment in topics)\n",
        "\n",
        "# Compute coherence values for different number of topics\n",
        "topic_num , coherence_values = compute_coherence_values(dictionary, corpus, text_data['Cleaned Review'], start, limit, step)\n",
        "\n",
        "# Print the coherence values for each number of topics\n",
        "#for i, num_topics in enumerate(range(start, limit, step)):\n",
        "#    print(f'Number of Topics: {num_topics}, Coherence Score: {coherence_values[i]}')"
      ],
      "metadata": {
        "colab": {
          "base_uri": "https://localhost:8080/"
        },
        "id": "Z0cPR_vREhMI",
        "outputId": "6027d5d7-3906-4436-9e20-589fc6e73f8c"
      },
      "execution_count": 21,
      "outputs": [
        {
          "output_type": "stream",
          "name": "stderr",
          "text": [
            "/usr/local/lib/python3.10/dist-packages/ipykernel/ipkernel.py:283: DeprecationWarning:\n",
            "\n",
            "`should_run_async` will not call `transform_cell` automatically in the future. Please pass the result to `transformed_cell` argument and any exception that happen during thetransform in `preprocessing_exc_tuple` in IPython 7.17 and above.\n",
            "\n"
          ]
        },
        {
          "output_type": "stream",
          "name": "stdout",
          "text": [
            "Num Topics = 2, Coherence Score = 0.5154099703781405\n",
            "Num Topics = 3, Coherence Score = 0.5232363955657323\n",
            "Num Topics = 4, Coherence Score = 0.528080907152576\n",
            "Num Topics = 5, Coherence Score = 0.5005299583566634\n",
            "Num Topics = 6, Coherence Score = 0.5169225993411593\n",
            "Num Topics = 7, Coherence Score = 0.5203053070265766\n",
            "Num Topics = 8, Coherence Score = 0.5068580223795752\n",
            "Num Topics = 9, Coherence Score = 0.4877649314762525\n"
          ]
        }
      ]
    },
    {
      "cell_type": "code",
      "source": [
        "plt.plot(topic_num , coherence_values,color='green', marker='o', linestyle='dashed')\n",
        "plt.xticks(range(2,10))\n",
        "plt.xlabel('Number of topics')\n",
        "plt.ylabel('Coherence score')\n",
        "plt.show()\n"
      ],
      "metadata": {
        "colab": {
          "base_uri": "https://localhost:8080/",
          "height": 543
        },
        "id": "MvYUr_DJLBBC",
        "outputId": "7fa11b50-5fc3-4314-d3d8-006d76550dc5"
      },
      "execution_count": 22,
      "outputs": [
        {
          "output_type": "stream",
          "name": "stderr",
          "text": [
            "/usr/local/lib/python3.10/dist-packages/ipykernel/ipkernel.py:283: DeprecationWarning:\n",
            "\n",
            "`should_run_async` will not call `transform_cell` automatically in the future. Please pass the result to `transformed_cell` argument and any exception that happen during thetransform in `preprocessing_exc_tuple` in IPython 7.17 and above.\n",
            "\n"
          ]
        },
        {
          "output_type": "display_data",
          "data": {
            "text/plain": [
              "<Figure size 640x480 with 1 Axes>"
            ],
            "image/png": "[encoded data removed]"
          },
          "metadata": {}
        }
      ]
    },
    {
      "cell_type": "markdown",
      "source": [
        "Although the coherence score is hight for 5 topics, indicating more interpretable themes compared to four, the visual overlap suggests that there may be redundancy in the identified topics. The overlap indicates that some topics may not be sufficiently distinct to provide clear and unique insights, potentially leading to difficulties in interpreting the results.\n",
        "\n",
        "Thus, while 5 topics achieved a good coherence score, the actual separability of the topics is compromised, suggesting a trade-off between coherence and distinctiveness.\n",
        "\n",
        "\n",
        "\n",
        "\n",
        "\n",
        "\n"
      ],
      "metadata": {
        "id": "DJzuYe5OMS0H"
      }
    },
    {
      "cell_type": "code",
      "source": [
        "# LDA model\n",
        "lda_4 = LdaModel(corpus, num_topics=4, id2word = dictionary, passes=10, random_state=45)\n",
        "\n",
        "# Results\n",
        "for idx, topic in lda_4.print_topics(num_topics=4, num_words = 20):\n",
        "    print(f\"Topic {idx}: {topic}\")"
      ],
      "metadata": {
        "colab": {
          "base_uri": "https://localhost:8080/"
        },
        "id": "xh4f9sgXLMtK",
        "outputId": "6287b4e3-b935-4531-e7d3-38b3be8995a6"
      },
      "execution_count": 23,
      "outputs": [
        {
          "output_type": "stream",
          "name": "stderr",
          "text": [
            "/usr/local/lib/python3.10/dist-packages/ipykernel/ipkernel.py:283: DeprecationWarning:\n",
            "\n",
            "`should_run_async` will not call `transform_cell` automatically in the future. Please pass the result to `transformed_cell` argument and any exception that happen during thetransform in `preprocessing_exc_tuple` in IPython 7.17 and above.\n",
            "\n"
          ]
        },
        {
          "output_type": "stream",
          "name": "stdout",
          "text": [
            "Topic 0: 0.045*\"seat\" + 0.030*\"class\" + 0.027*\"business\" + 0.024*\"food\" + 0.022*\"service\" + 0.021*\"cabin\" + 0.019*\"crew\" + 0.016*\"economy\" + 0.015*\"meal\" + 0.013*\"time\" + 0.011*\"passenger\" + 0.011*\"drink\" + 0.010*\"club\" + 0.010*\"boarding\" + 0.009*\"airline\" + 0.008*\"staff\" + 0.008*\"experience\" + 0.008*\"lounge\" + 0.007*\"hour\" + 0.007*\"aircraft\"\n",
            "Topic 1: 0.031*\"time\" + 0.026*\"crew\" + 0.020*\"seat\" + 0.019*\"service\" + 0.015*\"cabin\" + 0.014*\"hour\" + 0.013*\"passenger\" + 0.012*\"food\" + 0.012*\"aircraft\" + 0.011*\"minute\" + 0.010*\"lounge\" + 0.010*\"flight\" + 0.010*\"delay\" + 0.010*\"departure\" + 0.009*\"airline\" + 0.009*\"club\" + 0.008*\"board\" + 0.008*\"heathrow\" + 0.008*\"drink\" + 0.008*\"boarding\"\n",
            "Topic 2: 0.023*\"staff\" + 0.022*\"hour\" + 0.020*\"time\" + 0.018*\"service\" + 0.017*\"day\" + 0.014*\"customer\" + 0.013*\"luggage\" + 0.010*\"delay\" + 0.010*\"book\" + 0.009*\"phone\" + 0.008*\"airline\" + 0.008*\"plane\" + 0.008*\"passenger\" + 0.008*\"ticket\" + 0.007*\"airport\" + 0.007*\"experience\" + 0.007*\"travel\" + 0.006*\"way\" + 0.006*\"call\" + 0.006*\"hotel\"\n",
            "Topic 3: 0.023*\"hour\" + 0.023*\"customer\" + 0.021*\"service\" + 0.016*\"book\" + 0.015*\"airline\" + 0.014*\"day\" + 0.014*\"seat\" + 0.013*\"call\" + 0.012*\"time\" + 0.011*\"bag\" + 0.011*\"check\" + 0.010*\"refund\" + 0.010*\"ticket\" + 0.010*\"plane\" + 0.010*\"flight\" + 0.010*\"email\" + 0.009*\"travel\" + 0.009*\"experience\" + 0.008*\"delay\" + 0.008*\"change\"\n"
          ]
        }
      ]
    },
    {
      "cell_type": "code",
      "source": [
        "# Prepare the LDA model for visualization\n",
        "lda_4_display = pyLDAvis.gensim.prepare(lda_4, corpus, dictionary)\n",
        "\n",
        "# Display the visualization\n",
        "pyLDAvis.display(lda_4_display)"
      ],
      "metadata": {
        "colab": {
          "base_uri": "https://localhost:8080/",
          "height": 951
        },
        "id": "Qvqv4g8sMqjP",
        "outputId": "1bd8976c-dbd6-4f0b-cefa-cecfa43a8740"
      },
      "execution_count": 24,
      "outputs": [
        {
          "output_type": "stream",
          "name": "stderr",
          "text": [
            "/usr/local/lib/python3.10/dist-packages/ipykernel/ipkernel.py:283: DeprecationWarning:\n",
            "\n",
            "`should_run_async` will not call `transform_cell` automatically in the future. Please pass the result to `transformed_cell` argument and any exception that happen during thetransform in `preprocessing_exc_tuple` in IPython 7.17 and above.\n",
            "\n"
          ]
        },
        {
          "output_type": "execute_result",
          "data": {
            "text/plain": [
              "<IPython.core.display.HTML object>"
            ],
            "text/html": [
              "\n",
              "<link rel=\"stylesheet\" type=\"text/css\" href=\"https://cdn.jsdelivr.net/gh/bmabey/pyLDAvis@3.4.0/pyLDAvis/js/ldavis.v1.0.0.css\">\n",
              "\n",
              "\n",
              "<div id=\"ldavis_el450136908017329184665388595\" style=\"background-color:white;\"></div>\n",
              "<script type=\"text/javascript\">\n",
              "\n",
              "var ldavis_el450136908017329184665388595_data = {\"mdsDat\": {\"x\": [-0.14196230648374286, 0.10882962877040832, -0.05170806613934286, 0.0848407438526774], \"y\": [-0.008046233708605773, -0.05089978450730707, 0.004422457258937086, 0.05452356095697579], \"topics\": [1, 2, 3, 4], \"cluster\": [1, 1, 1, 1], \"Freq\": [32.027595921792354, 31.520287141254883, 18.446087935593354, 18.006029001359405]}, \"tinfo\": {\"Term\": [\"crew\", \"seat\", \"cabin\", \"class\", \"customer\", \"time\", \"business\", \"food\", \"day\", \"refund\", \"staff\", \"drink\", \"economy\", \"meal\", \"phone\", \"aircraft\", \"hour\", \"email\", \"luggage\", \"book\", \"club\", \"call\", \"departure\", \"ticket\", \"lounge\", \"delay\", \"passenger\", \"breakfast\", \"airport\", \"week\", \"glass\", \"bread\", \"potato\", \"pastry\", \"privacy\", \"vegetarian\", \"plate\", \"mash\", \"sausage\", \"configuration\", \"buffet\", \"mediocre\", \"headphone\", \"temperature\", \"aisle\", \"pod\", \"turkey\", \"salad\", \"speed\", \"neighbour\", \"disgusting\", \"tea\", \"sky\", \"plastic\", \"climb\", \"fruit\", \"size\", \"divider\", \"design\", \"starter\", \"screen\", \"dinner\", \"class\", \"meal\", \"economy\", \"business\", \"row\", \"baby\", \"bed\", \"selection\", \"wine\", \"tray\", \"movie\", \"foot\", \"food\", \"seat\", \"cabin\", \"premium\", \"quality\", \"drink\", \"attendant\", \"breakfast\", \"space\", \"leg\", \"choice\", \"crew\", \"club\", \"product\", \"entertainment\", \"service\", \"passenger\", \"boarding\", \"lounge\", \"aircraft\", \"time\", \"experience\", \"airline\", \"staff\", \"option\", \"hour\", \"plane\", \"flight\", \"refund\", \"daughter\", \"confirmation\", \"app\", \"twitter\", \"pram\", \"submit\", \"coronavirus\", \"confirm\", \"shock\", \"figure\", \"complain\", \"email\", \"concern\", \"amend\", \"bud\", \"assign\", \"garbage\", \"loss\", \"regulation\", \"info\", \"explanation\", \"understanding\", \"raise\", \"communication\", \"associate\", \"action\", \"agent\", \"delta\", \"wir\", \"vacation\", \"booking\", \"reply\", \"cancellation\", \"week\", \"hold\", \"customer\", \"call\", \"month\", \"reservation\", \"fee\", \"pass\", \"book\", \"ticket\", \"change\", \"website\", \"line\", \"complaint\", \"bag\", \"check\", \"hour\", \"contact\", \"day\", \"travel\", \"airport\", \"airline\", \"phone\", \"plane\", \"service\", \"flight\", \"minute\", \"delay\", \"experience\", \"money\", \"seat\", \"time\", \"baggage\", \"luggage\", \"staff\", \"l\", \"oneworld\", \"ontime\", \"pisa\", \"feed\", \"cape\", \"encourage\", \"miniscule\", \"recover\", \"cockpit\", \"concept\", \"north\", \"hire\", \"cityflyer\", \"30min\", \"threehour\", \"cdg\", \"sardine\", \"charity\", \"filter\", \"23rd\", \"tegel\", \"durban\", \"allocation\", \"timeslot\", \"bacon\", \"amendment\", \"elite\", \"salt\", \"protect\", \"distancing\", \"pack\", \"shower\", \"e\", \"deck\", \"departure\", \"captain\", \"m\", \"bridge\", \"amenity\", \"immigration\", \"underline\", \"town\", \"lhr\", \"arrival\", \"stretch\", \"crew\", \"aircraft\", \"shuttle\", \"time\", \"lounge\", \"board\", \"age\", \"snack\", \"cabin\", \"condition\", \"minute\", \"gate\", \"passenger\", \"club\", \"heathrow\", \"ground\", \"world\", \"drink\", \"baggage\", \"delay\", \"security\", \"flight\", \"service\", \"seat\", \"food\", \"hour\", \"boarding\", \"trip\", \"airline\", \"check\", \"staff\", \"experience\", \"day\", \"bag\", \"class\", \"sister\", \"test\", \"tarmac\", \"web\", \"tear\", \"iberia\", \"manchester\", \"marstal\", \"transportation\", \"reimburse\", \"commitment\", \"appreciation\", \"shout\", \"sjc\", \"road\", \"gratitude\", \"mxp\", \"reassure\", \"cutback\", \"tap\", \"island\", \"spending\", \"assure\", \"melbourne\", \"harrogate\", \"shop\", \"demand\", \"redemption\", \"proof\", \"sugar\", \"announce\", \"receipt\", \"report\", \"clothe\", \"suitcase\", \"decline\", \"partner\", \"watch\", \"staff\", \"luggage\", \"mile\", \"holiday\", \"bank\", \"country\", \"phone\", \"day\", \"claim\", \"hotel\", \"fact\", \"hour\", \"file\", \"time\", \"customer\", \"airport\", \"delay\", \"way\", \"ticket\", \"response\", \"number\", \"book\", \"arrive\", \"service\", \"travel\", \"plane\", \"price\", \"air\", \"passenger\", \"experience\", \"airline\", \"night\", \"people\", \"call\", \"return\", \"bag\", \"flight\", \"heathrow\", \"minute\", \"food\"], \"Freq\": [412.0, 786.0, 346.0, 414.0, 355.0, 595.0, 379.0, 388.0, 309.0, 117.0, 340.0, 176.0, 225.0, 211.0, 126.0, 162.0, 553.0, 120.0, 176.0, 277.0, 184.0, 203.0, 100.0, 177.0, 172.0, 234.0, 284.0, 86.0, 149.0, 100.0, 28.50659856171546, 12.417652358721009, 8.775162965781517, 8.775654904116301, 16.64161286337686, 8.755928431123104, 11.244120113926284, 6.878164214809523, 7.716879034126286, 22.279645662318675, 5.923207671995035, 8.389925038884268, 9.222094027568016, 5.857588564116159, 27.57064710945233, 4.9859215033197, 4.971407415705799, 5.7926164759075816, 4.967669256382749, 4.9473491523757405, 4.939344349588331, 31.139638118626213, 4.917154689235365, 5.6894142961778895, 4.877293701374381, 9.721957399945728, 12.241485046211343, 4.0366222513552446, 12.142592729334597, 4.028928564607728, 66.93159427145002, 44.06222767882905, 331.0453236809706, 168.56767623634684, 178.67365061546226, 292.83358768842027, 71.82467989250819, 19.019551250318425, 25.479057510427488, 42.868218341954076, 46.54726625300321, 23.113273940946435, 20.03434503662995, 17.258709462872794, 261.44477962532903, 494.4673503586318, 230.07193731284477, 67.29318293026067, 52.149251539547485, 119.81052129080852, 42.64410547360091, 61.94175315093314, 41.21482249684972, 55.8390483667696, 69.96531569530576, 211.93425480576678, 108.31441815868367, 46.21650572983911, 56.192105009810014, 244.09777803620938, 122.38251219018335, 104.97952878126023, 82.07540363094837, 72.57030586902434, 145.01883475491576, 86.91986489753054, 94.58426923812122, 87.67182124331602, 53.961618465138315, 79.92436449176529, 59.18012065907779, 53.29284164616167, 112.79652740124057, 10.553454267648076, 10.458693603354485, 31.99840065734155, 9.423839318765182, 9.414378452273393, 7.478949759559269, 5.794752890943988, 12.312278451150586, 5.754955326006892, 7.361683179472319, 8.080475716934119, 103.4216963091706, 7.197986732470593, 3.9966819056743668, 3.995581630358066, 3.9946014533139245, 3.9814976058999423, 10.31035659944075, 3.9619863280126615, 8.683184517187382, 26.819402866976063, 3.954116138115162, 5.50926928982978, 18.796715686353373, 3.920625296246064, 7.730483705874016, 43.896148662918094, 3.8351059437904693, 3.0614303724869476, 8.361204802596816, 33.96803734124265, 15.735443255604554, 35.061662215723025, 74.3592205151053, 16.11982653281904, 242.09517790503588, 142.19359197744959, 64.0142405846197, 19.365596181103005, 30.673591613047407, 28.3056615197636, 171.99741939327595, 112.0703832231918, 88.94487043556855, 55.55490360894313, 57.90036281509629, 50.189498287900946, 123.35663836582786, 114.30026785876943, 251.36906639935518, 49.30145163079084, 152.25204245103424, 100.37239117083308, 82.75963928009794, 165.65961339121512, 69.66725124291759, 110.43030120219304, 227.7874904313928, 104.13544034061883, 88.57866077918398, 91.21413729622539, 92.50897681752089, 58.94461729152947, 149.02079843856333, 127.51744300481893, 61.40568109282619, 63.43343533226349, 67.74915173005725, 6.249918967174551, 5.378870938401121, 5.219849948427185, 3.6643159699572365, 3.6199929619855413, 9.190617044824624, 2.804343751396717, 2.780926852258502, 2.7704786481073307, 2.7683595396259038, 2.7695975470337784, 2.689067398103985, 5.774078996291688, 1.9463566641705865, 1.9459787095139836, 1.9454675098259007, 1.9428196308830086, 3.898083029898273, 1.9419681804895383, 1.9409201570688568, 1.940197009926853, 1.9403280586116607, 1.9397193045255294, 1.9399938478596235, 1.9399713353062278, 1.9396762927365214, 1.9390772391815283, 1.9392663080242742, 1.9358471453414674, 1.9331121446472228, 4.4612343700630515, 15.500211483213407, 4.3817577354206225, 2.570394211652953, 14.207771283632418, 60.32054701740688, 12.80332326066553, 5.508859153823504, 3.732430537203741, 9.271922870187677, 5.313945832581232, 2.5309459951214306, 10.432436578407579, 20.177989162609773, 44.44307785160153, 3.654342725774048, 166.55268148490188, 73.124843991764, 8.49462626519845, 197.5082140537999, 65.56708038156133, 52.64812239703763, 13.5892976313588, 26.51428239115253, 96.91879874867703, 8.99821927263821, 67.3869790915282, 37.5677337949341, 80.24357840131913, 56.43529760717528, 51.9143669006046, 27.17137074639536, 32.84755051821136, 51.01260552601718, 40.49298935912805, 60.94852060115571, 29.53813049325521, 61.113861578680485, 118.58224452070037, 127.47620687736082, 78.09436239970202, 87.19700111797178, 50.629673947853966, 34.355122874388414, 58.26239447730431, 39.498770575004464, 45.1857563724504, 41.22028173941873, 39.35595825741766, 35.332216011389, 34.12134959146514, 9.589491840209396, 15.956616075806576, 9.266845299524622, 6.091017837044337, 4.450771726644186, 4.448761059293354, 4.440750549133244, 3.6179241522159638, 3.616001744121513, 5.034915793663677, 3.581244748703818, 3.5566086244510324, 3.4951165781733393, 2.770268496924141, 2.7692608406367154, 2.768343408892756, 2.765651322910676, 3.4537923079660704, 2.7610607696040947, 2.7556405078225485, 3.4072064282437857, 2.7280498424305506, 5.432630583812122, 2.7074752519334475, 2.6750417618380875, 4.663894962008899, 3.339420460743853, 2.661084471620005, 2.656327047573627, 2.6285168060154507, 9.90257207801227, 9.13896013830316, 11.642824501690178, 5.254642393635351, 16.96958935811064, 9.183770827799938, 18.03475637750396, 7.642705610101675, 139.77899290434894, 78.79571443012671, 13.855908561169949, 25.812832391348014, 4.463074781123744, 6.916642088121384, 53.40880191452702, 103.03305834983836, 30.738467860640373, 37.2616230271214, 19.84857342736274, 134.54673834654068, 11.834506454953125, 125.59989395395895, 85.44137487376415, 45.68268809122107, 62.077258746237135, 39.38329550973528, 46.60248246758207, 19.088511868104646, 31.630965471359875, 60.93560847067865, 35.337691299192315, 107.48287994950799, 43.73725112002871, 47.91071762299796, 25.888782518725645, 21.728302632816753, 47.146608286993775, 45.17531528425598, 50.87481934789371, 20.342000557169797, 32.18952435912679, 37.36387512755039, 29.69568510382489, 34.010978157274536, 34.94747532991193, 30.28730369361756, 31.16594281446064, 33.09597765210222], \"Total\": [412.0, 786.0, 346.0, 414.0, 355.0, 595.0, 379.0, 388.0, 309.0, 117.0, 340.0, 176.0, 225.0, 211.0, 126.0, 162.0, 553.0, 120.0, 176.0, 277.0, 184.0, 203.0, 100.0, 177.0, 172.0, 234.0, 284.0, 86.0, 149.0, 100.0, 30.28629406719316, 13.258909565634259, 9.467393341764696, 9.467950664563322, 17.969499667949883, 9.466651950868075, 12.282570274037873, 7.564067147565553, 8.50553597316234, 24.61555308651672, 6.610918574169341, 9.438031957816154, 10.381597554907453, 6.605584037951123, 31.23106115000746, 5.660841079488747, 5.659571089275546, 6.597440293019852, 5.659214522751562, 5.65648967384992, 5.65848501498315, 35.7280119036773, 5.654210242966205, 6.589016781971658, 5.650033622369515, 11.282900040383758, 14.207429010731962, 4.708924536071052, 14.189562644504498, 4.708290881486111, 79.13125984886355, 52.470734721649606, 414.12545245044095, 211.23741371899084, 225.58269107879755, 379.42830642051956, 89.1513797744934, 22.714663232991512, 30.85433612921934, 53.55652104318992, 58.78205708792312, 28.168069064513382, 24.362650116561195, 20.8267383419498, 388.02316241720666, 786.5084329783913, 346.4631145426466, 91.68642881197056, 69.8066587810876, 176.3750235165004, 56.52844426812167, 86.16319416264463, 55.088931227981575, 79.07134618389537, 105.15754437063516, 412.4169891578049, 184.0033705381335, 66.5311661304892, 87.5409223927002, 697.9503929378104, 284.1483747759241, 229.50293029399137, 172.00694480307092, 162.0575356001957, 595.6443857674935, 265.82443873872614, 369.3810964545344, 340.38572225017265, 114.89521242528131, 553.037170355633, 238.773213917179, 253.4896188953729, 117.4660854824787, 11.269670356015851, 11.26119569630122, 34.67030160347096, 10.31182919075616, 10.332647576393247, 8.417144842557109, 6.557956053119313, 13.996356882432487, 6.549969429329425, 8.407024087000678, 9.334704991902278, 120.00643114250904, 8.39188535690264, 4.67313132102028, 4.673200044117967, 4.672751729189136, 4.671351819547724, 12.115441089540466, 4.670684115756522, 10.237691708576506, 31.637471971450832, 4.670324790238531, 6.523084333418069, 22.30703456452902, 4.668194514058331, 9.294535187897017, 52.96031196183907, 4.658955810817629, 3.7307632136600146, 10.208827716298652, 42.52168836765141, 19.450562154602565, 44.42203311709788, 100.25510313309816, 20.33192918139516, 355.56896770598917, 203.24779103004562, 87.47209996163306, 24.90789852974312, 40.87466394388078, 37.74581016066149, 277.1625258286905, 177.24704389574757, 140.4090163106256, 82.77217888653038, 87.50029159033309, 74.79817217388899, 225.5274623476264, 209.36906468750541, 553.037170355633, 77.97487256787733, 309.1967758415092, 186.35714476391706, 149.853455729208, 369.3810964545344, 126.27241834335481, 238.773213917179, 697.9503929378104, 253.4896188953729, 217.27693080389602, 234.30658215595943, 265.82443873872614, 116.01802408611394, 786.5084329783913, 595.6443857674935, 129.40317781221992, 176.71887139732547, 340.38572225017265, 6.962753860700068, 6.098577368009807, 6.11084632829625, 4.3657641724606195, 4.367151886929726, 11.414785833581565, 3.499473346242841, 3.501512622391524, 3.500075263187409, 3.4985586184157875, 3.5024442979081707, 3.4972211139233207, 7.808950376627106, 2.6334845773105897, 2.6335061241060687, 2.633618657906411, 2.633517095333204, 5.285795919451091, 2.6339457152675188, 2.633889255286449, 2.6333705133851666, 2.63403007374674, 2.6335947241738995, 2.6340568436423757, 2.6341278882741657, 2.6338302611688245, 2.6334137476326207, 2.6340099322363297, 2.6342973380458568, 2.633379703335451, 6.0820917280332445, 22.160312850198395, 6.087831069530122, 3.5195627516712333, 21.37777532032682, 100.04555889572426, 19.56995631514756, 7.9795602978852225, 5.300776307774067, 14.20437098334423, 7.883328248524947, 3.5221947989990814, 16.978660811928894, 35.743588901946815, 87.84599118652812, 5.306752284687997, 412.4169891578049, 162.0575356001957, 14.128444957020973, 595.6443857674935, 172.00694480307092, 136.7146498772165, 25.992592777655105, 62.55665978179253, 346.4631145426466, 15.825296583258414, 217.27693080389602, 103.1770783319972, 284.1483747759241, 184.0033705381335, 165.92149363352868, 69.90338637075709, 91.42591158646411, 176.3750235165004, 129.40317781221992, 234.30658215595943, 83.61561029393737, 253.4896188953729, 697.9503929378104, 786.5084329783913, 388.02316241720666, 553.037170355633, 229.50293029399137, 124.98524377147194, 369.3810964545344, 209.36906468750541, 340.38572225017265, 265.82443873872614, 309.1967758415092, 225.5274623476264, 414.12545245044095, 10.28799530306059, 17.13494374117772, 10.30732393125857, 6.883633398648161, 5.169255796157811, 5.170202686674639, 5.171476319374948, 4.315989392575592, 4.315362427207319, 6.051425024638195, 4.316222421624621, 4.322493057217213, 4.328132349166928, 3.462178788003075, 3.462263689140174, 3.462414856521445, 3.4622477324481857, 4.3288590588166125, 3.462507658150195, 3.4633120497000496, 4.318126883599034, 3.4628871659825986, 6.928815326589346, 3.4678708123121496, 3.4655359450013754, 6.0706875842607175, 4.346927804636161, 3.471314093827918, 3.472743630073122, 3.467841189118081, 13.075399884299337, 12.205854101813115, 15.723252692552162, 6.969840483081029, 23.64588639522998, 13.008335679916978, 30.085032948779038, 11.307032320701184, 340.38572225017265, 176.71887139732547, 22.954057710446087, 50.36905061539808, 6.119592206771639, 10.427029144622216, 126.27241834335481, 309.1967758415092, 70.11213275865619, 91.17815390292677, 41.100914189795006, 553.037170355633, 22.301040630310176, 595.6443857674935, 355.56896770598917, 149.853455729208, 234.30658215595943, 123.82862529435859, 177.24704389574757, 45.98305644616816, 99.26466559300489, 277.1625258286905, 121.38518125249793, 697.9503929378104, 186.35714476391706, 238.773213917179, 81.74225176200206, 59.119759793397805, 284.1483747759241, 265.82443873872614, 369.3810964545344, 52.259776477115025, 144.1679473163244, 203.24779103004562, 135.0731008151642, 225.5274623476264, 253.4896188953729, 165.92149363352868, 217.27693080389602, 388.02316241720666], \"Category\": [\"Default\", \"Default\", \"Default\", \"Default\", \"Default\", \"Default\", \"Default\", \"Default\", \"Default\", \"Default\", \"Default\", \"Default\", \"Default\", \"Default\", \"Default\", \"Default\", \"Default\", \"Default\", \"Default\", \"Default\", \"Default\", \"Default\", \"Default\", \"Default\", \"Default\", \"Default\", \"Default\", \"Default\", \"Default\", \"Default\", \"Topic1\", \"Topic1\", \"Topic1\", \"Topic1\", \"Topic1\", \"Topic1\", \"Topic1\", \"Topic1\", \"Topic1\", \"Topic1\", \"Topic1\", \"Topic1\", \"Topic1\", \"Topic1\", \"Topic1\", \"Topic1\", \"Topic1\", \"Topic1\", \"Topic1\", \"Topic1\", \"Topic1\", \"Topic1\", \"Topic1\", \"Topic1\", \"Topic1\", \"Topic1\", \"Topic1\", \"Topic1\", \"Topic1\", \"Topic1\", \"Topic1\", \"Topic1\", \"Topic1\", \"Topic1\", \"Topic1\", \"Topic1\", \"Topic1\", \"Topic1\", \"Topic1\", \"Topic1\", \"Topic1\", \"Topic1\", \"Topic1\", \"Topic1\", \"Topic1\", \"Topic1\", \"Topic1\", \"Topic1\", \"Topic1\", \"Topic1\", \"Topic1\", \"Topic1\", \"Topic1\", \"Topic1\", \"Topic1\", \"Topic1\", \"Topic1\", \"Topic1\", \"Topic1\", \"Topic1\", \"Topic1\", \"Topic1\", \"Topic1\", \"Topic1\", \"Topic1\", \"Topic1\", \"Topic1\", \"Topic1\", \"Topic1\", \"Topic1\", \"Topic1\", \"Topic1\", \"Topic2\", \"Topic2\", \"Topic2\", \"Topic2\", \"Topic2\", \"Topic2\", \"Topic2\", \"Topic2\", \"Topic2\", \"Topic2\", \"Topic2\", \"Topic2\", \"Topic2\", \"Topic2\", \"Topic2\", \"Topic2\", \"Topic2\", \"Topic2\", \"Topic2\", \"Topic2\", \"Topic2\", \"Topic2\", \"Topic2\", \"Topic2\", \"Topic2\", \"Topic2\", \"Topic2\", \"Topic2\", \"Topic2\", \"Topic2\", \"Topic2\", \"Topic2\", \"Topic2\", \"Topic2\", \"Topic2\", \"Topic2\", \"Topic2\", \"Topic2\", \"Topic2\", \"Topic2\", \"Topic2\", \"Topic2\", \"Topic2\", \"Topic2\", \"Topic2\", \"Topic2\", \"Topic2\", \"Topic2\", \"Topic2\", \"Topic2\", \"Topic2\", \"Topic2\", \"Topic2\", \"Topic2\", \"Topic2\", \"Topic2\", \"Topic2\", \"Topic2\", \"Topic2\", \"Topic2\", \"Topic2\", \"Topic2\", \"Topic2\", \"Topic2\", \"Topic2\", \"Topic2\", \"Topic2\", \"Topic2\", \"Topic2\", \"Topic3\", \"Topic3\", \"Topic3\", \"Topic3\", \"Topic3\", \"Topic3\", \"Topic3\", \"Topic3\", \"Topic3\", \"Topic3\", \"Topic3\", \"Topic3\", \"Topic3\", \"Topic3\", \"Topic3\", \"Topic3\", \"Topic3\", \"Topic3\", \"Topic3\", \"Topic3\", \"Topic3\", \"Topic3\", \"Topic3\", \"Topic3\", \"Topic3\", \"Topic3\", \"Topic3\", \"Topic3\", \"Topic3\", \"Topic3\", \"Topic3\", \"Topic3\", \"Topic3\", \"Topic3\", \"Topic3\", \"Topic3\", \"Topic3\", \"Topic3\", \"Topic3\", \"Topic3\", \"Topic3\", \"Topic3\", \"Topic3\", \"Topic3\", \"Topic3\", \"Topic3\", \"Topic3\", \"Topic3\", \"Topic3\", \"Topic3\", \"Topic3\", \"Topic3\", \"Topic3\", \"Topic3\", \"Topic3\", \"Topic3\", \"Topic3\", \"Topic3\", \"Topic3\", \"Topic3\", \"Topic3\", \"Topic3\", \"Topic3\", \"Topic3\", \"Topic3\", \"Topic3\", \"Topic3\", \"Topic3\", \"Topic3\", \"Topic3\", \"Topic3\", \"Topic3\", \"Topic3\", \"Topic3\", \"Topic3\", \"Topic3\", \"Topic3\", \"Topic3\", \"Topic3\", \"Topic3\", \"Topic3\", \"Topic4\", \"Topic4\", \"Topic4\", \"Topic4\", \"Topic4\", \"Topic4\", \"Topic4\", \"Topic4\", \"Topic4\", \"Topic4\", \"Topic4\", \"Topic4\", \"Topic4\", \"Topic4\", \"Topic4\", \"Topic4\", \"Topic4\", \"Topic4\", \"Topic4\", \"Topic4\", \"Topic4\", \"Topic4\", \"Topic4\", \"Topic4\", \"Topic4\", \"Topic4\", \"Topic4\", \"Topic4\", \"Topic4\", \"Topic4\", \"Topic4\", \"Topic4\", \"Topic4\", \"Topic4\", \"Topic4\", \"Topic4\", \"Topic4\", \"Topic4\", \"Topic4\", \"Topic4\", \"Topic4\", \"Topic4\", \"Topic4\", \"Topic4\", \"Topic4\", \"Topic4\", \"Topic4\", \"Topic4\", \"Topic4\", \"Topic4\", \"Topic4\", \"Topic4\", \"Topic4\", \"Topic4\", \"Topic4\", \"Topic4\", \"Topic4\", \"Topic4\", \"Topic4\", \"Topic4\", \"Topic4\", \"Topic4\", \"Topic4\", \"Topic4\", \"Topic4\", \"Topic4\", \"Topic4\", \"Topic4\", \"Topic4\", \"Topic4\", \"Topic4\", \"Topic4\", \"Topic4\", \"Topic4\", \"Topic4\", \"Topic4\", \"Topic4\", \"Topic4\"], \"logprob\": [30.0, 29.0, 28.0, 27.0, 26.0, 25.0, 24.0, 23.0, 22.0, 21.0, 20.0, 19.0, 18.0, 17.0, 16.0, 15.0, 14.0, 13.0, 12.0, 11.0, 10.0, 9.0, 8.0, 7.0, 6.0, 5.0, 4.0, 3.0, 2.0, 1.0, -5.9481, -6.7792, -7.1263, -7.1263, -6.4864, -7.1285, -6.8784, -7.3699, -7.2549, -6.1946, -7.5194, -7.1712, -7.0767, -7.5305, -5.9815, -7.6917, -7.6946, -7.5417, -7.6953, -7.6994, -7.701, -5.8598, -7.7055, -7.5597, -7.7137, -7.0239, -6.7934, -7.9029, -6.8016, -7.9048, -5.0946, -5.5127, -3.496, -4.1709, -4.1127, -3.6187, -5.024, -6.3528, -6.0604, -5.5401, -5.4578, -6.1579, -6.3008, -6.45, -3.7321, -3.0948, -3.8599, -5.0892, -5.3442, -4.5124, -5.5454, -5.1721, -5.5795, -5.2758, -5.0503, -3.942, -4.6132, -5.4649, -5.2695, -3.8007, -4.4911, -4.6445, -4.8906, -5.0137, -4.3214, -4.8333, -4.7488, -4.8247, -5.31, -4.9172, -5.2177, -5.3225, -4.5567, -6.9259, -6.9349, -5.8166, -7.0391, -7.0401, -7.2702, -7.5254, -6.7717, -7.5322, -7.286, -7.1929, -4.6435, -7.3085, -7.8968, -7.8971, -7.8974, -7.9007, -6.9492, -7.9056, -7.1209, -5.9932, -7.9076, -7.5759, -6.3486, -7.9161, -7.2371, -5.5005, -7.9381, -8.1634, -7.1587, -5.7569, -6.5264, -5.7252, -4.9734, -6.5023, -3.793, -4.3251, -5.1232, -6.3188, -5.8589, -5.9392, -4.1348, -4.5632, -4.7943, -5.2649, -5.2236, -5.3665, -4.4672, -4.5435, -3.7554, -5.3844, -4.2568, -4.6734, -4.8664, -4.1724, -5.0386, -4.5779, -3.8539, -4.6366, -4.7984, -4.7691, -4.755, -5.2057, -4.2782, -4.4341, -5.1648, -5.1323, -5.0665, -6.914, -7.0641, -7.0941, -7.4479, -7.4601, -6.5283, -7.7154, -7.7237, -7.7275, -7.7283, -7.7278, -7.7573, -6.9932, -8.0806, -8.0808, -8.081, -8.0824, -7.386, -8.0828, -8.0834, -8.0837, -8.0837, -8.084, -8.0838, -8.0839, -8.084, -8.0843, -8.0842, -8.086, -8.0874, -7.2511, -6.0057, -7.2691, -7.8025, -6.0927, -4.6469, -6.1968, -7.0402, -7.4295, -6.5195, -7.0762, -7.8179, -6.4016, -5.7419, -4.9523, -7.4506, -3.6312, -4.4544, -6.6071, -3.4607, -4.5635, -4.7829, -6.1372, -5.4688, -4.1727, -6.5495, -4.5361, -5.1204, -4.3615, -4.7134, -4.7969, -5.4444, -5.2547, -4.8145, -5.0454, -4.6365, -5.3608, -4.6338, -3.9709, -3.8986, -4.3886, -4.2784, -4.822, -5.2098, -4.6816, -5.0703, -4.9357, -5.0276, -5.0739, -5.1817, -5.2166, -6.4617, -5.9525, -6.4959, -6.9156, -7.2293, -7.2298, -7.2316, -7.4365, -7.437, -7.106, -7.4467, -7.4536, -7.471, -7.7034, -7.7038, -7.7041, -7.7051, -7.4829, -7.7068, -7.7087, -7.4965, -7.7188, -7.03, -7.7264, -7.7384, -7.1825, -7.5166, -7.7437, -7.7454, -7.756, -6.4296, -6.5098, -6.2677, -7.0633, -5.891, -6.5049, -5.8301, -6.6886, -3.7823, -4.3555, -6.0937, -5.4715, -7.2265, -6.7885, -4.7444, -4.0873, -5.2969, -5.1044, -5.7343, -3.8205, -6.2514, -3.8893, -4.2746, -4.9007, -4.594, -5.049, -4.8807, -5.7733, -5.2682, -4.6126, -5.1574, -4.0451, -4.9442, -4.853, -5.4686, -5.6438, -4.8691, -4.9118, -4.793, -5.7097, -5.2507, -5.1017, -5.3314, -5.1957, -5.1685, -5.3117, -5.2831, -5.223], \"loglift\": [30.0, 29.0, 28.0, 27.0, 26.0, 25.0, 24.0, 23.0, 22.0, 21.0, 20.0, 19.0, 18.0, 17.0, 16.0, 15.0, 14.0, 13.0, 12.0, 11.0, 10.0, 9.0, 8.0, 7.0, 6.0, 5.0, 4.0, 3.0, 2.0, 1.0, 1.078, 1.073, 1.0626, 1.0626, 1.0618, 1.0605, 1.0502, 1.0435, 1.0413, 1.0389, 1.0287, 1.0209, 1.0201, 1.0184, 1.0139, 1.0116, 1.0089, 1.0085, 1.0082, 1.0046, 1.0026, 1.0011, 0.9989, 0.9918, 0.9915, 0.9897, 0.9896, 0.9845, 0.9828, 0.9827, 0.9711, 0.9639, 0.9147, 0.9129, 0.9054, 0.8795, 0.9225, 0.961, 0.9472, 0.916, 0.9052, 0.9408, 0.943, 0.9507, 0.7437, 0.6744, 0.7292, 0.8293, 0.847, 0.7519, 0.8567, 0.8085, 0.8484, 0.7907, 0.7311, 0.4728, 0.6087, 0.7742, 0.6952, 0.088, 0.2962, 0.3564, 0.3987, 0.3352, -0.2742, 0.0207, -0.2238, -0.2179, 0.3828, -0.7958, -0.2564, -0.4209, 1.114, 1.0889, 1.0806, 1.0743, 1.0645, 1.0615, 1.0364, 1.0308, 1.0263, 1.0251, 1.0218, 1.0103, 1.0058, 1.0011, 0.9982, 0.9979, 0.9977, 0.9947, 0.9932, 0.99, 0.9899, 0.9893, 0.9881, 0.9856, 0.9833, 0.98, 0.9703, 0.9668, 0.9599, 0.9568, 0.9549, 0.9299, 0.9426, 0.9179, 0.8557, 0.9224, 0.7702, 0.7973, 0.8423, 0.9029, 0.8674, 0.8667, 0.6774, 0.6961, 0.698, 0.7558, 0.7416, 0.7556, 0.5512, 0.5493, 0.366, 0.6961, 0.4461, 0.5358, 0.5608, 0.3526, 0.5598, 0.3834, 0.0348, 0.2649, 0.2573, 0.2111, 0.099, 0.4774, -0.509, -0.3869, 0.4091, 0.13, -0.4597, 1.5823, 1.5647, 1.5327, 1.5152, 1.5027, 1.4736, 1.4689, 1.4599, 1.4566, 1.4562, 1.4556, 1.4275, 1.3884, 1.388, 1.3878, 1.3875, 1.3861, 1.3858, 1.3855, 1.385, 1.3848, 1.3847, 1.3845, 1.3845, 1.3844, 1.3844, 1.3842, 1.3841, 1.3822, 1.3812, 1.3804, 1.3329, 1.3615, 1.376, 1.2818, 1.1844, 1.266, 1.3198, 1.3395, 1.2638, 1.2959, 1.3598, 1.2033, 1.1185, 1.0089, 1.3173, 0.7836, 0.8945, 1.1816, 0.5865, 0.7259, 0.7361, 1.0418, 0.8319, 0.4164, 1.1257, 0.5196, 0.68, 0.4259, 0.5085, 0.5284, 0.7454, 0.6667, 0.4498, 0.5285, 0.3437, 0.6498, 0.2677, -0.0822, -0.1294, 0.0872, -0.1569, 0.1789, 0.3989, -0.1566, 0.0225, -0.329, -0.1736, -0.371, -0.1633, -0.8059, 1.6442, 1.6432, 1.6081, 1.5921, 1.5648, 1.5642, 1.5621, 1.538, 1.5377, 1.5306, 1.5278, 1.5194, 1.5007, 1.4915, 1.4911, 1.4907, 1.4898, 1.4886, 1.4881, 1.4859, 1.4775, 1.4759, 1.4712, 1.4669, 1.4556, 1.4508, 1.4508, 1.4487, 1.4465, 1.4374, 1.4365, 1.4251, 1.414, 1.432, 1.3827, 1.3663, 1.2027, 1.3228, 0.8244, 0.9068, 1.2097, 1.046, 1.3988, 1.304, 0.854, 0.6155, 0.8899, 0.8196, 0.9866, 0.3009, 1.0808, 0.1579, 0.2886, 0.5265, 0.3862, 0.5689, 0.3786, 0.8353, 0.5708, 0.1997, 0.4804, -0.1564, 0.265, 0.1083, 0.5647, 0.7135, -0.0818, -0.0578, -0.268, 0.7709, 0.2151, 0.0207, 0.1996, -0.1773, -0.267, 0.0137, -0.2274, -0.7472]}, \"token.table\": {\"Topic\": [3, 3, 2, 4, 1, 2, 3, 4, 1, 2, 3, 4, 1, 2, 3, 4, 1, 2, 3, 4, 1, 2, 3, 4, 1, 2, 3, 4, 1, 2, 3, 3, 2, 3, 1, 3, 4, 2, 4, 2, 3, 4, 1, 2, 3, 4, 1, 2, 3, 4, 2, 2, 2, 4, 1, 2, 3, 4, 1, 2, 3, 1, 2, 3, 4, 1, 2, 3, 4, 1, 4, 1, 3, 4, 1, 2, 3, 4, 1, 2, 3, 4, 1, 2, 3, 4, 2, 4, 1, 1, 2, 3, 4, 2, 3, 2, 1, 1, 2, 3, 4, 1, 2, 3, 4, 1, 2, 3, 4, 1, 2, 3, 4, 1, 2, 3, 1, 2, 3, 4, 3, 1, 2, 3, 4, 3, 1, 2, 3, 4, 1, 2, 3, 4, 3, 2, 3, 4, 1, 2, 3, 4, 1, 2, 4, 1, 2, 3, 4, 3, 4, 2, 3, 4, 2, 3, 1, 2, 3, 4, 3, 2, 4, 1, 2, 3, 4, 1, 2, 3, 2, 4, 2, 1, 2, 3, 4, 2, 2, 3, 4, 1, 2, 3, 4, 1, 2, 3, 4, 4, 2, 1, 2, 3, 4, 1, 3, 1, 3, 4, 1, 2, 3, 4, 2, 1, 4, 1, 2, 3, 4, 1, 2, 1, 3, 4, 1, 3, 4, 1, 1, 2, 3, 4, 3, 3, 1, 2, 3, 4, 3, 1, 2, 3, 4, 3, 1, 2, 3, 4, 1, 2, 3, 4, 2, 3, 4, 1, 2, 3, 4, 1, 2, 3, 4, 3, 2, 2, 4, 3, 1, 2, 3, 4, 1, 2, 3, 4, 1, 2, 3, 1, 3, 2, 1, 2, 3, 4, 1, 4, 4, 1, 2, 3, 4, 4, 1, 1, 2, 3, 4, 3, 4, 2, 4, 1, 2, 3, 4, 2, 3, 4, 1, 2, 3, 4, 4, 2, 3, 4, 2, 4, 4, 3, 1, 2, 3, 4, 1, 2, 3, 4, 1, 2, 3, 4, 2, 4, 1, 2, 3, 4, 1, 2, 3, 4, 1, 2, 3, 4, 4, 1, 1, 2, 3, 4, 1, 3, 4, 2, 3, 4, 3, 1, 2, 3, 4, 1, 2, 3, 4, 1, 2, 3, 4, 1, 2, 3, 4, 1, 1, 2, 3, 4, 3, 1, 2, 3, 4, 3, 3, 1, 2, 3, 4, 1, 2, 3, 4, 1, 2, 3, 4, 2, 3, 4, 1, 2, 3, 4, 1, 1, 2, 3, 4, 1, 2, 3, 4, 3, 1, 2, 3, 4, 1, 1, 4, 1, 1, 2, 1, 2, 3, 4, 1, 2, 3, 4, 1, 3, 1, 2, 3, 4, 4, 3, 1, 2, 3, 4, 2, 4, 4, 2, 4, 3, 4, 1, 2, 3, 4, 2, 2, 4, 2, 4, 2, 4, 2, 4, 1, 2, 3, 4, 1, 2, 3, 4, 4, 1, 2, 3, 4, 1, 3, 2, 3, 1, 1, 2, 3, 4, 1, 2, 3, 4, 1, 2, 3, 4, 1, 2, 3, 4, 1, 2, 3, 4, 2, 2, 4, 4, 3, 4, 2, 3, 4, 4, 1, 2, 4, 1, 1, 2, 3, 4, 1, 2, 3, 1, 4, 1, 2, 3, 4, 1, 2, 3, 2, 4, 1, 2, 4, 4, 4, 1, 2, 3, 4, 4, 3, 1, 3, 4, 3, 1, 2, 3, 4, 1, 2, 3, 4, 3, 1, 2, 3, 4, 1, 2, 3, 4, 1, 2, 3, 4, 1, 2, 3, 4, 1, 2, 3, 2, 2, 4, 1, 1, 2, 3, 4, 1, 2, 3, 4, 4, 1, 2, 3, 4, 1, 2, 3, 4, 1, 3, 2, 1, 2, 3, 4], \"Freq\": [0.7594829477410012, 0.7594438386502294, 0.860720825546746, 0.10759010319334325, 0.26930749309540397, 0.15388999605451656, 0.5386149861908079, 0.07694499802725828, 0.018882064001446163, 0.830810816063631, 0.07552825600578465, 0.07552825600578465, 0.23680745742074968, 0.2029778206463569, 0.18606300225916048, 0.37212600451832095, 0.45045730042504634, 0.049365183608224256, 0.45045730042504634, 0.049365183608224256, 0.25718695653851137, 0.44940036616203033, 0.15701940504456482, 0.13806878719435872, 0.06673186114620175, 0.5538744475134745, 0.07340504726082192, 0.306966561272528, 0.8965433439969206, 0.06403881028549432, 0.03201940514274716, 0.7592850567470665, 0.8559571142389133, 0.7594704788785867, 0.28160345887123917, 0.6336077824602881, 0.07040086471780979, 0.229438489571729, 0.7647949652390966, 0.9229801449663874, 0.05768625906039921, 0.925391885435478, 0.11383558731515092, 0.20490405716727164, 0.500876584186664, 0.17075338097272638, 0.10709709262581407, 0.3871971810317893, 0.21419418525162814, 0.2883383263002686, 0.8560266480697706, 0.8568623239571415, 0.1443248164173892, 0.7216240820869461, 0.7606789919079584, 0.15921188202724712, 0.0530706273424157, 0.01769020911413857, 0.8364640851203017, 0.13207327659794238, 0.7593503763270048, 0.146323643499939, 0.5453881257724998, 0.1551917431059959, 0.15075769330296745, 0.06955006941993432, 0.4713949149573326, 0.3091114196441525, 0.13910013883986863, 0.16340958126155028, 0.6536383250462011, 0.810258885341071, 0.06482071082728569, 0.09723106624092853, 0.3437817384033879, 0.10971757608618761, 0.3876687688378629, 0.16091911159307518, 0.4575104982995026, 0.2483628419340157, 0.22221938488832982, 0.07407312829610994, 0.06494384457704609, 0.6205745148473294, 0.0938077755001777, 0.22008747328887845, 0.7995919566040955, 0.18813928390684603, 0.9050518023822092, 0.7195647817206806, 0.01160588357614001, 0.2669353222512202, 0.01160588357614001, 0.18865161288421278, 0.7546064515368511, 0.8559445267134871, 0.9075894571510279, 0.7722143947670281, 0.08433740830220102, 0.08433740830220102, 0.057981968207763204, 0.6638513317748548, 0.03752203179597005, 0.2799720834006996, 0.017317860828909255, 0.04428092406017614, 0.6986545796161124, 0.06888143742694067, 0.18204379891405748, 0.02251135145849737, 0.7878973010474081, 0.06753405437549212, 0.13506810875098424, 0.08760567342911195, 0.08760567342911195, 0.7884510608620076, 0.1532962032050085, 0.1532962032050085, 0.6642835472217036, 0.0510987344016695, 0.7594406748086636, 0.1495630448228616, 0.6338624280587943, 0.0569763980277568, 0.16380714432980079, 0.7593170916192813, 0.15761640837080815, 0.5444930470991554, 0.18627393716550053, 0.10985386037965417, 0.6656678835450938, 0.12362403551551741, 0.19970036506352812, 0.01901908238700268, 0.7594500523114788, 0.5277260660057713, 0.028525733297609265, 0.4421488661129436, 0.7992747078003164, 0.07727127084474358, 0.08210072527254005, 0.04105036263627002, 0.8849504859942934, 0.14347530656224552, 0.7173765328112276, 0.586945769983152, 0.027173415276997778, 0.3043422511023751, 0.07608556277559378, 0.8574959939812172, 0.9267363006965718, 0.8517492517903917, 0.04482890798896799, 0.08965781597793598, 0.8570169070088326, 0.10712711337610407, 0.10695448521658782, 0.6684655326036739, 0.08021586391244087, 0.14706241717280824, 0.856544671329033, 0.8341391358787139, 0.11916273369695912, 0.12637993793530547, 0.06318996896765273, 0.5687097207088746, 0.1895699069029582, 0.8937438830919708, 0.04062472195872595, 0.04062472195872595, 0.8573659632144554, 0.07144716360120461, 0.8880051701156864, 0.08977250964926531, 0.6284075675448572, 0.06412322117804664, 0.2180189520053586, 0.9149192143710814, 0.09590459431253764, 0.1918091886250753, 0.6713321601877635, 0.5140428391006014, 0.04122041634297276, 0.40492997231037947, 0.04122041634297276, 0.03374872694155495, 0.6805993266546916, 0.044998302588739936, 0.23905348250268094, 0.8664240764748852, 0.9760711407257889, 0.048512795643408754, 0.49159632918654206, 0.12613326867286276, 0.3331211967514068, 0.28066531292874836, 0.6548857301670795, 0.15374756995913902, 0.15374756995913902, 0.6918640648161256, 0.0853582507839561, 0.3883800410670003, 0.2603426648910661, 0.26461057743026395, 0.8585614808177404, 0.23004752895446356, 0.6901425868633907, 0.04997723092547679, 0.2398907084422886, 0.5997267711057215, 0.10994990803604894, 0.8456920273471221, 0.07047433561226017, 0.8385626813387358, 0.1334076993038898, 0.019058242757698542, 0.8836287428102149, 0.6576684763834486, 0.16441711909586215, 0.8494508606709268, 0.6803684422401999, 0.017009211056005, 0.289156587952085, 0.017009211056005, 0.7594182892462149, 0.8523786082732795, 0.7935005968054264, 0.0930922487872288, 0.10195817724315535, 0.013298892683889828, 0.7592985795243217, 0.008332886750148318, 0.8582873352652767, 0.024998660250444952, 0.10832752775192812, 0.8572718529835086, 0.6397008218486591, 0.045692915846332796, 0.20561812130849758, 0.10280906065424879, 0.3272836779522392, 0.34985496608687644, 0.15423713558668747, 0.16928466100977893, 0.853418377560773, 0.12643235223122562, 0.031608088057806405, 0.12165179530827701, 0.34062502686317564, 0.07299107718496621, 0.48660718123310803, 0.09786013177972139, 0.7584160212928408, 0.07339509883479105, 0.09786013177972139, 0.9159287571314934, 0.8326370815118417, 0.4484095682247503, 0.5380914818697003, 0.7593333683205636, 0.2090815404234585, 0.4102732113969752, 0.24064101822322584, 0.13807271537398202, 0.6726402577982445, 0.038657486080358884, 0.2010189276178662, 0.08504646937678954, 0.8162583944197409, 0.1440455990152484, 0.04801519967174946, 0.8862969594880746, 0.08862969594880747, 0.8562831819392435, 0.16476527805234406, 0.3682988568228867, 0.3682988568228867, 0.10661282697504615, 0.9575288391395993, 0.033018235832399975, 0.8664472988698947, 0.2288873376625618, 0.2002764204547416, 0.3862473823055731, 0.18597096185083148, 0.8656669697300772, 0.866918598260018, 0.1627275611418674, 0.33750901570165087, 0.31340122886581867, 0.18080840126874154, 0.7683491007906187, 0.25611636693020623, 0.7869395893155522, 0.19673489732888805, 0.07941384542946257, 0.2580949976457534, 0.15882769085892515, 0.5161899952915068, 0.44966911749113536, 0.13161047341203963, 0.40579895968712215, 0.14465573796523595, 0.45385737786592784, 0.1573131150371941, 0.24410655781633567, 0.7736640596913837, 0.12684997611092882, 0.6342498805546442, 0.12684997611092882, 0.879104416912687, 0.09767826854585411, 0.6947456804464223, 0.8617280059066647, 0.7082211534600841, 0.06323403155893607, 0.21499570730038267, 0.012646806311787216, 0.16786227081056215, 0.22381636108074954, 0.5595409027018738, 0.055954090270187384, 0.10285680009087315, 0.6628549339189603, 0.0457141333737214, 0.19428506683831595, 0.8253929779439253, 0.08253929779439252, 0.47672493743715405, 0.08139206248927021, 0.3837054374494167, 0.06395090624156945, 0.07922187307615343, 0.35649842884269045, 0.11317410439450491, 0.44703771235829437, 0.12532018841502135, 0.12532018841502135, 0.7519211304901281, 0.7734735214805085, 0.9267863370750725, 0.9254280618401048, 0.8000476668627496, 0.02840405917855916, 0.11361623671423664, 0.05680811835711832, 0.8476343411165036, 0.10595429263956295, 0.8650841286673525, 0.34852225697591177, 0.04356528212198897, 0.6099139497078456, 0.8567725790321463, 0.13807264254425886, 0.4096155062146346, 0.3083622350155114, 0.14267506396240082, 0.23272246026151377, 0.5085416724233079, 0.04309675190028033, 0.20686440912134557, 0.11432216677530539, 0.7316618673619546, 0.10288995009777487, 0.04572886671012216, 0.820928753822411, 0.041046437691120555, 0.12313931307336166, 0.8664891226251663, 0.8839404450988593, 0.2487572828730487, 0.287027634084287, 0.09567587802809566, 0.3827035121123826, 0.8578239414305954, 0.060444468977517166, 0.4936298299830569, 0.13096301611795386, 0.3223705012134249, 0.81986333832995, 0.8182172699790403, 0.46999347370646355, 0.2959218167781437, 0.14796090838907186, 0.07833224561774393, 0.18050286686111425, 0.09025143343055712, 0.722011467444457, 0.04512571671527856, 0.09971735796692059, 0.26591295457845493, 0.033239119322306866, 0.5983041478015235, 0.7418041864996574, 0.07947901998210614, 0.1589580399642123, 0.42935315078331066, 0.11965579611993904, 0.2815430496939742, 0.16540654169520985, 0.9505752954211338, 0.2635814736033021, 0.37456314669942925, 0.13872709137015898, 0.22196334619225438, 0.015838771651317245, 0.5543570077961036, 0.007919385825658622, 0.41972744875990703, 0.9162198969042186, 0.24709639340225478, 0.4606881910889496, 0.08794956375334492, 0.20102757429335982, 0.9106062707894024, 0.8955780227246988, 0.08141618388406352, 0.8832609730233886, 0.9506312535148587, 0.8710255463045197, 0.7307515503456112, 0.10906739557397183, 0.11997413513136901, 0.04362695822958873, 0.4526422896659115, 0.13456932936013585, 0.0978686031710079, 0.31807296030577564, 0.9460474868045955, 0.055649852164976206, 0.6914052868061726, 0.015030549713177665, 0.270549894837198, 0.03006109942635533, 0.8638702765216308, 0.7594802973026604, 0.7449146099811343, 0.028650561922351322, 0.1862286524952836, 0.028650561922351322, 0.9198102758325102, 0.1533017126387517, 0.6930232560678737, 0.16385580093923216, 0.7373511042265447, 0.8571244257382037, 0.8642260305208549, 0.008513095468301448, 0.9619797879180637, 0.008513095468301448, 0.025539286404904344, 0.8564055930278022, 0.1652503329262992, 0.826251664631496, 0.8225983327794943, 0.1542371873961552, 0.254400287155261, 0.7632008614657829, 0.7628102377770506, 0.20073953625711857, 0.02174714073586406, 0.5436785183966014, 0.02174714073586406, 0.4131956739814171, 0.17027816686812797, 0.40718692077161034, 0.2072951596655471, 0.22210195678451472, 0.8664851291973739, 0.8076150944844884, 0.06730125787370736, 0.0897350104982765, 0.03365062893685368, 0.9094436226043684, 0.7592157389050153, 0.18918626735476501, 0.7567450694190601, 0.9405638898292281, 0.8466944685067115, 0.050548923492938, 0.0884606161126415, 0.0126372308732345, 0.6280924390464511, 0.18944488546137897, 0.16147315740667872, 0.02034307494887291, 0.26310876548843576, 0.3109467228499695, 0.3587846802115033, 0.0837164253826841, 0.8028900899915296, 0.07468745023177019, 0.11203117534765529, 0.018671862557942547, 0.3495950463942803, 0.32667078105695047, 0.1704992234463908, 0.15330602444339342, 0.9160348097402142, 0.1647259863269309, 0.8236299316346544, 0.6931396172710464, 0.6570484552405185, 0.16426211381012962, 0.21233759335341315, 0.5662335822757684, 0.1415583955689421, 0.9720066646050165, 0.8446285384171534, 0.07038571153476278, 0.8665063775433586, 0.8842967956877731, 0.49555075523745795, 0.015985508233466384, 0.4316087223035924, 0.06394203293386554, 0.7442511423996311, 0.07260986755118352, 0.18152466887795882, 0.8835148375978076, 0.8663291225513396, 0.2585302327555408, 0.19977336167473608, 0.13220295993181064, 0.4112980975656331, 0.8495651820767395, 0.18843917076841538, 0.7537566830736615, 0.8316359206043337, 0.8650915184391533, 0.042290653997294314, 0.21145326998647157, 0.7189411179540034, 0.8662228401451217, 0.8731655335587246, 0.867666526857861, 0.027989242801866487, 0.027989242801866487, 0.08396772840559946, 0.7738057774144409, 0.7592927734325855, 0.9083224080608384, 0.05836027331661772, 0.9337643730658836, 0.7594113878240426, 0.05077658731106163, 0.6318864198709891, 0.056418430345624035, 0.26516662262443297, 0.24343383982905523, 0.21489332067668324, 0.33241310542174435, 0.21153561254111006, 0.759264578194176, 0.2944873011708375, 0.117794920468335, 0.588974602341675, 0.9269209869328623, 0.18244537950542353, 0.5366040573688927, 0.04829436516320035, 0.2361057852423128, 0.8165273930322684, 0.07100238200280595, 0.035501191001402976, 0.07100238200280595, 0.20002361275312633, 0.3440406139353773, 0.2720321133442518, 0.1760207792227512, 0.8834591740484747, 0.8727840457314668, 0.8517416472401027, 0.8564714831740224, 0.7836355184276249, 0.09795443980345311, 0.9507057032105967, 0.08844053608736717, 0.08844053608736717, 0.17688107217473434, 0.7075242886989374, 0.25842166885024653, 0.2907243774565274, 0.1372865115766935, 0.314951408911238, 0.8716327050737924, 0.08456947846686586, 0.6765558277349268, 0.024162708133390245, 0.22954572726720732, 0.009974554598706114, 0.7381170403042524, 0.04987277299353057, 0.1994910919741223, 0.7995637160111607, 0.18713193353452698, 0.8041250082598758, 0.5359530919597043, 0.06562690921955563, 0.360948000707556, 0.04375127281303709], \"Term\": [\"23rd\", \"30min\", \"action\", \"action\", \"age\", \"age\", \"age\", \"age\", \"agent\", \"agent\", \"agent\", \"agent\", \"air\", \"air\", \"air\", \"air\", \"aircraft\", \"aircraft\", \"aircraft\", \"aircraft\", \"airline\", \"airline\", \"airline\", \"airline\", \"airport\", \"airport\", \"airport\", \"airport\", \"aisle\", \"aisle\", \"aisle\", \"allocation\", \"amend\", \"amendment\", \"amenity\", \"amenity\", \"amenity\", \"announce\", \"announce\", \"app\", \"app\", \"appreciation\", \"arrival\", \"arrival\", \"arrival\", \"arrival\", \"arrive\", \"arrive\", \"arrive\", \"arrive\", \"assign\", \"associate\", \"assure\", \"assure\", \"attendant\", \"attendant\", \"attendant\", \"attendant\", \"baby\", \"baby\", \"bacon\", \"bag\", \"bag\", \"bag\", \"bag\", \"baggage\", \"baggage\", \"baggage\", \"baggage\", \"bank\", \"bank\", \"bed\", \"bed\", \"bed\", \"board\", \"board\", \"board\", \"board\", \"boarding\", \"boarding\", \"boarding\", \"boarding\", \"book\", \"book\", \"book\", \"book\", \"booking\", \"booking\", \"bread\", \"breakfast\", \"breakfast\", \"breakfast\", \"breakfast\", \"bridge\", \"bridge\", \"bud\", \"buffet\", \"business\", \"business\", \"business\", \"business\", \"cabin\", \"cabin\", \"cabin\", \"cabin\", \"call\", \"call\", \"call\", \"call\", \"cancellation\", \"cancellation\", \"cancellation\", \"cancellation\", \"cape\", \"cape\", \"cape\", \"captain\", \"captain\", \"captain\", \"captain\", \"cdg\", \"change\", \"change\", \"change\", \"change\", \"charity\", \"check\", \"check\", \"check\", \"check\", \"choice\", \"choice\", \"choice\", \"choice\", \"cityflyer\", \"claim\", \"claim\", \"claim\", \"class\", \"class\", \"class\", \"class\", \"climb\", \"clothe\", \"clothe\", \"club\", \"club\", \"club\", \"club\", \"cockpit\", \"commitment\", \"communication\", \"communication\", \"communication\", \"complain\", \"complain\", \"complaint\", \"complaint\", \"complaint\", \"complaint\", \"concept\", \"concern\", \"concern\", \"condition\", \"condition\", \"condition\", \"condition\", \"configuration\", \"configuration\", \"configuration\", \"confirm\", \"confirm\", \"confirmation\", \"contact\", \"contact\", \"contact\", \"contact\", \"coronavirus\", \"country\", \"country\", \"country\", \"crew\", \"crew\", \"crew\", \"crew\", \"customer\", \"customer\", \"customer\", \"customer\", \"cutback\", \"daughter\", \"day\", \"day\", \"day\", \"day\", \"deck\", \"deck\", \"decline\", \"decline\", \"decline\", \"delay\", \"delay\", \"delay\", \"delay\", \"delta\", \"demand\", \"demand\", \"departure\", \"departure\", \"departure\", \"departure\", \"design\", \"design\", \"dinner\", \"dinner\", \"dinner\", \"disgusting\", \"distancing\", \"distancing\", \"divider\", \"drink\", \"drink\", \"drink\", \"drink\", \"durban\", \"e\", \"economy\", \"economy\", \"economy\", \"economy\", \"elite\", \"email\", \"email\", \"email\", \"email\", \"encourage\", \"entertainment\", \"entertainment\", \"entertainment\", \"entertainment\", \"experience\", \"experience\", \"experience\", \"experience\", \"explanation\", \"explanation\", \"explanation\", \"fact\", \"fact\", \"fact\", \"fact\", \"fee\", \"fee\", \"fee\", \"fee\", \"feed\", \"figure\", \"file\", \"file\", \"filter\", \"flight\", \"flight\", \"flight\", \"flight\", \"food\", \"food\", \"food\", \"food\", \"foot\", \"foot\", \"foot\", \"fruit\", \"fruit\", \"garbage\", \"gate\", \"gate\", \"gate\", \"gate\", \"glass\", \"glass\", \"gratitude\", \"ground\", \"ground\", \"ground\", \"ground\", \"harrogate\", \"headphone\", \"heathrow\", \"heathrow\", \"heathrow\", \"heathrow\", \"hire\", \"hire\", \"hold\", \"hold\", \"holiday\", \"holiday\", \"holiday\", \"holiday\", \"hotel\", \"hotel\", \"hotel\", \"hour\", \"hour\", \"hour\", \"hour\", \"iberia\", \"immigration\", \"immigration\", \"immigration\", \"info\", \"info\", \"island\", \"l\", \"leg\", \"leg\", \"leg\", \"leg\", \"lhr\", \"lhr\", \"lhr\", \"lhr\", \"line\", \"line\", \"line\", \"line\", \"loss\", \"loss\", \"lounge\", \"lounge\", \"lounge\", \"lounge\", \"luggage\", \"luggage\", \"luggage\", \"luggage\", \"m\", \"m\", \"m\", \"manchester\", \"marstal\", \"mash\", \"meal\", \"meal\", \"meal\", \"meal\", \"mediocre\", \"mediocre\", \"melbourne\", \"mile\", \"mile\", \"mile\", \"miniscule\", \"minute\", \"minute\", \"minute\", \"minute\", \"money\", \"money\", \"money\", \"money\", \"month\", \"month\", \"month\", \"month\", \"movie\", \"movie\", \"movie\", \"mxp\", \"neighbour\", \"night\", \"night\", \"night\", \"night\", \"north\", \"number\", \"number\", \"number\", \"number\", \"oneworld\", \"ontime\", \"option\", \"option\", \"option\", \"option\", \"pack\", \"pack\", \"pack\", \"pack\", \"partner\", \"partner\", \"partner\", \"partner\", \"pass\", \"pass\", \"pass\", \"passenger\", \"passenger\", \"passenger\", \"passenger\", \"pastry\", \"people\", \"people\", \"people\", \"people\", \"phone\", \"phone\", \"phone\", \"phone\", \"pisa\", \"plane\", \"plane\", \"plane\", \"plane\", \"plastic\", \"plate\", \"plate\", \"pod\", \"potato\", \"pram\", \"premium\", \"premium\", \"premium\", \"premium\", \"price\", \"price\", \"price\", \"price\", \"privacy\", \"privacy\", \"product\", \"product\", \"product\", \"product\", \"proof\", \"protect\", \"quality\", \"quality\", \"quality\", \"quality\", \"raise\", \"raise\", \"reassure\", \"receipt\", \"receipt\", \"recover\", \"redemption\", \"refund\", \"refund\", \"refund\", \"refund\", \"regulation\", \"reimburse\", \"reimburse\", \"reply\", \"reply\", \"report\", \"report\", \"reservation\", \"reservation\", \"response\", \"response\", \"response\", \"response\", \"return\", \"return\", \"return\", \"return\", \"road\", \"row\", \"row\", \"row\", \"row\", \"salad\", \"salt\", \"sardine\", \"sardine\", \"sausage\", \"screen\", \"screen\", \"screen\", \"screen\", \"seat\", \"seat\", \"seat\", \"seat\", \"security\", \"security\", \"security\", \"security\", \"selection\", \"selection\", \"selection\", \"selection\", \"service\", \"service\", \"service\", \"service\", \"shock\", \"shop\", \"shop\", \"shout\", \"shower\", \"shower\", \"shuttle\", \"shuttle\", \"shuttle\", \"sister\", \"size\", \"size\", \"sjc\", \"sky\", \"snack\", \"snack\", \"snack\", \"snack\", \"space\", \"space\", \"space\", \"speed\", \"spending\", \"staff\", \"staff\", \"staff\", \"staff\", \"starter\", \"stretch\", \"stretch\", \"submit\", \"sugar\", \"suitcase\", \"suitcase\", \"suitcase\", \"tap\", \"tarmac\", \"tea\", \"tea\", \"tea\", \"tea\", \"tear\", \"tegel\", \"temperature\", \"test\", \"test\", \"threehour\", \"ticket\", \"ticket\", \"ticket\", \"ticket\", \"time\", \"time\", \"time\", \"time\", \"timeslot\", \"town\", \"town\", \"town\", \"transportation\", \"travel\", \"travel\", \"travel\", \"travel\", \"tray\", \"tray\", \"tray\", \"tray\", \"trip\", \"trip\", \"trip\", \"trip\", \"turkey\", \"twitter\", \"underline\", \"understanding\", \"vacation\", \"vacation\", \"vegetarian\", \"watch\", \"watch\", \"watch\", \"watch\", \"way\", \"way\", \"way\", \"way\", \"web\", \"website\", \"website\", \"website\", \"website\", \"week\", \"week\", \"week\", \"week\", \"wine\", \"wine\", \"wir\", \"world\", \"world\", \"world\", \"world\"]}, \"R\": 30, \"lambda.step\": 0.01, \"plot.opts\": {\"xlab\": \"PC1\", \"ylab\": \"PC2\"}, \"topic.order\": [1, 4, 2, 3]};\n",
              "\n",
              "function LDAvis_load_lib(url, callback){\n",
              "  var s = document.createElement('script');\n",
              "  s.src = url;\n",
              "  s.async = true;\n",
              "  s.onreadystatechange = s.onload = callback;\n",
              "  s.onerror = function(){console.warn(\"failed to load library \" + url);};\n",
              "  document.getElementsByTagName(\"head\")[0].appendChild(s);\n",
              "}\n",
              "\n",
              "if(typeof(LDAvis) !== \"undefined\"){\n",
              "   // already loaded: just create the visualization\n",
              "   !function(LDAvis){\n",
              "       new LDAvis(\"#\" + \"ldavis_el450136908017329184665388595\", ldavis_el450136908017329184665388595_data);\n",
              "   }(LDAvis);\n",
              "}else if(typeof define === \"function\" && define.amd){\n",
              "   // require.js is available: use it to load d3/LDAvis\n",
              "   require.config({paths: {d3: \"https://d3js.org/d3.v5\"}});\n",
              "   require([\"d3\"], function(d3){\n",
              "      window.d3 = d3;\n",
              "      LDAvis_load_lib(\"https://cdn.jsdelivr.net/gh/bmabey/pyLDAvis@3.4.0/pyLDAvis/js/ldavis.v3.0.0.js\", function(){\n",
              "        new LDAvis(\"#\" + \"ldavis_el450136908017329184665388595\", ldavis_el450136908017329184665388595_data);\n",
              "      });\n",
              "    });\n",
              "}else{\n",
              "    // require.js not available: dynamically load d3 & LDAvis\n",
              "    LDAvis_load_lib(\"https://d3js.org/d3.v5.js\", function(){\n",
              "         LDAvis_load_lib(\"https://cdn.jsdelivr.net/gh/bmabey/pyLDAvis@3.4.0/pyLDAvis/js/ldavis.v3.0.0.js\", function(){\n",
              "                 new LDAvis(\"#\" + \"ldavis_el450136908017329184665388595\", ldavis_el450136908017329184665388595_data);\n",
              "            })\n",
              "         });\n",
              "}\n",
              "</script>"
            ]
          },
          "metadata": {},
          "execution_count": 24
        }
      ]
    },
    {
      "cell_type": "markdown",
      "source": [
        "Using the capabilities of generative AI, we can determine the main problem"
      ],
      "metadata": {
        "id": "SWXeUgyrwiG_"
      }
    },
    {
      "cell_type": "markdown",
      "source": [
        "1. Topic 0: Booking and Travel Logistics\n",
        "\n",
        "2. Topic 1: In-flight Experience and Cabin Comfort\n",
        "\n",
        "3. Topic 2: Passenger Service and Baggage\n",
        "\n",
        "4. Topic 3: Flight Delays and Ground Support\n"
      ],
      "metadata": {
        "id": "hWKNqIsBwslj"
      }
    },
    {
      "cell_type": "markdown",
      "source": [
        "Next code is associating each topic number produced by LDA with a human-readable topic name. This is done by creating a ```topic_lookup_data ```DataFrame that maps ```Topic_Number``` to ```Topic_Name``` and ```Top_Keywords```."
      ],
      "metadata": {
        "id": "ZCHKvqbj1Yo6"
      }
    },
    {
      "cell_type": "code",
      "source": [
        "topic_lookup_data = pd.DataFrame((lda_4.print_topics()),columns=['Topic_Number','Top_Keywords'])\n",
        "topic_lookup_data['Topic_Name'] = ['Booking & Travel Logistics', 'In-flight Experience & Cabin Comfort', 'Passenger Service & Baggage',\n",
        "'Flight Delays & Ground Support']\n",
        "topic_lookup_data = topic_lookup_data[['Topic_Number','Topic_Name','Top_Keywords']]\n",
        "topic_lookup_data['Top_Keywords'] = topic_lookup_data.Top_Keywords.str\\\n",
        ".replace(r'[^a-z]',' ',regex=True).apply(lambda x: x.split())\n",
        "topic_lookup_data.style.set_properties(subset=['Top_Keywords'], **{'width': '300px'})"
      ],
      "metadata": {
        "colab": {
          "base_uri": "https://localhost:8080/",
          "height": 333
        },
        "id": "d8_o2qEbM8rG",
        "outputId": "4c907d55-dca8-4128-d5f8-349286c069ce"
      },
      "execution_count": 25,
      "outputs": [
        {
          "output_type": "stream",
          "name": "stderr",
          "text": [
            "/usr/local/lib/python3.10/dist-packages/ipykernel/ipkernel.py:283: DeprecationWarning:\n",
            "\n",
            "`should_run_async` will not call `transform_cell` automatically in the future. Please pass the result to `transformed_cell` argument and any exception that happen during thetransform in `preprocessing_exc_tuple` in IPython 7.17 and above.\n",
            "\n"
          ]
        },
        {
          "output_type": "execute_result",
          "data": {
            "text/plain": [
              "<pandas.io.formats.style.Styler at 0x7c8505a302b0>"
            ],
            "text/html": [
              "<style type=\"text/css\">\n",
              "#T_a39d8_row0_col2, #T_a39d8_row1_col2, #T_a39d8_row2_col2, #T_a39d8_row3_col2 {\n",
              "  width: 300px;\n",
              "}\n",
              "</style>\n",
              "<table id=\"T_a39d8\" class=\"dataframe\">\n",
              "  <thead>\n",
              "    <tr>\n",
              "      <th class=\"blank level0\" >&nbsp;</th>\n",
              "      <th id=\"T_a39d8_level0_col0\" class=\"col_heading level0 col0\" >Topic_Number</th>\n",
              "      <th id=\"T_a39d8_level0_col1\" class=\"col_heading level0 col1\" >Topic_Name</th>\n",
              "      <th id=\"T_a39d8_level0_col2\" class=\"col_heading level0 col2\" >Top_Keywords</th>\n",
              "    </tr>\n",
              "  </thead>\n",
              "  <tbody>\n",
              "    <tr>\n",
              "      <th id=\"T_a39d8_level0_row0\" class=\"row_heading level0 row0\" >0</th>\n",
              "      <td id=\"T_a39d8_row0_col0\" class=\"data row0 col0\" >0</td>\n",
              "      <td id=\"T_a39d8_row0_col1\" class=\"data row0 col1\" >Booking & Travel Logistics</td>\n",
              "      <td id=\"T_a39d8_row0_col2\" class=\"data row0 col2\" >['seat', 'class', 'business', 'food', 'service', 'cabin', 'crew', 'economy', 'meal', 'time']</td>\n",
              "    </tr>\n",
              "    <tr>\n",
              "      <th id=\"T_a39d8_level0_row1\" class=\"row_heading level0 row1\" >1</th>\n",
              "      <td id=\"T_a39d8_row1_col0\" class=\"data row1 col0\" >1</td>\n",
              "      <td id=\"T_a39d8_row1_col1\" class=\"data row1 col1\" >In-flight Experience & Cabin Comfort</td>\n",
              "      <td id=\"T_a39d8_row1_col2\" class=\"data row1 col2\" >['time', 'crew', 'seat', 'service', 'cabin', 'hour', 'passenger', 'food', 'aircraft', 'minute']</td>\n",
              "    </tr>\n",
              "    <tr>\n",
              "      <th id=\"T_a39d8_level0_row2\" class=\"row_heading level0 row2\" >2</th>\n",
              "      <td id=\"T_a39d8_row2_col0\" class=\"data row2 col0\" >2</td>\n",
              "      <td id=\"T_a39d8_row2_col1\" class=\"data row2 col1\" >Passenger Service & Baggage</td>\n",
              "      <td id=\"T_a39d8_row2_col2\" class=\"data row2 col2\" >['staff', 'hour', 'time', 'service', 'day', 'customer', 'luggage', 'delay', 'book', 'phone']</td>\n",
              "    </tr>\n",
              "    <tr>\n",
              "      <th id=\"T_a39d8_level0_row3\" class=\"row_heading level0 row3\" >3</th>\n",
              "      <td id=\"T_a39d8_row3_col0\" class=\"data row3 col0\" >3</td>\n",
              "      <td id=\"T_a39d8_row3_col1\" class=\"data row3 col1\" >Flight Delays & Ground Support</td>\n",
              "      <td id=\"T_a39d8_row3_col2\" class=\"data row3 col2\" >['hour', 'customer', 'service', 'book', 'airline', 'day', 'seat', 'call', 'time', 'bag']</td>\n",
              "    </tr>\n",
              "  </tbody>\n",
              "</table>\n"
            ]
          },
          "metadata": {},
          "execution_count": 25
        }
      ]
    },
    {
      "cell_type": "markdown",
      "source": [
        "Next code iterates over each document's topic distribution generated by the LDA model, extracts the top 1 or 2 topics with the highest relevance, and stores those topics (as a comma-separated string) in a DataFrame. It only adds a second topic if it contributes more than 35% to the document, ensuring that only significant topics are considered."
      ],
      "metadata": {
        "id": "7vA6Rm021--7"
      }
    },
    {
      "cell_type": "code",
      "source": [
        "for index, sent in enumerate(lda_4[corpus]):\n",
        "    # Get the top 2 topics sorted by their influence\n",
        "    top_topics = sorted(sent, key=lambda x: x[1], reverse=True)[:2]\n",
        "    # Filter topics based on influence > 0.35 and get their numbers\n",
        "    topic_num = [topic[0] for topic in top_topics if topic[1] > 0.35 or topic == top_topics[0]]\n",
        "    # Store the sorted topic numbers as a string\n",
        "    text_data.loc[index, 'Topic_Number'] = ','.join(map(str, sorted(topic_num)))"
      ],
      "metadata": {
        "id": "yG56pcVmj9Qg"
      },
      "execution_count": null,
      "outputs": []
    },
    {
      "cell_type": "markdown",
      "source": [
        "This code segment is responsible for replacing topic numbers with human-readable topic names in the text_data DataFrame."
      ],
      "metadata": {
        "id": "ivxrWuSaJ5Zg"
      }
    },
    {
      "cell_type": "code",
      "source": [
        "for index,topic_num in enumerate(text_data.Topic_Number):\n",
        "  topic_name_list=[]\n",
        "  for single_topic_num in topic_num.split(','):\n",
        "    single_topic_num=int(single_topic_num)\n",
        "    topic_name_list.append(topic_lookup_data.loc\\\n",
        "                           [topic_lookup_data.Topic_Number == single_topic_num,'Topic_Name'][single_topic_num])\n",
        "  # Extracting topic names from lookup table\n",
        "  text_data.loc[index,'Topic_Name'] =' & '.join(topic_name_list)"
      ],
      "metadata": {
        "id": "czrGetjvkl_h"
      },
      "execution_count": null,
      "outputs": []
    },
    {
      "cell_type": "code",
      "source": [
        "topic_data = text_data[['Review', 'Cleaned Review', 'Topic_Number', 'Topic_Name']].head(3)\n",
        "#topic_data = topic_data.style.set_properties(subset=['Topic_Name'], **{'width': '300px'})\n",
        "topic_data"
      ],
      "metadata": {
        "colab": {
          "base_uri": "https://localhost:8080/",
          "height": 233
        },
        "id": "Ts6Nh_ihy4tp",
        "outputId": "050f39e2-f065-4802-fed9-0d3af987f24c"
      },
      "execution_count": 28,
      "outputs": [
        {
          "output_type": "stream",
          "name": "stderr",
          "text": [
            "/usr/local/lib/python3.10/dist-packages/ipykernel/ipkernel.py:283: DeprecationWarning:\n",
            "\n",
            "`should_run_async` will not call `transform_cell` automatically in the future. Please pass the result to `transformed_cell` argument and any exception that happen during thetransform in `preprocessing_exc_tuple` in IPython 7.17 and above.\n",
            "\n"
          ]
        },
        {
          "output_type": "execute_result",
          "data": {
            "text/plain": [
              "                                              Review  \\\n",
              "0     I recently travelled from Munich to London ...   \n",
              "1    I paid for seats 80 A and B on my flight fro...   \n",
              "2   The flight wasn’t that bad, although the Infl...   \n",
              "\n",
              "                                      Cleaned Review Topic_Number  \\\n",
              "0  [nightmare, trouble, malfunction, app, check, ...            3   \n",
              "1  [seat, b, heathrow, boston, pay, premium, econ...            3   \n",
              "2  [entertainment, screen, oldfashione, touch, sc...            0   \n",
              "\n",
              "                       Topic_Name  \n",
              "0  Flight Delays & Ground Support  \n",
              "1  Flight Delays & Ground Support  \n",
              "2      Booking & Travel Logistics  "
            ],
            "text/html": [
              "\n",
              "  <div id=\"df-8e68aead-87a6-41b6-ab51-0c3e587710e8\" class=\"colab-df-container\">\n",
              "    <div>\n",
              "<style scoped>\n",
              "    .dataframe tbody tr th:only-of-type {\n",
              "        vertical-align: middle;\n",
              "    }\n",
              "\n",
              "    .dataframe tbody tr th {\n",
              "        vertical-align: top;\n",
              "    }\n",
              "\n",
              "    .dataframe thead th {\n",
              "        text-align: right;\n",
              "    }\n",
              "</style>\n",
              "<table border=\"1\" class=\"dataframe\">\n",
              "  <thead>\n",
              "    <tr style=\"text-align: right;\">\n",
              "      <th></th>\n",
              "      <th>Review</th>\n",
              "      <th>Cleaned Review</th>\n",
              "      <th>Topic_Number</th>\n",
              "      <th>Topic_Name</th>\n",
              "    </tr>\n",
              "  </thead>\n",
              "  <tbody>\n",
              "    <tr>\n",
              "      <th>0</th>\n",
              "      <td>I recently travelled from Munich to London ...</td>\n",
              "      <td>[nightmare, trouble, malfunction, app, check, ...</td>\n",
              "      <td>3</td>\n",
              "      <td>Flight Delays &amp; Ground Support</td>\n",
              "    </tr>\n",
              "    <tr>\n",
              "      <th>1</th>\n",
              "      <td>I paid for seats 80 A and B on my flight fro...</td>\n",
              "      <td>[seat, b, heathrow, boston, pay, premium, econ...</td>\n",
              "      <td>3</td>\n",
              "      <td>Flight Delays &amp; Ground Support</td>\n",
              "    </tr>\n",
              "    <tr>\n",
              "      <th>2</th>\n",
              "      <td>The flight wasn’t that bad, although the Infl...</td>\n",
              "      <td>[entertainment, screen, oldfashione, touch, sc...</td>\n",
              "      <td>0</td>\n",
              "      <td>Booking &amp; Travel Logistics</td>\n",
              "    </tr>\n",
              "  </tbody>\n",
              "</table>\n",
              "</div>\n",
              "    <div class=\"colab-df-buttons\">\n",
              "\n",
              "  <div class=\"colab-df-container\">\n",
              "    <button class=\"colab-df-convert\" onclick=\"convertToInteractive('df-8e68aead-87a6-41b6-ab51-0c3e587710e8')\"\n",
              "            title=\"Convert this dataframe to an interactive table.\"\n",
              "            style=\"display:none;\">\n",
              "\n",
              "  <svg xmlns=\"http://www.w3.org/2000/svg\" height=\"24px\" viewBox=\"0 -960 960 960\">\n",
              "    <path d=\"M120-120v-720h720v720H120Zm60-500h600v-160H180v160Zm220 220h160v-160H400v160Zm0 220h160v-160H400v160ZM180-400h160v-160H180v160Zm440 0h160v-160H620v160ZM180-180h160v-160H180v160Zm440 0h160v-160H620v160Z\"/>\n",
              "  </svg>\n",
              "    </button>\n",
              "\n",
              "  <style>\n",
              "    .colab-df-container {\n",
              "      display:flex;\n",
              "      gap: 12px;\n",
              "    }\n",
              "\n",
              "    .colab-df-convert {\n",
              "      background-color: #E8F0FE;\n",
              "      border: none;\n",
              "      border-radius: 50%;\n",
              "      cursor: pointer;\n",
              "      display: none;\n",
              "      fill: #1967D2;\n",
              "      height: 32px;\n",
              "      padding: 0 0 0 0;\n",
              "      width: 32px;\n",
              "    }\n",
              "\n",
              "    .colab-df-convert:hover {\n",
              "      background-color: #E2EBFA;\n",
              "      box-shadow: 0px 1px 2px rgba(60, 64, 67, 0.3), 0px 1px 3px 1px rgba(60, 64, 67, 0.15);\n",
              "      fill: #174EA6;\n",
              "    }\n",
              "\n",
              "    .colab-df-buttons div {\n",
              "      margin-bottom: 4px;\n",
              "    }\n",
              "\n",
              "    [theme=dark] .colab-df-convert {\n",
              "      background-color: #3B4455;\n",
              "      fill: #D2E3FC;\n",
              "    }\n",
              "\n",
              "    [theme=dark] .colab-df-convert:hover {\n",
              "      background-color: #434B5C;\n",
              "      box-shadow: 0px 1px 3px 1px rgba(0, 0, 0, 0.15);\n",
              "      filter: drop-shadow(0px 1px 2px rgba(0, 0, 0, 0.3));\n",
              "      fill: #FFFFFF;\n",
              "    }\n",
              "  </style>\n",
              "\n",
              "    <script>\n",
              "      const buttonEl =\n",
              "        document.querySelector('#df-8e68aead-87a6-41b6-ab51-0c3e587710e8 button.colab-df-convert');\n",
              "      buttonEl.style.display =\n",
              "        google.colab.kernel.accessAllowed ? 'block' : 'none';\n",
              "\n",
              "      async function convertToInteractive(key) {\n",
              "        const element = document.querySelector('#df-8e68aead-87a6-41b6-ab51-0c3e587710e8');\n",
              "        const dataTable =\n",
              "          await google.colab.kernel.invokeFunction('convertToInteractive',\n",
              "                                                    [key], {});\n",
              "        if (!dataTable) return;\n",
              "\n",
              "        const docLinkHtml = 'Like what you see? Visit the ' +\n",
              "          '<a target=\"_blank\" href=https://colab.research.google.com/notebooks/data_table.ipynb>data table notebook</a>'\n",
              "          + ' to learn more about interactive tables.';\n",
              "        element.innerHTML = '';\n",
              "        dataTable['output_type'] = 'display_data';\n",
              "        await google.colab.output.renderOutput(dataTable, element);\n",
              "        const docLink = document.createElement('div');\n",
              "        docLink.innerHTML = docLinkHtml;\n",
              "        element.appendChild(docLink);\n",
              "      }\n",
              "    </script>\n",
              "  </div>\n",
              "\n",
              "\n",
              "<div id=\"df-38b4263f-8814-4705-b779-18b88fb9f618\">\n",
              "  <button class=\"colab-df-quickchart\" onclick=\"quickchart('df-38b4263f-8814-4705-b779-18b88fb9f618')\"\n",
              "            title=\"Suggest charts\"\n",
              "            style=\"display:none;\">\n",
              "\n",
              "<svg xmlns=\"http://www.w3.org/2000/svg\" height=\"24px\"viewBox=\"0 0 24 24\"\n",
              "     width=\"24px\">\n",
              "    <g>\n",
              "        <path d=\"M19 3H5c-1.1 0-2 .9-2 2v14c0 1.1.9 2 2 2h14c1.1 0 2-.9 2-2V5c0-1.1-.9-2-2-2zM9 17H7v-7h2v7zm4 0h-2V7h2v10zm4 0h-2v-4h2v4z\"/>\n",
              "    </g>\n",
              "</svg>\n",
              "  </button>\n",
              "\n",
              "<style>\n",
              "  .colab-df-quickchart {\n",
              "      --bg-color: #E8F0FE;\n",
              "      --fill-color: #1967D2;\n",
              "      --hover-bg-color: #E2EBFA;\n",
              "      --hover-fill-color: #174EA6;\n",
              "      --disabled-fill-color: #AAA;\n",
              "      --disabled-bg-color: #DDD;\n",
              "  }\n",
              "\n",
              "  [theme=dark] .colab-df-quickchart {\n",
              "      --bg-color: #3B4455;\n",
              "      --fill-color: #D2E3FC;\n",
              "      --hover-bg-color: #434B5C;\n",
              "      --hover-fill-color: #FFFFFF;\n",
              "      --disabled-bg-color: #3B4455;\n",
              "      --disabled-fill-color: #666;\n",
              "  }\n",
              "\n",
              "  .colab-df-quickchart {\n",
              "    background-color: var(--bg-color);\n",
              "    border: none;\n",
              "    border-radius: 50%;\n",
              "    cursor: pointer;\n",
              "    display: none;\n",
              "    fill: var(--fill-color);\n",
              "    height: 32px;\n",
              "    padding: 0;\n",
              "    width: 32px;\n",
              "  }\n",
              "\n",
              "  .colab-df-quickchart:hover {\n",
              "    background-color: var(--hover-bg-color);\n",
              "    box-shadow: 0 1px 2px rgba(60, 64, 67, 0.3), 0 1px 3px 1px rgba(60, 64, 67, 0.15);\n",
              "    fill: var(--button-hover-fill-color);\n",
              "  }\n",
              "\n",
              "  .colab-df-quickchart-complete:disabled,\n",
              "  .colab-df-quickchart-complete:disabled:hover {\n",
              "    background-color: var(--disabled-bg-color);\n",
              "    fill: var(--disabled-fill-color);\n",
              "    box-shadow: none;\n",
              "  }\n",
              "\n",
              "  .colab-df-spinner {\n",
              "    border: 2px solid var(--fill-color);\n",
              "    border-color: transparent;\n",
              "    border-bottom-color: var(--fill-color);\n",
              "    animation:\n",
              "      spin 1s steps(1) infinite;\n",
              "  }\n",
              "\n",
              "  @keyframes spin {\n",
              "    0% {\n",
              "      border-color: transparent;\n",
              "      border-bottom-color: var(--fill-color);\n",
              "      border-left-color: var(--fill-color);\n",
              "    }\n",
              "    20% {\n",
              "      border-color: transparent;\n",
              "      border-left-color: var(--fill-color);\n",
              "      border-top-color: var(--fill-color);\n",
              "    }\n",
              "    30% {\n",
              "      border-color: transparent;\n",
              "      border-left-color: var(--fill-color);\n",
              "      border-top-color: var(--fill-color);\n",
              "      border-right-color: var(--fill-color);\n",
              "    }\n",
              "    40% {\n",
              "      border-color: transparent;\n",
              "      border-right-color: var(--fill-color);\n",
              "      border-top-color: var(--fill-color);\n",
              "    }\n",
              "    60% {\n",
              "      border-color: transparent;\n",
              "      border-right-color: var(--fill-color);\n",
              "    }\n",
              "    80% {\n",
              "      border-color: transparent;\n",
              "      border-right-color: var(--fill-color);\n",
              "      border-bottom-color: var(--fill-color);\n",
              "    }\n",
              "    90% {\n",
              "      border-color: transparent;\n",
              "      border-bottom-color: var(--fill-color);\n",
              "    }\n",
              "  }\n",
              "</style>\n",
              "\n",
              "  <script>\n",
              "    async function quickchart(key) {\n",
              "      const quickchartButtonEl =\n",
              "        document.querySelector('#' + key + ' button');\n",
              "      quickchartButtonEl.disabled = true;  // To prevent multiple clicks.\n",
              "      quickchartButtonEl.classList.add('colab-df-spinner');\n",
              "      try {\n",
              "        const charts = await google.colab.kernel.invokeFunction(\n",
              "            'suggestCharts', [key], {});\n",
              "      } catch (error) {\n",
              "        console.error('Error during call to suggestCharts:', error);\n",
              "      }\n",
              "      quickchartButtonEl.classList.remove('colab-df-spinner');\n",
              "      quickchartButtonEl.classList.add('colab-df-quickchart-complete');\n",
              "    }\n",
              "    (() => {\n",
              "      let quickchartButtonEl =\n",
              "        document.querySelector('#df-38b4263f-8814-4705-b779-18b88fb9f618 button');\n",
              "      quickchartButtonEl.style.display =\n",
              "        google.colab.kernel.accessAllowed ? 'block' : 'none';\n",
              "    })();\n",
              "  </script>\n",
              "</div>\n",
              "    </div>\n",
              "  </div>\n"
            ],
            "application/vnd.google.colaboratory.intrinsic+json": {
              "type": "dataframe",
              "variable_name": "topic_data",
              "summary": "{\n  \"name\": \"topic_data\",\n  \"rows\": 3,\n  \"fields\": [\n    {\n      \"column\": \"Review\",\n      \"properties\": {\n        \"dtype\": \"string\",\n        \"num_unique_values\": 3,\n        \"samples\": [\n          \"   I recently travelled from Munich to London with British Airways, and it turned into an absolute nightmare. Our troubles began with their malfunctioning app. Despite checking in successfully, I was unable to retrieve our boarding passes. Upon arrival at the airport, we discovered that there were no self-service kiosks, and the check-in desks were completely unattended. After seeking help from the information desk, we were directed to a staff member who clearly did not want to assist us. Her dismissive attitude was infuriating, and despite showing her the app indicating we were checked in, she simply told us to call customer service and walked away without providing any assistance. After being put on hold for 25 minutes and being sent to several different staff members who couldn\\u2019t help us, we finally reached someone on the phone who was kind but ultimately powerless to resolve our issue. By this point, our flight was delayed, and we had wasted two hours just trying to print our boarding passes. When I followed up with a complaint, British Airways basically dismissed my concerns and told me to use the app next time\\u2014ignoring the fact that it was the app's failure that caused all these problems in the first place! This experience cost us a staggering \\u00a3682.43 in additional expenses, including new flights, hotel stays, taxi fares, and fines. Missing work and explaining this absurd situation to my employer was incredibly embarrassing. British Airways clearly needs to improve its customer service and technology. If their app and website are going to fail, they must provide adequate support at the airport. I will never fly with them again, and I urge others to consider alternative airlines.\",\n          \"  I paid for seats 80 A and B on my flight from Heathrow to Boston on the A380, paying for premium economy seats. Upon arrival at the airport the ticket agent said I was not healthy enough to sit in the purchased seats due to being too old I presume (65) since there is no other reason I can find I could not sit in the exit seating. I am healthy enough to walk 10-12 miles a day and have adequate upper body strength. Attempting to convince her just got us stuck in a cattle call seat, at the rear of the aircraft, second floor and in the middle two seats of the row. We were told our money would be refunded immediately for the \\\"inconvenience\\\". After several weeks I recontacted BA and they said the complaint went to the wrong section and they were forwarding it to the next section. 6 weeks later and we still have not heard any updates except for a computer response stating most refunds were returned in 3 weeks, keep waiting. The plane then had ground difficulties and needed a quick repair. They completed that 30 minutes later and boarded the flight. The captain then came on and said it looks like they forgot to order the ground crew to back us out of the terminal and we needed to wait another 30 minutes. We were not able to make up for the lost time in the air. We landed 1.5 hours later than scheduled, wreaking havoc with our next flight.\",\n          \" The flight wasn\\u2019t that bad, although the Inflight entertainment wasn\\u2019t great, the screen was very old-fashioned. It was hard to operate in the dark as the touch screen wasn\\u2019t working at times. There was though a remote. The cabin crew slamming air larders (ovens and draws). Apart from that, the cabin crew were nice, the food was good and the seat was comfortable.\"\n        ],\n        \"semantic_type\": \"\",\n        \"description\": \"\"\n      }\n    },\n    {\n      \"column\": \"Cleaned Review\",\n      \"properties\": {\n        \"dtype\": \"object\",\n        \"semantic_type\": \"\",\n        \"description\": \"\"\n      }\n    },\n    {\n      \"column\": \"Topic_Number\",\n      \"properties\": {\n        \"dtype\": \"string\",\n        \"num_unique_values\": 2,\n        \"samples\": [\n          \"0\",\n          \"3\"\n        ],\n        \"semantic_type\": \"\",\n        \"description\": \"\"\n      }\n    },\n    {\n      \"column\": \"Topic_Name\",\n      \"properties\": {\n        \"dtype\": \"string\",\n        \"num_unique_values\": 2,\n        \"samples\": [\n          \"Booking & Travel Logistics\",\n          \"Flight Delays & Ground Support\"\n        ],\n        \"semantic_type\": \"\",\n        \"description\": \"\"\n      }\n    }\n  ]\n}"
            }
          },
          "metadata": {},
          "execution_count": 28
        }
      ]
    },
    {
      "cell_type": "code",
      "source": [
        "text_data['Topic_Number'] = text_data['Topic_Number'].apply(lambda x: eval(x))\n",
        "\n",
        "# Explode the DataFrame to have each topic number as a separate row\n",
        "df_exploded = text_data.explode('Topic_Number')\n",
        "\n",
        "# Convert 'Topic_Number' to a string type for counting\n",
        "df_exploded['Topic_Number'] = df_exploded['Topic_Number'].astype(str)\n",
        "\n",
        "# Count the occurrences of each topic number\n",
        "topic_counts = df_exploded['Topic_Number'].value_counts().reset_index()\n",
        "topic_counts.columns = ['Topic_Number', 'Count']\n",
        "\n",
        "# Create the bar plot\n",
        "fig = px.bar(\n",
        "    topic_counts,\n",
        "    x='Topic_Number',\n",
        "    y='Count',\n",
        "    title='Topic Number Counts',\n",
        "    labels={'Topic_Number': 'Topic Number', 'Count': 'Count'}\n",
        ")\n",
        "\n",
        "# Display the plot\n",
        "fig.show()"
      ],
      "metadata": {
        "colab": {
          "base_uri": "https://localhost:8080/",
          "height": 770
        },
        "id": "9-sAncgHLXa-",
        "outputId": "17265320-f446-48ab-c0a2-d755dcaed9b8"
      },
      "execution_count": 29,
      "outputs": [
        {
          "output_type": "stream",
          "name": "stderr",
          "text": [
            "/usr/local/lib/python3.10/dist-packages/ipykernel/ipkernel.py:283: DeprecationWarning:\n",
            "\n",
            "`should_run_async` will not call `transform_cell` automatically in the future. Please pass the result to `transformed_cell` argument and any exception that happen during thetransform in `preprocessing_exc_tuple` in IPython 7.17 and above.\n",
            "\n",
            "<ipython-input-29-0dc22e38ff8d>:1: SettingWithCopyWarning:\n",
            "\n",
            "\n",
            "A value is trying to be set on a copy of a slice from a DataFrame.\n",
            "Try using .loc[row_indexer,col_indexer] = value instead\n",
            "\n",
            "See the caveats in the documentation: https://pandas.pydata.org/pandas-docs/stable/user_guide/indexing.html#returning-a-view-versus-a-copy\n",
            "\n"
          ]
        },
        {
          "output_type": "display_data",
          "data": {
            "text/html": [
              "<html>\n",
              "<head><meta charset=\"utf-8\" /></head>\n",
              "<body>\n",
              "    <div>            <script src=\"https://cdnjs.cloudflare.com/ajax/libs/mathjax/2.7.5/MathJax.js?config=TeX-AMS-MML_SVG\"></script><script type=\"text/javascript\">if (window.MathJax && window.MathJax.Hub && window.MathJax.Hub.Config) {window.MathJax.Hub.Config({SVG: {font: \"STIX-Web\"}});}</script>                <script type=\"text/javascript\">window.PlotlyConfig = {MathJaxConfig: 'local'};</script>\n",
              "        <script charset=\"utf-8\" src=\"https://cdn.plot.ly/plotly-2.35.2.min.js\"></script>                <div id=\"d62d24fd-b38c-4b9a-9e5a-b8407dc83ce6\" class=\"plotly-graph-div\" style=\"height:525px; width:100%;\"></div>            <script type=\"text/javascript\">                                    window.PLOTLYENV=window.PLOTLYENV || {};                                    if (document.getElementById(\"d62d24fd-b38c-4b9a-9e5a-b8407dc83ce6\")) {                    Plotly.newPlot(                        \"d62d24fd-b38c-4b9a-9e5a-b8407dc83ce6\",                        [{\"alignmentgroup\":\"True\",\"hovertemplate\":\"Topic Number=%{x}\\u003cbr\\u003eCount=%{y}\\u003cextra\\u003e\\u003c\\u002fextra\\u003e\",\"legendgroup\":\"\",\"marker\":{\"color\":\"#636efa\",\"pattern\":{\"shape\":\"\"}},\"name\":\"\",\"offsetgroup\":\"\",\"orientation\":\"v\",\"showlegend\":false,\"textposition\":\"auto\",\"x\":[\"0\",\"3\",\"1\",\"2\"],\"xaxis\":\"x\",\"y\":[366,343,238,210],\"yaxis\":\"y\",\"type\":\"bar\"}],                        {\"template\":{\"data\":{\"histogram2dcontour\":[{\"type\":\"histogram2dcontour\",\"colorbar\":{\"outlinewidth\":0,\"ticks\":\"\"},\"colorscale\":[[0.0,\"#0d0887\"],[0.1111111111111111,\"#46039f\"],[0.2222222222222222,\"#7201a8\"],[0.3333333333333333,\"#9c179e\"],[0.4444444444444444,\"#bd3786\"],[0.5555555555555556,\"#d8576b\"],[0.6666666666666666,\"#ed7953\"],[0.7777777777777778,\"#fb9f3a\"],[0.8888888888888888,\"#fdca26\"],[1.0,\"#f0f921\"]]}],\"choropleth\":[{\"type\":\"choropleth\",\"colorbar\":{\"outlinewidth\":0,\"ticks\":\"\"}}],\"histogram2d\":[{\"type\":\"histogram2d\",\"colorbar\":{\"outlinewidth\":0,\"ticks\":\"\"},\"colorscale\":[[0.0,\"#0d0887\"],[0.1111111111111111,\"#46039f\"],[0.2222222222222222,\"#7201a8\"],[0.3333333333333333,\"#9c179e\"],[0.4444444444444444,\"#bd3786\"],[0.5555555555555556,\"#d8576b\"],[0.6666666666666666,\"#ed7953\"],[0.7777777777777778,\"#fb9f3a\"],[0.8888888888888888,\"#fdca26\"],[1.0,\"#f0f921\"]]}],\"heatmap\":[{\"type\":\"heatmap\",\"colorbar\":{\"outlinewidth\":0,\"ticks\":\"\"},\"colorscale\":[[0.0,\"#0d0887\"],[0.1111111111111111,\"#46039f\"],[0.2222222222222222,\"#7201a8\"],[0.3333333333333333,\"#9c179e\"],[0.4444444444444444,\"#bd3786\"],[0.5555555555555556,\"#d8576b\"],[0.6666666666666666,\"#ed7953\"],[0.7777777777777778,\"#fb9f3a\"],[0.8888888888888888,\"#fdca26\"],[1.0,\"#f0f921\"]]}],\"heatmapgl\":[{\"type\":\"heatmapgl\",\"colorbar\":{\"outlinewidth\":0,\"ticks\":\"\"},\"colorscale\":[[0.0,\"#0d0887\"],[0.1111111111111111,\"#46039f\"],[0.2222222222222222,\"#7201a8\"],[0.3333333333333333,\"#9c179e\"],[0.4444444444444444,\"#bd3786\"],[0.5555555555555556,\"#d8576b\"],[0.6666666666666666,\"#ed7953\"],[0.7777777777777778,\"#fb9f3a\"],[0.8888888888888888,\"#fdca26\"],[1.0,\"#f0f921\"]]}],\"contourcarpet\":[{\"type\":\"contourcarpet\",\"colorbar\":{\"outlinewidth\":0,\"ticks\":\"\"}}],\"contour\":[{\"type\":\"contour\",\"colorbar\":{\"outlinewidth\":0,\"ticks\":\"\"},\"colorscale\":[[0.0,\"#0d0887\"],[0.1111111111111111,\"#46039f\"],[0.2222222222222222,\"#7201a8\"],[0.3333333333333333,\"#9c179e\"],[0.4444444444444444,\"#bd3786\"],[0.5555555555555556,\"#d8576b\"],[0.6666666666666666,\"#ed7953\"],[0.7777777777777778,\"#fb9f3a\"],[0.8888888888888888,\"#fdca26\"],[1.0,\"#f0f921\"]]}],\"surface\":[{\"type\":\"surface\",\"colorbar\":{\"outlinewidth\":0,\"ticks\":\"\"},\"colorscale\":[[0.0,\"#0d0887\"],[0.1111111111111111,\"#46039f\"],[0.2222222222222222,\"#7201a8\"],[0.3333333333333333,\"#9c179e\"],[0.4444444444444444,\"#bd3786\"],[0.5555555555555556,\"#d8576b\"],[0.6666666666666666,\"#ed7953\"],[0.7777777777777778,\"#fb9f3a\"],[0.8888888888888888,\"#fdca26\"],[1.0,\"#f0f921\"]]}],\"mesh3d\":[{\"type\":\"mesh3d\",\"colorbar\":{\"outlinewidth\":0,\"ticks\":\"\"}}],\"scatter\":[{\"fillpattern\":{\"fillmode\":\"overlay\",\"size\":10,\"solidity\":0.2},\"type\":\"scatter\"}],\"parcoords\":[{\"type\":\"parcoords\",\"line\":{\"colorbar\":{\"outlinewidth\":0,\"ticks\":\"\"}}}],\"scatterpolargl\":[{\"type\":\"scatterpolargl\",\"marker\":{\"colorbar\":{\"outlinewidth\":0,\"ticks\":\"\"}}}],\"bar\":[{\"error_x\":{\"color\":\"#2a3f5f\"},\"error_y\":{\"color\":\"#2a3f5f\"},\"marker\":{\"line\":{\"color\":\"#E5ECF6\",\"width\":0.5},\"pattern\":{\"fillmode\":\"overlay\",\"size\":10,\"solidity\":0.2}},\"type\":\"bar\"}],\"scattergeo\":[{\"type\":\"scattergeo\",\"marker\":{\"colorbar\":{\"outlinewidth\":0,\"ticks\":\"\"}}}],\"scatterpolar\":[{\"type\":\"scatterpolar\",\"marker\":{\"colorbar\":{\"outlinewidth\":0,\"ticks\":\"\"}}}],\"histogram\":[{\"marker\":{\"pattern\":{\"fillmode\":\"overlay\",\"size\":10,\"solidity\":0.2}},\"type\":\"histogram\"}],\"scattergl\":[{\"type\":\"scattergl\",\"marker\":{\"colorbar\":{\"outlinewidth\":0,\"ticks\":\"\"}}}],\"scatter3d\":[{\"type\":\"scatter3d\",\"line\":{\"colorbar\":{\"outlinewidth\":0,\"ticks\":\"\"}},\"marker\":{\"colorbar\":{\"outlinewidth\":0,\"ticks\":\"\"}}}],\"scattermapbox\":[{\"type\":\"scattermapbox\",\"marker\":{\"colorbar\":{\"outlinewidth\":0,\"ticks\":\"\"}}}],\"scatterternary\":[{\"type\":\"scatterternary\",\"marker\":{\"colorbar\":{\"outlinewidth\":0,\"ticks\":\"\"}}}],\"scattercarpet\":[{\"type\":\"scattercarpet\",\"marker\":{\"colorbar\":{\"outlinewidth\":0,\"ticks\":\"\"}}}],\"carpet\":[{\"aaxis\":{\"endlinecolor\":\"#2a3f5f\",\"gridcolor\":\"white\",\"linecolor\":\"white\",\"minorgridcolor\":\"white\",\"startlinecolor\":\"#2a3f5f\"},\"baxis\":{\"endlinecolor\":\"#2a3f5f\",\"gridcolor\":\"white\",\"linecolor\":\"white\",\"minorgridcolor\":\"white\",\"startlinecolor\":\"#2a3f5f\"},\"type\":\"carpet\"}],\"table\":[{\"cells\":{\"fill\":{\"color\":\"#EBF0F8\"},\"line\":{\"color\":\"white\"}},\"header\":{\"fill\":{\"color\":\"#C8D4E3\"},\"line\":{\"color\":\"white\"}},\"type\":\"table\"}],\"barpolar\":[{\"marker\":{\"line\":{\"color\":\"#E5ECF6\",\"width\":0.5},\"pattern\":{\"fillmode\":\"overlay\",\"size\":10,\"solidity\":0.2}},\"type\":\"barpolar\"}],\"pie\":[{\"automargin\":true,\"type\":\"pie\"}]},\"layout\":{\"autotypenumbers\":\"strict\",\"colorway\":[\"#636efa\",\"#EF553B\",\"#00cc96\",\"#ab63fa\",\"#FFA15A\",\"#19d3f3\",\"#FF6692\",\"#B6E880\",\"#FF97FF\",\"#FECB52\"],\"font\":{\"color\":\"#2a3f5f\"},\"hovermode\":\"closest\",\"hoverlabel\":{\"align\":\"left\"},\"paper_bgcolor\":\"white\",\"plot_bgcolor\":\"#E5ECF6\",\"polar\":{\"bgcolor\":\"#E5ECF6\",\"angularaxis\":{\"gridcolor\":\"white\",\"linecolor\":\"white\",\"ticks\":\"\"},\"radialaxis\":{\"gridcolor\":\"white\",\"linecolor\":\"white\",\"ticks\":\"\"}},\"ternary\":{\"bgcolor\":\"#E5ECF6\",\"aaxis\":{\"gridcolor\":\"white\",\"linecolor\":\"white\",\"ticks\":\"\"},\"baxis\":{\"gridcolor\":\"white\",\"linecolor\":\"white\",\"ticks\":\"\"},\"caxis\":{\"gridcolor\":\"white\",\"linecolor\":\"white\",\"ticks\":\"\"}},\"coloraxis\":{\"colorbar\":{\"outlinewidth\":0,\"ticks\":\"\"}},\"colorscale\":{\"sequential\":[[0.0,\"#0d0887\"],[0.1111111111111111,\"#46039f\"],[0.2222222222222222,\"#7201a8\"],[0.3333333333333333,\"#9c179e\"],[0.4444444444444444,\"#bd3786\"],[0.5555555555555556,\"#d8576b\"],[0.6666666666666666,\"#ed7953\"],[0.7777777777777778,\"#fb9f3a\"],[0.8888888888888888,\"#fdca26\"],[1.0,\"#f0f921\"]],\"sequentialminus\":[[0.0,\"#0d0887\"],[0.1111111111111111,\"#46039f\"],[0.2222222222222222,\"#7201a8\"],[0.3333333333333333,\"#9c179e\"],[0.4444444444444444,\"#bd3786\"],[0.5555555555555556,\"#d8576b\"],[0.6666666666666666,\"#ed7953\"],[0.7777777777777778,\"#fb9f3a\"],[0.8888888888888888,\"#fdca26\"],[1.0,\"#f0f921\"]],\"diverging\":[[0,\"#8e0152\"],[0.1,\"#c51b7d\"],[0.2,\"#de77ae\"],[0.3,\"#f1b6da\"],[0.4,\"#fde0ef\"],[0.5,\"#f7f7f7\"],[0.6,\"#e6f5d0\"],[0.7,\"#b8e186\"],[0.8,\"#7fbc41\"],[0.9,\"#4d9221\"],[1,\"#276419\"]]},\"xaxis\":{\"gridcolor\":\"white\",\"linecolor\":\"white\",\"ticks\":\"\",\"title\":{\"standoff\":15},\"zerolinecolor\":\"white\",\"automargin\":true,\"zerolinewidth\":2},\"yaxis\":{\"gridcolor\":\"white\",\"linecolor\":\"white\",\"ticks\":\"\",\"title\":{\"standoff\":15},\"zerolinecolor\":\"white\",\"automargin\":true,\"zerolinewidth\":2},\"scene\":{\"xaxis\":{\"backgroundcolor\":\"#E5ECF6\",\"gridcolor\":\"white\",\"linecolor\":\"white\",\"showbackground\":true,\"ticks\":\"\",\"zerolinecolor\":\"white\",\"gridwidth\":2},\"yaxis\":{\"backgroundcolor\":\"#E5ECF6\",\"gridcolor\":\"white\",\"linecolor\":\"white\",\"showbackground\":true,\"ticks\":\"\",\"zerolinecolor\":\"white\",\"gridwidth\":2},\"zaxis\":{\"backgroundcolor\":\"#E5ECF6\",\"gridcolor\":\"white\",\"linecolor\":\"white\",\"showbackground\":true,\"ticks\":\"\",\"zerolinecolor\":\"white\",\"gridwidth\":2}},\"shapedefaults\":{\"line\":{\"color\":\"#2a3f5f\"}},\"annotationdefaults\":{\"arrowcolor\":\"#2a3f5f\",\"arrowhead\":0,\"arrowwidth\":1},\"geo\":{\"bgcolor\":\"white\",\"landcolor\":\"#E5ECF6\",\"subunitcolor\":\"white\",\"showland\":true,\"showlakes\":true,\"lakecolor\":\"white\"},\"title\":{\"x\":0.05},\"mapbox\":{\"style\":\"light\"}}},\"xaxis\":{\"anchor\":\"y\",\"domain\":[0.0,1.0],\"title\":{\"text\":\"Topic Number\"}},\"yaxis\":{\"anchor\":\"x\",\"domain\":[0.0,1.0],\"title\":{\"text\":\"Count\"}},\"legend\":{\"tracegroupgap\":0},\"title\":{\"text\":\"Topic Number Counts\"},\"barmode\":\"relative\"},                        {\"responsive\": true}                    ).then(function(){\n",
              "                            \n",
              "var gd = document.getElementById('d62d24fd-b38c-4b9a-9e5a-b8407dc83ce6');\n",
              "var x = new MutationObserver(function (mutations, observer) {{\n",
              "        var display = window.getComputedStyle(gd).display;\n",
              "        if (!display || display === 'none') {{\n",
              "            console.log([gd, 'removed!']);\n",
              "            Plotly.purge(gd);\n",
              "            observer.disconnect();\n",
              "        }}\n",
              "}});\n",
              "\n",
              "// Listen for the removal of the full notebook cells\n",
              "var notebookContainer = gd.closest('#notebook-container');\n",
              "if (notebookContainer) {{\n",
              "    x.observe(notebookContainer, {childList: true});\n",
              "}}\n",
              "\n",
              "// Listen for the clearing of the current output cell\n",
              "var outputEl = gd.closest('.output');\n",
              "if (outputEl) {{\n",
              "    x.observe(outputEl, {childList: true});\n",
              "}}\n",
              "\n",
              "                        })                };                            </script>        </div>\n",
              "</body>\n",
              "</html>"
            ]
          },
          "metadata": {}
        }
      ]
    },
    {
      "cell_type": "markdown",
      "source": [
        "So, the main problems that concern customers in the decline of their importance:\n",
        "- Booking & Travel Logistics\n",
        "- Flight Delays & Ground Support\n",
        "- In-flight Experience & Cabin Comfort\n",
        "- Passenger Service & Baggage"
      ],
      "metadata": {
        "id": "WIY5qrCwkQ9S"
      }
    }
  ]
}